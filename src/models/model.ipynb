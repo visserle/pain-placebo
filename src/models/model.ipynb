{
 "cells": [
  {
   "cell_type": "code",
   "execution_count": 1,
   "metadata": {},
   "outputs": [],
   "source": [
    "%%capture\n",
    "from pathlib import Path\n",
    "\n",
    "if Path.cwd().stem == \"models\":\n",
    "    %cd ../..\n",
    "    %load_ext autoreload\n",
    "    %autoreload 2"
   ]
  },
  {
   "cell_type": "code",
   "execution_count": 2,
   "metadata": {},
   "outputs": [
    {
     "data": {
      "application/javascript": "(function(root) {\n  function now() {\n    return new Date();\n  }\n\n  var force = true;\n  var py_version = '3.4.2'.replace('rc', '-rc.').replace('.dev', '-dev.');\n  var reloading = false;\n  var Bokeh = root.Bokeh;\n\n  if (typeof (root._bokeh_timeout) === \"undefined\" || force) {\n    root._bokeh_timeout = Date.now() + 5000;\n    root._bokeh_failed_load = false;\n  }\n\n  function run_callbacks() {\n    try {\n      root._bokeh_onload_callbacks.forEach(function(callback) {\n        if (callback != null)\n          callback();\n      });\n    } finally {\n      delete root._bokeh_onload_callbacks;\n    }\n    console.debug(\"Bokeh: all callbacks have finished\");\n  }\n\n  function load_libs(css_urls, js_urls, js_modules, js_exports, callback) {\n    if (css_urls == null) css_urls = [];\n    if (js_urls == null) js_urls = [];\n    if (js_modules == null) js_modules = [];\n    if (js_exports == null) js_exports = {};\n\n    root._bokeh_onload_callbacks.push(callback);\n\n    if (root._bokeh_is_loading > 0) {\n      console.debug(\"Bokeh: BokehJS is being loaded, scheduling callback at\", now());\n      return null;\n    }\n    if (js_urls.length === 0 && js_modules.length === 0 && Object.keys(js_exports).length === 0) {\n      run_callbacks();\n      return null;\n    }\n    if (!reloading) {\n      console.debug(\"Bokeh: BokehJS not loaded, scheduling load and callback at\", now());\n    }\n\n    function on_load() {\n      root._bokeh_is_loading--;\n      if (root._bokeh_is_loading === 0) {\n        console.debug(\"Bokeh: all BokehJS libraries/stylesheets loaded\");\n        run_callbacks()\n      }\n    }\n    window._bokeh_on_load = on_load\n\n    function on_error() {\n      console.error(\"failed to load \" + url);\n    }\n\n    var skip = [];\n    if (window.requirejs) {\n      window.requirejs.config({'packages': {}, 'paths': {}, 'shim': {}});\n      root._bokeh_is_loading = css_urls.length + 0;\n    } else {\n      root._bokeh_is_loading = css_urls.length + js_urls.length + js_modules.length + Object.keys(js_exports).length;\n    }\n\n    var existing_stylesheets = []\n    var links = document.getElementsByTagName('link')\n    for (var i = 0; i < links.length; i++) {\n      var link = links[i]\n      if (link.href != null) {\n\texisting_stylesheets.push(link.href)\n      }\n    }\n    for (var i = 0; i < css_urls.length; i++) {\n      var url = css_urls[i];\n      if (existing_stylesheets.indexOf(url) !== -1) {\n\ton_load()\n\tcontinue;\n      }\n      const element = document.createElement(\"link\");\n      element.onload = on_load;\n      element.onerror = on_error;\n      element.rel = \"stylesheet\";\n      element.type = \"text/css\";\n      element.href = url;\n      console.debug(\"Bokeh: injecting link tag for BokehJS stylesheet: \", url);\n      document.body.appendChild(element);\n    }    var existing_scripts = []\n    var scripts = document.getElementsByTagName('script')\n    for (var i = 0; i < scripts.length; i++) {\n      var script = scripts[i]\n      if (script.src != null) {\n\texisting_scripts.push(script.src)\n      }\n    }\n    for (var i = 0; i < js_urls.length; i++) {\n      var url = js_urls[i];\n      if (skip.indexOf(url) !== -1 || existing_scripts.indexOf(url) !== -1) {\n\tif (!window.requirejs) {\n\t  on_load();\n\t}\n\tcontinue;\n      }\n      var element = document.createElement('script');\n      element.onload = on_load;\n      element.onerror = on_error;\n      element.async = false;\n      element.src = url;\n      console.debug(\"Bokeh: injecting script tag for BokehJS library: \", url);\n      document.head.appendChild(element);\n    }\n    for (var i = 0; i < js_modules.length; i++) {\n      var url = js_modules[i];\n      if (skip.indexOf(url) !== -1 || existing_scripts.indexOf(url) !== -1) {\n\tif (!window.requirejs) {\n\t  on_load();\n\t}\n\tcontinue;\n      }\n      var element = document.createElement('script');\n      element.onload = on_load;\n      element.onerror = on_error;\n      element.async = false;\n      element.src = url;\n      element.type = \"module\";\n      console.debug(\"Bokeh: injecting script tag for BokehJS library: \", url);\n      document.head.appendChild(element);\n    }\n    for (const name in js_exports) {\n      var url = js_exports[name];\n      if (skip.indexOf(url) >= 0 || root[name] != null) {\n\tif (!window.requirejs) {\n\t  on_load();\n\t}\n\tcontinue;\n      }\n      var element = document.createElement('script');\n      element.onerror = on_error;\n      element.async = false;\n      element.type = \"module\";\n      console.debug(\"Bokeh: injecting script tag for BokehJS library: \", url);\n      element.textContent = `\n      import ${name} from \"${url}\"\n      window.${name} = ${name}\n      window._bokeh_on_load()\n      `\n      document.head.appendChild(element);\n    }\n    if (!js_urls.length && !js_modules.length) {\n      on_load()\n    }\n  };\n\n  function inject_raw_css(css) {\n    const element = document.createElement(\"style\");\n    element.appendChild(document.createTextNode(css));\n    document.body.appendChild(element);\n  }\n\n  var js_urls = [\"https://cdn.bokeh.org/bokeh/release/bokeh-3.4.2.min.js\", \"https://cdn.bokeh.org/bokeh/release/bokeh-gl-3.4.2.min.js\", \"https://cdn.bokeh.org/bokeh/release/bokeh-widgets-3.4.2.min.js\", \"https://cdn.bokeh.org/bokeh/release/bokeh-tables-3.4.2.min.js\", \"https://cdn.holoviz.org/panel/1.4.4/dist/panel.min.js\"];\n  var js_modules = [];\n  var js_exports = {};\n  var css_urls = [];\n  var inline_js = [    function(Bokeh) {\n      Bokeh.set_log_level(\"info\");\n    },\nfunction(Bokeh) {} // ensure no trailing comma for IE\n  ];\n\n  function run_inline_js() {\n    if ((root.Bokeh !== undefined) || (force === true)) {\n      for (var i = 0; i < inline_js.length; i++) {\n\ttry {\n          inline_js[i].call(root, root.Bokeh);\n\t} catch(e) {\n\t  if (!reloading) {\n\t    throw e;\n\t  }\n\t}\n      }\n      // Cache old bokeh versions\n      if (Bokeh != undefined && !reloading) {\n\tvar NewBokeh = root.Bokeh;\n\tif (Bokeh.versions === undefined) {\n\t  Bokeh.versions = new Map();\n\t}\n\tif (NewBokeh.version !== Bokeh.version) {\n\t  Bokeh.versions.set(NewBokeh.version, NewBokeh)\n\t}\n\troot.Bokeh = Bokeh;\n      }} else if (Date.now() < root._bokeh_timeout) {\n      setTimeout(run_inline_js, 100);\n    } else if (!root._bokeh_failed_load) {\n      console.log(\"Bokeh: BokehJS failed to load within specified timeout.\");\n      root._bokeh_failed_load = true;\n    }\n    root._bokeh_is_initializing = false\n  }\n\n  function load_or_wait() {\n    // Implement a backoff loop that tries to ensure we do not load multiple\n    // versions of Bokeh and its dependencies at the same time.\n    // In recent versions we use the root._bokeh_is_initializing flag\n    // to determine whether there is an ongoing attempt to initialize\n    // bokeh, however for backward compatibility we also try to ensure\n    // that we do not start loading a newer (Panel>=1.0 and Bokeh>3) version\n    // before older versions are fully initialized.\n    if (root._bokeh_is_initializing && Date.now() > root._bokeh_timeout) {\n      root._bokeh_is_initializing = false;\n      root._bokeh_onload_callbacks = undefined;\n      console.log(\"Bokeh: BokehJS was loaded multiple times but one version failed to initialize.\");\n      load_or_wait();\n    } else if (root._bokeh_is_initializing || (typeof root._bokeh_is_initializing === \"undefined\" && root._bokeh_onload_callbacks !== undefined)) {\n      setTimeout(load_or_wait, 100);\n    } else {\n      root._bokeh_is_initializing = true\n      root._bokeh_onload_callbacks = []\n      var bokeh_loaded = Bokeh != null && (Bokeh.version === py_version || (Bokeh.versions !== undefined && Bokeh.versions.has(py_version)));\n      if (!reloading && !bokeh_loaded) {\n\troot.Bokeh = undefined;\n      }\n      load_libs(css_urls, js_urls, js_modules, js_exports, function() {\n\tconsole.debug(\"Bokeh: BokehJS plotting callback run at\", now());\n\trun_inline_js();\n      });\n    }\n  }\n  // Give older versions of the autoload script a head-start to ensure\n  // they initialize before we start loading newer version.\n  setTimeout(load_or_wait, 100)\n}(window));",
      "application/vnd.holoviews_load.v0+json": ""
     },
     "metadata": {},
     "output_type": "display_data"
    },
    {
     "data": {
      "application/javascript": "\nif ((window.PyViz === undefined) || (window.PyViz instanceof HTMLElement)) {\n  window.PyViz = {comms: {}, comm_status:{}, kernels:{}, receivers: {}, plot_index: []}\n}\n\n\n    function JupyterCommManager() {\n    }\n\n    JupyterCommManager.prototype.register_target = function(plot_id, comm_id, msg_handler) {\n      if (window.comm_manager || ((window.Jupyter !== undefined) && (Jupyter.notebook.kernel != null))) {\n        var comm_manager = window.comm_manager || Jupyter.notebook.kernel.comm_manager;\n        comm_manager.register_target(comm_id, function(comm) {\n          comm.on_msg(msg_handler);\n        });\n      } else if ((plot_id in window.PyViz.kernels) && (window.PyViz.kernels[plot_id])) {\n        window.PyViz.kernels[plot_id].registerCommTarget(comm_id, function(comm) {\n          comm.onMsg = msg_handler;\n        });\n      } else if (typeof google != 'undefined' && google.colab.kernel != null) {\n        google.colab.kernel.comms.registerTarget(comm_id, (comm) => {\n          var messages = comm.messages[Symbol.asyncIterator]();\n          function processIteratorResult(result) {\n            var message = result.value;\n            console.log(message)\n            var content = {data: message.data, comm_id};\n            var buffers = []\n            for (var buffer of message.buffers || []) {\n              buffers.push(new DataView(buffer))\n            }\n            var metadata = message.metadata || {};\n            var msg = {content, buffers, metadata}\n            msg_handler(msg);\n            return messages.next().then(processIteratorResult);\n          }\n          return messages.next().then(processIteratorResult);\n        })\n      }\n    }\n\n    JupyterCommManager.prototype.get_client_comm = function(plot_id, comm_id, msg_handler) {\n      if (comm_id in window.PyViz.comms) {\n        return window.PyViz.comms[comm_id];\n      } else if (window.comm_manager || ((window.Jupyter !== undefined) && (Jupyter.notebook.kernel != null))) {\n        var comm_manager = window.comm_manager || Jupyter.notebook.kernel.comm_manager;\n        var comm = comm_manager.new_comm(comm_id, {}, {}, {}, comm_id);\n        if (msg_handler) {\n          comm.on_msg(msg_handler);\n        }\n      } else if ((plot_id in window.PyViz.kernels) && (window.PyViz.kernels[plot_id])) {\n        var comm = window.PyViz.kernels[plot_id].connectToComm(comm_id);\n        comm.open();\n        if (msg_handler) {\n          comm.onMsg = msg_handler;\n        }\n      } else if (typeof google != 'undefined' && google.colab.kernel != null) {\n        var comm_promise = google.colab.kernel.comms.open(comm_id)\n        comm_promise.then((comm) => {\n          window.PyViz.comms[comm_id] = comm;\n          if (msg_handler) {\n            var messages = comm.messages[Symbol.asyncIterator]();\n            function processIteratorResult(result) {\n              var message = result.value;\n              var content = {data: message.data};\n              var metadata = message.metadata || {comm_id};\n              var msg = {content, metadata}\n              msg_handler(msg);\n              return messages.next().then(processIteratorResult);\n            }\n            return messages.next().then(processIteratorResult);\n          }\n        }) \n        var sendClosure = (data, metadata, buffers, disposeOnDone) => {\n          return comm_promise.then((comm) => {\n            comm.send(data, metadata, buffers, disposeOnDone);\n          });\n        };\n        var comm = {\n          send: sendClosure\n        };\n      }\n      window.PyViz.comms[comm_id] = comm;\n      return comm;\n    }\n    window.PyViz.comm_manager = new JupyterCommManager();\n    \n\n\nvar JS_MIME_TYPE = 'application/javascript';\nvar HTML_MIME_TYPE = 'text/html';\nvar EXEC_MIME_TYPE = 'application/vnd.holoviews_exec.v0+json';\nvar CLASS_NAME = 'output';\n\n/**\n * Render data to the DOM node\n */\nfunction render(props, node) {\n  var div = document.createElement(\"div\");\n  var script = document.createElement(\"script\");\n  node.appendChild(div);\n  node.appendChild(script);\n}\n\n/**\n * Handle when a new output is added\n */\nfunction handle_add_output(event, handle) {\n  var output_area = handle.output_area;\n  var output = handle.output;\n  if ((output.data == undefined) || (!output.data.hasOwnProperty(EXEC_MIME_TYPE))) {\n    return\n  }\n  var id = output.metadata[EXEC_MIME_TYPE][\"id\"];\n  var toinsert = output_area.element.find(\".\" + CLASS_NAME.split(' ')[0]);\n  if (id !== undefined) {\n    var nchildren = toinsert.length;\n    var html_node = toinsert[nchildren-1].children[0];\n    html_node.innerHTML = output.data[HTML_MIME_TYPE];\n    var scripts = [];\n    var nodelist = html_node.querySelectorAll(\"script\");\n    for (var i in nodelist) {\n      if (nodelist.hasOwnProperty(i)) {\n        scripts.push(nodelist[i])\n      }\n    }\n\n    scripts.forEach( function (oldScript) {\n      var newScript = document.createElement(\"script\");\n      var attrs = [];\n      var nodemap = oldScript.attributes;\n      for (var j in nodemap) {\n        if (nodemap.hasOwnProperty(j)) {\n          attrs.push(nodemap[j])\n        }\n      }\n      attrs.forEach(function(attr) { newScript.setAttribute(attr.name, attr.value) });\n      newScript.appendChild(document.createTextNode(oldScript.innerHTML));\n      oldScript.parentNode.replaceChild(newScript, oldScript);\n    });\n    if (JS_MIME_TYPE in output.data) {\n      toinsert[nchildren-1].children[1].textContent = output.data[JS_MIME_TYPE];\n    }\n    output_area._hv_plot_id = id;\n    if ((window.Bokeh !== undefined) && (id in Bokeh.index)) {\n      window.PyViz.plot_index[id] = Bokeh.index[id];\n    } else {\n      window.PyViz.plot_index[id] = null;\n    }\n  } else if (output.metadata[EXEC_MIME_TYPE][\"server_id\"] !== undefined) {\n    var bk_div = document.createElement(\"div\");\n    bk_div.innerHTML = output.data[HTML_MIME_TYPE];\n    var script_attrs = bk_div.children[0].attributes;\n    for (var i = 0; i < script_attrs.length; i++) {\n      toinsert[toinsert.length - 1].childNodes[1].setAttribute(script_attrs[i].name, script_attrs[i].value);\n    }\n    // store reference to server id on output_area\n    output_area._bokeh_server_id = output.metadata[EXEC_MIME_TYPE][\"server_id\"];\n  }\n}\n\n/**\n * Handle when an output is cleared or removed\n */\nfunction handle_clear_output(event, handle) {\n  var id = handle.cell.output_area._hv_plot_id;\n  var server_id = handle.cell.output_area._bokeh_server_id;\n  if (((id === undefined) || !(id in PyViz.plot_index)) && (server_id !== undefined)) { return; }\n  var comm = window.PyViz.comm_manager.get_client_comm(\"hv-extension-comm\", \"hv-extension-comm\", function () {});\n  if (server_id !== null) {\n    comm.send({event_type: 'server_delete', 'id': server_id});\n    return;\n  } else if (comm !== null) {\n    comm.send({event_type: 'delete', 'id': id});\n  }\n  delete PyViz.plot_index[id];\n  if ((window.Bokeh !== undefined) & (id in window.Bokeh.index)) {\n    var doc = window.Bokeh.index[id].model.document\n    doc.clear();\n    const i = window.Bokeh.documents.indexOf(doc);\n    if (i > -1) {\n      window.Bokeh.documents.splice(i, 1);\n    }\n  }\n}\n\n/**\n * Handle kernel restart event\n */\nfunction handle_kernel_cleanup(event, handle) {\n  delete PyViz.comms[\"hv-extension-comm\"];\n  window.PyViz.plot_index = {}\n}\n\n/**\n * Handle update_display_data messages\n */\nfunction handle_update_output(event, handle) {\n  handle_clear_output(event, {cell: {output_area: handle.output_area}})\n  handle_add_output(event, handle)\n}\n\nfunction register_renderer(events, OutputArea) {\n  function append_mime(data, metadata, element) {\n    // create a DOM node to render to\n    var toinsert = this.create_output_subarea(\n    metadata,\n    CLASS_NAME,\n    EXEC_MIME_TYPE\n    );\n    this.keyboard_manager.register_events(toinsert);\n    // Render to node\n    var props = {data: data, metadata: metadata[EXEC_MIME_TYPE]};\n    render(props, toinsert[0]);\n    element.append(toinsert);\n    return toinsert\n  }\n\n  events.on('output_added.OutputArea', handle_add_output);\n  events.on('output_updated.OutputArea', handle_update_output);\n  events.on('clear_output.CodeCell', handle_clear_output);\n  events.on('delete.Cell', handle_clear_output);\n  events.on('kernel_ready.Kernel', handle_kernel_cleanup);\n\n  OutputArea.prototype.register_mime_type(EXEC_MIME_TYPE, append_mime, {\n    safe: true,\n    index: 0\n  });\n}\n\nif (window.Jupyter !== undefined) {\n  try {\n    var events = require('base/js/events');\n    var OutputArea = require('notebook/js/outputarea').OutputArea;\n    if (OutputArea.prototype.mime_types().indexOf(EXEC_MIME_TYPE) == -1) {\n      register_renderer(events, OutputArea);\n    }\n  } catch(err) {\n  }\n}\n",
      "application/vnd.holoviews_load.v0+json": ""
     },
     "metadata": {},
     "output_type": "display_data"
    },
    {
     "data": {
      "text/html": [
       "<style>*[data-root-id],\n",
       "*[data-root-id] > * {\n",
       "  box-sizing: border-box;\n",
       "  font-family: var(--jp-ui-font-family);\n",
       "  font-size: var(--jp-ui-font-size1);\n",
       "  color: var(--vscode-editor-foreground, var(--jp-ui-font-color1));\n",
       "}\n",
       "\n",
       "/* Override VSCode background color */\n",
       ".cell-output-ipywidget-background:has(\n",
       "    > .cell-output-ipywidget-background > .lm-Widget > *[data-root-id]\n",
       "  ),\n",
       ".cell-output-ipywidget-background:has(> .lm-Widget > *[data-root-id]) {\n",
       "  background-color: transparent !important;\n",
       "}\n",
       "</style>"
      ]
     },
     "metadata": {},
     "output_type": "display_data"
    },
    {
     "data": {
      "application/vnd.holoviews_exec.v0+json": "",
      "text/html": [
       "<div id='p1002'>\n",
       "  <div id=\"bc83e92b-919c-4285-b9ad-293e73aa8b4d\" data-root-id=\"p1002\" style=\"display: contents;\"></div>\n",
       "</div>\n",
       "<script type=\"application/javascript\">(function(root) {\n",
       "  var docs_json = {\"6a7d2b86-e33a-42a7-b410-15bbacff6779\":{\"version\":\"3.4.2\",\"title\":\"Bokeh Application\",\"roots\":[{\"type\":\"object\",\"name\":\"panel.models.browser.BrowserInfo\",\"id\":\"p1002\"},{\"type\":\"object\",\"name\":\"panel.models.comm_manager.CommManager\",\"id\":\"p1003\",\"attributes\":{\"plot_id\":\"p1002\",\"comm_id\":\"7fc2fcd32f4344f7a7ec9318441aad77\",\"client_comm_id\":\"1dc89c7bf4ee469bb9a4891fd858a525\"}}],\"defs\":[{\"type\":\"model\",\"name\":\"ReactiveHTML1\"},{\"type\":\"model\",\"name\":\"FlexBox1\",\"properties\":[{\"name\":\"align_content\",\"kind\":\"Any\",\"default\":\"flex-start\"},{\"name\":\"align_items\",\"kind\":\"Any\",\"default\":\"flex-start\"},{\"name\":\"flex_direction\",\"kind\":\"Any\",\"default\":\"row\"},{\"name\":\"flex_wrap\",\"kind\":\"Any\",\"default\":\"wrap\"},{\"name\":\"gap\",\"kind\":\"Any\",\"default\":\"\"},{\"name\":\"justify_content\",\"kind\":\"Any\",\"default\":\"flex-start\"}]},{\"type\":\"model\",\"name\":\"FloatPanel1\",\"properties\":[{\"name\":\"config\",\"kind\":\"Any\",\"default\":{\"type\":\"map\"}},{\"name\":\"contained\",\"kind\":\"Any\",\"default\":true},{\"name\":\"position\",\"kind\":\"Any\",\"default\":\"right-top\"},{\"name\":\"offsetx\",\"kind\":\"Any\",\"default\":null},{\"name\":\"offsety\",\"kind\":\"Any\",\"default\":null},{\"name\":\"theme\",\"kind\":\"Any\",\"default\":\"primary\"},{\"name\":\"status\",\"kind\":\"Any\",\"default\":\"normalized\"}]},{\"type\":\"model\",\"name\":\"GridStack1\",\"properties\":[{\"name\":\"mode\",\"kind\":\"Any\",\"default\":\"warn\"},{\"name\":\"ncols\",\"kind\":\"Any\",\"default\":null},{\"name\":\"nrows\",\"kind\":\"Any\",\"default\":null},{\"name\":\"allow_resize\",\"kind\":\"Any\",\"default\":true},{\"name\":\"allow_drag\",\"kind\":\"Any\",\"default\":true},{\"name\":\"state\",\"kind\":\"Any\",\"default\":[]}]},{\"type\":\"model\",\"name\":\"drag1\",\"properties\":[{\"name\":\"slider_width\",\"kind\":\"Any\",\"default\":5},{\"name\":\"slider_color\",\"kind\":\"Any\",\"default\":\"black\"},{\"name\":\"value\",\"kind\":\"Any\",\"default\":50}]},{\"type\":\"model\",\"name\":\"click1\",\"properties\":[{\"name\":\"terminal_output\",\"kind\":\"Any\",\"default\":\"\"},{\"name\":\"debug_name\",\"kind\":\"Any\",\"default\":\"\"},{\"name\":\"clears\",\"kind\":\"Any\",\"default\":0}]},{\"type\":\"model\",\"name\":\"FastWrapper1\",\"properties\":[{\"name\":\"object\",\"kind\":\"Any\",\"default\":null},{\"name\":\"style\",\"kind\":\"Any\",\"default\":null}]},{\"type\":\"model\",\"name\":\"NotificationAreaBase1\",\"properties\":[{\"name\":\"js_events\",\"kind\":\"Any\",\"default\":{\"type\":\"map\"}},{\"name\":\"position\",\"kind\":\"Any\",\"default\":\"bottom-right\"},{\"name\":\"_clear\",\"kind\":\"Any\",\"default\":0}]},{\"type\":\"model\",\"name\":\"NotificationArea1\",\"properties\":[{\"name\":\"js_events\",\"kind\":\"Any\",\"default\":{\"type\":\"map\"}},{\"name\":\"notifications\",\"kind\":\"Any\",\"default\":[]},{\"name\":\"position\",\"kind\":\"Any\",\"default\":\"bottom-right\"},{\"name\":\"_clear\",\"kind\":\"Any\",\"default\":0},{\"name\":\"types\",\"kind\":\"Any\",\"default\":[{\"type\":\"map\",\"entries\":[[\"type\",\"warning\"],[\"background\",\"#ffc107\"],[\"icon\",{\"type\":\"map\",\"entries\":[[\"className\",\"fas fa-exclamation-triangle\"],[\"tagName\",\"i\"],[\"color\",\"white\"]]}]]},{\"type\":\"map\",\"entries\":[[\"type\",\"info\"],[\"background\",\"#007bff\"],[\"icon\",{\"type\":\"map\",\"entries\":[[\"className\",\"fas fa-info-circle\"],[\"tagName\",\"i\"],[\"color\",\"white\"]]}]]}]}]},{\"type\":\"model\",\"name\":\"Notification\",\"properties\":[{\"name\":\"background\",\"kind\":\"Any\",\"default\":null},{\"name\":\"duration\",\"kind\":\"Any\",\"default\":3000},{\"name\":\"icon\",\"kind\":\"Any\",\"default\":null},{\"name\":\"message\",\"kind\":\"Any\",\"default\":\"\"},{\"name\":\"notification_type\",\"kind\":\"Any\",\"default\":null},{\"name\":\"_destroyed\",\"kind\":\"Any\",\"default\":false}]},{\"type\":\"model\",\"name\":\"TemplateActions1\",\"properties\":[{\"name\":\"open_modal\",\"kind\":\"Any\",\"default\":0},{\"name\":\"close_modal\",\"kind\":\"Any\",\"default\":0}]},{\"type\":\"model\",\"name\":\"BootstrapTemplateActions1\",\"properties\":[{\"name\":\"open_modal\",\"kind\":\"Any\",\"default\":0},{\"name\":\"close_modal\",\"kind\":\"Any\",\"default\":0}]},{\"type\":\"model\",\"name\":\"TemplateEditor1\",\"properties\":[{\"name\":\"layout\",\"kind\":\"Any\",\"default\":[]}]},{\"type\":\"model\",\"name\":\"MaterialTemplateActions1\",\"properties\":[{\"name\":\"open_modal\",\"kind\":\"Any\",\"default\":0},{\"name\":\"close_modal\",\"kind\":\"Any\",\"default\":0}]},{\"type\":\"model\",\"name\":\"copy_to_clipboard1\",\"properties\":[{\"name\":\"fill\",\"kind\":\"Any\",\"default\":\"none\"},{\"name\":\"value\",\"kind\":\"Any\",\"default\":null}]}]}};\n",
       "  var render_items = [{\"docid\":\"6a7d2b86-e33a-42a7-b410-15bbacff6779\",\"roots\":{\"p1002\":\"bc83e92b-919c-4285-b9ad-293e73aa8b4d\"},\"root_ids\":[\"p1002\"]}];\n",
       "  var docs = Object.values(docs_json)\n",
       "  if (!docs) {\n",
       "    return\n",
       "  }\n",
       "  const py_version = docs[0].version.replace('rc', '-rc.').replace('.dev', '-dev.')\n",
       "  async function embed_document(root) {\n",
       "    var Bokeh = get_bokeh(root)\n",
       "    await Bokeh.embed.embed_items_notebook(docs_json, render_items);\n",
       "    for (const render_item of render_items) {\n",
       "      for (const root_id of render_item.root_ids) {\n",
       "\tconst id_el = document.getElementById(root_id)\n",
       "\tif (id_el.children.length && id_el.children[0].hasAttribute('data-root-id')) {\n",
       "\t  const root_el = id_el.children[0]\n",
       "\t  root_el.id = root_el.id + '-rendered'\n",
       "\t  for (const child of root_el.children) {\n",
       "            // Ensure JupyterLab does not capture keyboard shortcuts\n",
       "            // see: https://jupyterlab.readthedocs.io/en/4.1.x/extension/notebook.html#keyboard-interaction-model\n",
       "\t    child.setAttribute('data-lm-suppress-shortcuts', 'true')\n",
       "\t  }\n",
       "\t}\n",
       "      }\n",
       "    }\n",
       "  }\n",
       "  function get_bokeh(root) {\n",
       "    if (root.Bokeh === undefined) {\n",
       "      return null\n",
       "    } else if (root.Bokeh.version !== py_version) {\n",
       "      if (root.Bokeh.versions === undefined || !root.Bokeh.versions.has(py_version)) {\n",
       "\treturn null\n",
       "      }\n",
       "      return root.Bokeh.versions.get(py_version);\n",
       "    } else if (root.Bokeh.version === py_version) {\n",
       "      return root.Bokeh\n",
       "    }\n",
       "    return null\n",
       "  }\n",
       "  function is_loaded(root) {\n",
       "    var Bokeh = get_bokeh(root)\n",
       "    return (Bokeh != null && Bokeh.Panel !== undefined)\n",
       "  }\n",
       "  if (is_loaded(root)) {\n",
       "    embed_document(root);\n",
       "  } else {\n",
       "    var attempts = 0;\n",
       "    var timer = setInterval(function(root) {\n",
       "      if (is_loaded(root)) {\n",
       "        clearInterval(timer);\n",
       "        embed_document(root);\n",
       "      } else if (document.readyState == \"complete\") {\n",
       "        attempts++;\n",
       "        if (attempts > 200) {\n",
       "          clearInterval(timer);\n",
       "\t  var Bokeh = get_bokeh(root)\n",
       "\t  if (Bokeh == null || Bokeh.Panel == null) {\n",
       "            console.warn(\"Panel: ERROR: Unable to run Panel code because Bokeh or Panel library is missing\");\n",
       "\t  } else {\n",
       "\t    console.warn(\"Panel: WARNING: Attempting to render but not all required libraries could be resolved.\")\n",
       "\t    embed_document(root)\n",
       "\t  }\n",
       "        }\n",
       "      }\n",
       "    }, 25, root)\n",
       "  }\n",
       "})(window);</script>"
      ]
     },
     "metadata": {
      "application/vnd.holoviews_exec.v0+json": {
       "id": "p1002"
      }
     },
     "output_type": "display_data"
    }
   ],
   "source": [
    "import logging\n",
    "from pathlib import Path\n",
    "\n",
    "import holoviews as hv\n",
    "import hvplot.polars  # noqa\n",
    "import ipywidgets\n",
    "import matplotlib.pyplot as plt\n",
    "import numpy as np\n",
    "import optuna\n",
    "import polars as pl\n",
    "import seaborn as sns\n",
    "import torch\n",
    "import torch.nn as nn\n",
    "import torch.optim as optim\n",
    "from icecream import ic\n",
    "from polars import col\n",
    "from sklearn.metrics import auc, confusion_matrix, roc_curve\n",
    "from sklearn.model_selection import GroupShuffleSplit\n",
    "from torch.utils.data import DataLoader, TensorDataset\n",
    "\n",
    "from src.data.database_manager import DatabaseManager\n",
    "from src.features.labels import add_labels\n",
    "from src.features.resampling import interpolate_and_fill_nulls\n",
    "from src.features.scaling import scale_min_max, scale_robust_standard, scale_standard\n",
    "from src.features.transforming import merge_dfs\n",
    "from src.features.utils import to_describe\n",
    "from src.log_config import configure_logging\n",
    "from src.models.architectures import MultiLayerPerceptron\n",
    "from src.models.data_loader import transform_df_to_arrays\n",
    "from src.models.scalers import StandardScaler3D\n",
    "from src.models.utils import get_device\n",
    "from src.models.visualization import plot_single_model_history\n",
    "\n",
    "configure_logging(\n",
    "    stream_level=logging.DEBUG,\n",
    "    ignore_libs=[\"matplotlib\", \"Comm\", \"bokeh\", \"tornado\"],\n",
    ")\n",
    "\n",
    "pl.Config.set_tbl_rows(12)  # for the 12 trials\n",
    "hv.output(widget_location=\"bottom\", size=130)\n",
    "\n",
    "db = DatabaseManager()"
   ]
  },
  {
   "cell_type": "code",
   "execution_count": 3,
   "metadata": {},
   "outputs": [
    {
     "name": "stdout",
     "output_type": "stream",
     "text": [
      "19:27:26 | \u001b[36mDEBUG   \u001b[0m| root | TODO: find criteria for filtering invalid participants in the exclude_invalid_data kw.\n",
      "19:27:27 | \u001b[36mDEBUG   \u001b[0m| root | TODO: find criteria for filtering invalid participants in the exclude_invalid_data kw.\n",
      "19:27:27 | \u001b[36mDEBUG   \u001b[0m| root | TODO: find criteria for filtering invalid participants in the exclude_invalid_data kw.\n",
      "19:27:27 | \u001b[36mDEBUG   \u001b[0m| root | TODO: find criteria for filtering invalid participants in the exclude_invalid_data kw.\n"
     ]
    }
   ],
   "source": [
    "with db:\n",
    "    stimulus = db.get_table(\"Preprocess_Stimulus\")\n",
    "    eda = db.get_table(\"Preprocess_EDA\")\n",
    "    pupil = db.get_table(\"Feature_Pupil\")\n",
    "    trials = db.get_table(\"Trials\")\n",
    "\n",
    "df = merge_dfs([stimulus, eda, pupil])\n",
    "df = interpolate_and_fill_nulls(df)\n",
    "\n",
    "df = add_labels(df, trials)\n",
    "# TODO: EDA data goes over 180_000, fix it in the preprocessing!"
   ]
  },
  {
   "cell_type": "code",
   "execution_count": 23,
   "metadata": {},
   "outputs": [
    {
     "data": {
      "text/html": [
       "<div><style>\n",
       ".dataframe > thead > tr,\n",
       ".dataframe > tbody > tr {\n",
       "  text-align: right;\n",
       "  white-space: pre-wrap;\n",
       "}\n",
       "</style>\n",
       "<small>shape: (835_628, 7)</small><table border=\"1\" class=\"dataframe\"><thead><tr><th>trial_id</th><th>trial_number</th><th>participant_id</th><th>rownumber</th><th>timestamp</th><th>temperature</th><th>rating</th></tr><tr><td>u16</td><td>u8</td><td>u8</td><td>u32</td><td>f64</td><td>f64</td><td>f64</td></tr></thead><tbody><tr><td>25</td><td>1</td><td>3</td><td>0</td><td>184836.2971</td><td>0.0</td><td>0.93625</td></tr><tr><td>25</td><td>1</td><td>3</td><td>1</td><td>184969.6852</td><td>0.000148</td><td>0.93625</td></tr><tr><td>25</td><td>1</td><td>3</td><td>2</td><td>185069.4183</td><td>0.000593</td><td>0.93625</td></tr><tr><td>25</td><td>1</td><td>3</td><td>3</td><td>185170.1492</td><td>0.001334</td><td>0.93625</td></tr><tr><td>25</td><td>1</td><td>3</td><td>4</td><td>185269.4517</td><td>0.00237</td><td>0.93625</td></tr><tr><td>25</td><td>1</td><td>3</td><td>5</td><td>185369.8286</td><td>0.003702</td><td>0.93625</td></tr><tr><td>&hellip;</td><td>&hellip;</td><td>&hellip;</td><td>&hellip;</td><td>&hellip;</td><td>&hellip;</td><td>&hellip;</td></tr><tr><td>524</td><td>12</td><td>45</td><td>21606</td><td>3.0144e6</td><td>0.343688</td><td>0.0</td></tr><tr><td>524</td><td>12</td><td>45</td><td>21607</td><td>3.0145e6</td><td>0.343059</td><td>0.0</td></tr><tr><td>524</td><td>12</td><td>45</td><td>21608</td><td>3.0146e6</td><td>0.342608</td><td>0.0</td></tr><tr><td>524</td><td>12</td><td>45</td><td>21609</td><td>3.0147e6</td><td>0.342338</td><td>0.0</td></tr><tr><td>524</td><td>12</td><td>45</td><td>21610</td><td>3.0148e6</td><td>0.342248</td><td>0.0</td></tr><tr><td>524</td><td>12</td><td>45</td><td>21611</td><td>3.0149e6</td><td>0.342248</td><td>0.0</td></tr></tbody></table></div>"
      ],
      "text/plain": [
       "shape: (835_628, 7)\n",
       "┌──────────┬──────────────┬────────────────┬───────────┬─────────────┬─────────────┬─────────┐\n",
       "│ trial_id ┆ trial_number ┆ participant_id ┆ rownumber ┆ timestamp   ┆ temperature ┆ rating  │\n",
       "│ ---      ┆ ---          ┆ ---            ┆ ---       ┆ ---         ┆ ---         ┆ ---     │\n",
       "│ u16      ┆ u8           ┆ u8             ┆ u32       ┆ f64         ┆ f64         ┆ f64     │\n",
       "╞══════════╪══════════════╪════════════════╪═══════════╪═════════════╪═════════════╪═════════╡\n",
       "│ 25       ┆ 1            ┆ 3              ┆ 0         ┆ 184836.2971 ┆ 0.0         ┆ 0.93625 │\n",
       "│ 25       ┆ 1            ┆ 3              ┆ 1         ┆ 184969.6852 ┆ 0.000148    ┆ 0.93625 │\n",
       "│ 25       ┆ 1            ┆ 3              ┆ 2         ┆ 185069.4183 ┆ 0.000593    ┆ 0.93625 │\n",
       "│ 25       ┆ 1            ┆ 3              ┆ 3         ┆ 185170.1492 ┆ 0.001334    ┆ 0.93625 │\n",
       "│ 25       ┆ 1            ┆ 3              ┆ 4         ┆ 185269.4517 ┆ 0.00237     ┆ 0.93625 │\n",
       "│ 25       ┆ 1            ┆ 3              ┆ 5         ┆ 185369.8286 ┆ 0.003702    ┆ 0.93625 │\n",
       "│ …        ┆ …            ┆ …              ┆ …         ┆ …           ┆ …           ┆ …       │\n",
       "│ 524      ┆ 12           ┆ 45             ┆ 21606     ┆ 3.0144e6    ┆ 0.343688    ┆ 0.0     │\n",
       "│ 524      ┆ 12           ┆ 45             ┆ 21607     ┆ 3.0145e6    ┆ 0.343059    ┆ 0.0     │\n",
       "│ 524      ┆ 12           ┆ 45             ┆ 21608     ┆ 3.0146e6    ┆ 0.342608    ┆ 0.0     │\n",
       "│ 524      ┆ 12           ┆ 45             ┆ 21609     ┆ 3.0147e6    ┆ 0.342338    ┆ 0.0     │\n",
       "│ 524      ┆ 12           ┆ 45             ┆ 21610     ┆ 3.0148e6    ┆ 0.342248    ┆ 0.0     │\n",
       "│ 524      ┆ 12           ┆ 45             ┆ 21611     ┆ 3.0149e6    ┆ 0.342248    ┆ 0.0     │\n",
       "└──────────┴──────────────┴────────────────┴───────────┴─────────────┴─────────────┴─────────┘"
      ]
     },
     "execution_count": 23,
     "metadata": {},
     "output_type": "execute_result"
    }
   ],
   "source": [
    "stimulus"
   ]
  },
  {
   "cell_type": "code",
   "execution_count": 24,
   "metadata": {},
   "outputs": [
    {
     "data": {
      "text/html": [
       "<div><style>\n",
       ".dataframe > thead > tr,\n",
       ".dataframe > tbody > tr {\n",
       "  text-align: right;\n",
       "  white-space: pre-wrap;\n",
       "}\n",
       "</style>\n",
       "<small>shape: (464, 8)</small><table border=\"1\" class=\"dataframe\"><thead><tr><th>trial_id</th><th>trial_number</th><th>participant_id</th><th>stimulus_seed</th><th>skin_area</th><th>timestamp_start</th><th>timestamp_end</th><th>duration</th></tr><tr><td>u16</td><td>u8</td><td>u8</td><td>u16</td><td>u8</td><td>f64</td><td>f64</td><td>f64</td></tr></thead><tbody><tr><td>25</td><td>1</td><td>3</td><td>658</td><td>1</td><td>184806.3783</td><td>364835.4139</td><td>180029.0356</td></tr><tr><td>26</td><td>2</td><td>3</td><td>870</td><td>2</td><td>417266.6622</td><td>597297.2494</td><td>180030.5872</td></tr><tr><td>27</td><td>3</td><td>3</td><td>265</td><td>3</td><td>643935.2976</td><td>823950.0767</td><td>180014.7791</td></tr><tr><td>28</td><td>4</td><td>3</td><td>952</td><td>4</td><td>885054.8779</td><td>1.0651e6</td><td>180011.7387</td></tr><tr><td>29</td><td>5</td><td>3</td><td>396</td><td>5</td><td>1.1020e6</td><td>1.2820e6</td><td>180011.2174</td></tr><tr><td>30</td><td>6</td><td>3</td><td>467</td><td>6</td><td>1.3250e6</td><td>1.5050e6</td><td>180011.0902</td></tr><tr><td>&hellip;</td><td>&hellip;</td><td>&hellip;</td><td>&hellip;</td><td>&hellip;</td><td>&hellip;</td><td>&hellip;</td><td>&hellip;</td></tr><tr><td>519</td><td>7</td><td>45</td><td>870</td><td>1</td><td>1.6881e6</td><td>1.8682e6</td><td>180027.6545</td></tr><tr><td>520</td><td>8</td><td>45</td><td>133</td><td>2</td><td>1.9048e6</td><td>2.0848e6</td><td>180009.5072</td></tr><tr><td>521</td><td>9</td><td>45</td><td>658</td><td>3</td><td>2.1180e6</td><td>2.2980e6</td><td>180029.9891</td></tr><tr><td>522</td><td>10</td><td>45</td><td>396</td><td>4</td><td>2.3415e6</td><td>2.5215e6</td><td>180012.0661</td></tr><tr><td>523</td><td>11</td><td>45</td><td>952</td><td>5</td><td>2.5576e6</td><td>2.7376e6</td><td>180009.5751</td></tr><tr><td>524</td><td>12</td><td>45</td><td>243</td><td>6</td><td>2.8348e6</td><td>3.0149e6</td><td>180013.3726</td></tr></tbody></table></div>"
      ],
      "text/plain": [
       "shape: (464, 8)\n",
       "┌──────────┬────────────┬────────────┬────────────┬───────────┬────────────┬───────────┬───────────┐\n",
       "│ trial_id ┆ trial_numb ┆ participan ┆ stimulus_s ┆ skin_area ┆ timestamp_ ┆ timestamp ┆ duration  │\n",
       "│ ---      ┆ er         ┆ t_id       ┆ eed        ┆ ---       ┆ start      ┆ _end      ┆ ---       │\n",
       "│ u16      ┆ ---        ┆ ---        ┆ ---        ┆ u8        ┆ ---        ┆ ---       ┆ f64       │\n",
       "│          ┆ u8         ┆ u8         ┆ u16        ┆           ┆ f64        ┆ f64       ┆           │\n",
       "╞══════════╪════════════╪════════════╪════════════╪═══════════╪════════════╪═══════════╪═══════════╡\n",
       "│ 25       ┆ 1          ┆ 3          ┆ 658        ┆ 1         ┆ 184806.378 ┆ 364835.41 ┆ 180029.03 │\n",
       "│          ┆            ┆            ┆            ┆           ┆ 3          ┆ 39        ┆ 56        │\n",
       "│ 26       ┆ 2          ┆ 3          ┆ 870        ┆ 2         ┆ 417266.662 ┆ 597297.24 ┆ 180030.58 │\n",
       "│          ┆            ┆            ┆            ┆           ┆ 2          ┆ 94        ┆ 72        │\n",
       "│ 27       ┆ 3          ┆ 3          ┆ 265        ┆ 3         ┆ 643935.297 ┆ 823950.07 ┆ 180014.77 │\n",
       "│          ┆            ┆            ┆            ┆           ┆ 6          ┆ 67        ┆ 91        │\n",
       "│ 28       ┆ 4          ┆ 3          ┆ 952        ┆ 4         ┆ 885054.877 ┆ 1.0651e6  ┆ 180011.73 │\n",
       "│          ┆            ┆            ┆            ┆           ┆ 9          ┆           ┆ 87        │\n",
       "│ 29       ┆ 5          ┆ 3          ┆ 396        ┆ 5         ┆ 1.1020e6   ┆ 1.2820e6  ┆ 180011.21 │\n",
       "│          ┆            ┆            ┆            ┆           ┆            ┆           ┆ 74        │\n",
       "│ 30       ┆ 6          ┆ 3          ┆ 467        ┆ 6         ┆ 1.3250e6   ┆ 1.5050e6  ┆ 180011.09 │\n",
       "│          ┆            ┆            ┆            ┆           ┆            ┆           ┆ 02        │\n",
       "│ …        ┆ …          ┆ …          ┆ …          ┆ …         ┆ …          ┆ …         ┆ …         │\n",
       "│ 519      ┆ 7          ┆ 45         ┆ 870        ┆ 1         ┆ 1.6881e6   ┆ 1.8682e6  ┆ 180027.65 │\n",
       "│          ┆            ┆            ┆            ┆           ┆            ┆           ┆ 45        │\n",
       "│ 520      ┆ 8          ┆ 45         ┆ 133        ┆ 2         ┆ 1.9048e6   ┆ 2.0848e6  ┆ 180009.50 │\n",
       "│          ┆            ┆            ┆            ┆           ┆            ┆           ┆ 72        │\n",
       "│ 521      ┆ 9          ┆ 45         ┆ 658        ┆ 3         ┆ 2.1180e6   ┆ 2.2980e6  ┆ 180029.98 │\n",
       "│          ┆            ┆            ┆            ┆           ┆            ┆           ┆ 91        │\n",
       "│ 522      ┆ 10         ┆ 45         ┆ 396        ┆ 4         ┆ 2.3415e6   ┆ 2.5215e6  ┆ 180012.06 │\n",
       "│          ┆            ┆            ┆            ┆           ┆            ┆           ┆ 61        │\n",
       "│ 523      ┆ 11         ┆ 45         ┆ 952        ┆ 5         ┆ 2.5576e6   ┆ 2.7376e6  ┆ 180009.57 │\n",
       "│          ┆            ┆            ┆            ┆           ┆            ┆           ┆ 51        │\n",
       "│ 524      ┆ 12         ┆ 45         ┆ 243        ┆ 6         ┆ 2.8348e6   ┆ 3.0149e6  ┆ 180013.37 │\n",
       "│          ┆            ┆            ┆            ┆           ┆            ┆           ┆ 26        │\n",
       "└──────────┴────────────┴────────────┴────────────┴───────────┴────────────┴───────────┴───────────┘"
      ]
     },
     "execution_count": 24,
     "metadata": {},
     "output_type": "execute_result"
    }
   ],
   "source": [
    "trials"
   ]
  },
  {
   "cell_type": "code",
   "execution_count": 25,
   "metadata": {},
   "outputs": [
    {
     "data": {
      "text/html": [
       "<div><style>\n",
       ".dataframe > thead > tr,\n",
       ".dataframe > tbody > tr {\n",
       "  text-align: right;\n",
       "  white-space: pre-wrap;\n",
       "}\n",
       "</style>\n",
       "<small>shape: (9, 27)</small><table border=\"1\" class=\"dataframe\"><thead><tr><th>statistic</th><th>trial_id</th><th>trial_number</th><th>participant_id</th><th>rownumber</th><th>timestamp</th><th>temperature</th><th>rating</th><th>samplenumber</th><th>eda_raw</th><th>eda_tonic</th><th>eda_phasic</th><th>pupil_l_raw</th><th>pupil_r_raw</th><th>pupil_r</th><th>pupil_l</th><th>pupil_mean</th><th>stimulus_seed</th><th>skin_area</th><th>normalized_timestamp</th><th>decreasing_intervals</th><th>major_decreasing_intervals</th><th>increasing_intervals</th><th>strictly_increasing_intervals</th><th>strictly_increasing_intervals_without_plateaus</th><th>plateau_intervals</th><th>prolonged_minima_intervals</th></tr><tr><td>str</td><td>f64</td><td>f64</td><td>f64</td><td>f64</td><td>f64</td><td>f64</td><td>f64</td><td>f64</td><td>f64</td><td>f64</td><td>f64</td><td>f64</td><td>f64</td><td>f64</td><td>f64</td><td>f64</td><td>f64</td><td>f64</td><td>f64</td><td>f64</td><td>f64</td><td>f64</td><td>f64</td><td>f64</td><td>f64</td><td>f64</td></tr></thead><tbody><tr><td>&quot;count&quot;</td><td>1.3894161e7</td><td>1.3894161e7</td><td>1.3894161e7</td><td>835628.0</td><td>1.3894161e7</td><td>1.3894161e7</td><td>1.3894161e7</td><td>8.134527e6</td><td>1.3780847e7</td><td>1.3780847e7</td><td>1.3780847e7</td><td>1.3894161e7</td><td>1.3894161e7</td><td>1.3894161e7</td><td>1.3894161e7</td><td>1.3894161e7</td><td>1.3894161e7</td><td>1.3894161e7</td><td>1.3894161e7</td><td>1.3894161e7</td><td>1.3894161e7</td><td>1.3894161e7</td><td>1.3894161e7</td><td>1.3894161e7</td><td>1.3894161e7</td><td>1.3894161e7</td></tr><tr><td>&quot;null_count&quot;</td><td>0.0</td><td>0.0</td><td>0.0</td><td>1.3058533e7</td><td>0.0</td><td>0.0</td><td>0.0</td><td>5.759634e6</td><td>113314.0</td><td>113314.0</td><td>113314.0</td><td>0.0</td><td>0.0</td><td>0.0</td><td>0.0</td><td>0.0</td><td>0.0</td><td>0.0</td><td>0.0</td><td>0.0</td><td>0.0</td><td>0.0</td><td>0.0</td><td>0.0</td><td>0.0</td><td>0.0</td></tr><tr><td>&quot;mean&quot;</td><td>282.591448</td><td>6.448019</td><td>24.48735</td><td>10742.997524</td><td>1.5541e6</td><td>0.471262</td><td>NaN</td><td>326803.539647</td><td>0.353214</td><td>0.390941</td><td>0.426556</td><td>0.704603</td><td>0.711088</td><td>0.439582</td><td>0.437367</td><td>0.437344</td><td>587.23247</td><td>3.502981</td><td>90004.667569</td><td>539.155447</td><td>231.342243</td><td>585.452203</td><td>322.736288</td><td>133.738403</td><td>77.127609</td><td>6.437549</td></tr><tr><td>&quot;std&quot;</td><td>144.654444</td><td>3.449939</td><td>12.298081</td><td>6226.38405</td><td>793810.016781</td><td>0.284392</td><td>NaN</td><td>111968.973256</td><td>0.244878</td><td>0.27631</td><td>0.152669</td><td>0.207577</td><td>0.204812</td><td>0.227399</td><td>0.225011</td><td>0.224453</td><td>265.120232</td><td>1.709508</td><td>51965.726768</td><td>737.218022</td><td>401.587631</td><td>750.27849</td><td>628.587116</td><td>325.968747</td><td>204.436754</td><td>44.185484</td></tr><tr><td>&quot;min&quot;</td><td>25.0</td><td>1.0</td><td>3.0</td><td>0.0</td><td>26400.4822</td><td>0.0</td><td>0.0</td><td>35329.0</td><td>0.0</td><td>0.0</td><td>0.0</td><td>0.0</td><td>0.0</td><td>0.0</td><td>0.0</td><td>0.0</td><td>133.0</td><td>1.0</td><td>0.0</td><td>0.0</td><td>0.0</td><td>0.0</td><td>0.0</td><td>0.0</td><td>0.0</td><td>0.0</td></tr><tr><td>&quot;25%&quot;</td><td>151.0</td><td>3.0</td><td>13.0</td><td>5356.0</td><td>869160.2965</td><td>0.267112</td><td>0.055802</td><td>235323.0</td><td>0.151824</td><td>0.157745</td><td>0.334789</td><td>0.589015</td><td>0.60353</td><td>0.26556</td><td>0.265845</td><td>0.266121</td><td>265.0</td><td>2.0</td><td>45006.2992</td><td>0.0</td><td>0.0</td><td>0.0</td><td>0.0</td><td>0.0</td><td>0.0</td><td>0.0</td></tr><tr><td>&quot;50%&quot;</td><td>290.0</td><td>6.0</td><td>25.0</td><td>10713.0</td><td>1.5433e6</td><td>0.436876</td><td>0.481281</td><td>325513.0</td><td>0.304196</td><td>0.343133</td><td>0.409092</td><td>0.779214</td><td>0.781496</td><td>0.419833</td><td>0.418216</td><td>0.418293</td><td>658.0</td><td>4.0</td><td>90003.6446</td><td>0.0</td><td>0.0</td><td>29.0</td><td>0.0</td><td>0.0</td><td>0.0</td><td>0.0</td></tr><tr><td>&quot;75%&quot;</td><td>410.0</td><td>9.0</td><td>35.0</td><td>16113.0</td><td>2.2316e6</td><td>0.697988</td><td>0.845425</td><td>415876.0</td><td>0.518519</td><td>0.589843</td><td>0.497717</td><td>0.854722</td><td>0.859082</td><td>0.597571</td><td>0.593752</td><td>0.591709</td><td>806.0</td><td>5.0</td><td>135006.1879</td><td>1064.0</td><td>345.0</td><td>1161.0</td><td>241.0</td><td>0.0</td><td>0.0</td><td>0.0</td></tr><tr><td>&quot;max&quot;</td><td>524.0</td><td>12.0</td><td>45.0</td><td>21611.0</td><td>3.3039e6</td><td>1.0</td><td>1.0</td><td>667701.0</td><td>1.0</td><td>1.0</td><td>1.0</td><td>1.0</td><td>1.0</td><td>1.0</td><td>1.0</td><td>1.0</td><td>952.0</td><td>6.0</td><td>180044.5436</td><td>2320.0</td><td>1392.0</td><td>2320.0</td><td>2320.0</td><td>1392.0</td><td>928.0</td><td>464.0</td></tr></tbody></table></div>"
      ],
      "text/plain": [
       "shape: (9, 27)\n",
       "┌───────────┬───────────┬───────────┬───────────┬───┬───────────┬───────────┬───────────┬──────────┐\n",
       "│ statistic ┆ trial_id  ┆ trial_num ┆ participa ┆ … ┆ strictly_ ┆ strictly_ ┆ plateau_i ┆ prolonge │\n",
       "│ ---       ┆ ---       ┆ ber       ┆ nt_id     ┆   ┆ increasin ┆ increasin ┆ ntervals  ┆ d_minima │\n",
       "│ str       ┆ f64       ┆ ---       ┆ ---       ┆   ┆ g_interva ┆ g_interva ┆ ---       ┆ _interva │\n",
       "│           ┆           ┆ f64       ┆ f64       ┆   ┆ ls        ┆ ls_…      ┆ f64       ┆ ls       │\n",
       "│           ┆           ┆           ┆           ┆   ┆ ---       ┆ ---       ┆           ┆ ---      │\n",
       "│           ┆           ┆           ┆           ┆   ┆ f64       ┆ f64       ┆           ┆ f64      │\n",
       "╞═══════════╪═══════════╪═══════════╪═══════════╪═══╪═══════════╪═══════════╪═══════════╪══════════╡\n",
       "│ count     ┆ 1.3894161 ┆ 1.3894161 ┆ 1.3894161 ┆ … ┆ 1.3894161 ┆ 1.3894161 ┆ 1.3894161 ┆ 1.389416 │\n",
       "│           ┆ e7        ┆ e7        ┆ e7        ┆   ┆ e7        ┆ e7        ┆ e7        ┆ 1e7      │\n",
       "│ null_coun ┆ 0.0       ┆ 0.0       ┆ 0.0       ┆ … ┆ 0.0       ┆ 0.0       ┆ 0.0       ┆ 0.0      │\n",
       "│ t         ┆           ┆           ┆           ┆   ┆           ┆           ┆           ┆          │\n",
       "│ mean      ┆ 282.59144 ┆ 6.448019  ┆ 24.48735  ┆ … ┆ 322.73628 ┆ 133.73840 ┆ 77.127609 ┆ 6.437549 │\n",
       "│           ┆ 8         ┆           ┆           ┆   ┆ 8         ┆ 3         ┆           ┆          │\n",
       "│ std       ┆ 144.65444 ┆ 3.449939  ┆ 12.298081 ┆ … ┆ 628.58711 ┆ 325.96874 ┆ 204.43675 ┆ 44.18548 │\n",
       "│           ┆ 4         ┆           ┆           ┆   ┆ 6         ┆ 7         ┆ 4         ┆ 4        │\n",
       "│ min       ┆ 25.0      ┆ 1.0       ┆ 3.0       ┆ … ┆ 0.0       ┆ 0.0       ┆ 0.0       ┆ 0.0      │\n",
       "│ 25%       ┆ 151.0     ┆ 3.0       ┆ 13.0      ┆ … ┆ 0.0       ┆ 0.0       ┆ 0.0       ┆ 0.0      │\n",
       "│ 50%       ┆ 290.0     ┆ 6.0       ┆ 25.0      ┆ … ┆ 0.0       ┆ 0.0       ┆ 0.0       ┆ 0.0      │\n",
       "│ 75%       ┆ 410.0     ┆ 9.0       ┆ 35.0      ┆ … ┆ 241.0     ┆ 0.0       ┆ 0.0       ┆ 0.0      │\n",
       "│ max       ┆ 524.0     ┆ 12.0      ┆ 45.0      ┆ … ┆ 2320.0    ┆ 1392.0    ┆ 928.0     ┆ 464.0    │\n",
       "└───────────┴───────────┴───────────┴───────────┴───┴───────────┴───────────┴───────────┴──────────┘"
      ]
     },
     "execution_count": 25,
     "metadata": {},
     "output_type": "execute_result"
    }
   ],
   "source": [
    "df.describe()"
   ]
  },
  {
   "cell_type": "code",
   "execution_count": 26,
   "metadata": {},
   "outputs": [
    {
     "name": "stdout",
     "output_type": "stream",
     "text": [
      "19:29:11 | \u001b[1m\u001b[91m\u001b[4mCRITICAL\u001b[0m| root | We are also scaling later on, pls check\n"
     ]
    }
   ],
   "source": [
    "df = scale_min_max(df)\n",
    "logging.fatal(\"We are also scaling later on, pls check\")"
   ]
  },
  {
   "cell_type": "code",
   "execution_count": 27,
   "metadata": {},
   "outputs": [],
   "source": [
    "labels = df.with_columns(\n",
    "    # Add time counter for decreases and strictly increases\n",
    "    (\n",
    "        pl.when(col(\"strictly_increasing_intervals\") != 0)\n",
    "        .then(\n",
    "            col(\"timestamp\")\n",
    "            - col(\"timestamp\").min().over(\"strictly_increasing_intervals\")\n",
    "        )\n",
    "        .otherwise(None)\n",
    "    ).alias(\"normalized_timestamp_increases\"),\n",
    "    (\n",
    "        pl.when(col(\"decreasing_intervals\") != 0)\n",
    "        .then(col(\"timestamp\") - col(\"timestamp\").min().over(\"decreasing_intervals\"))\n",
    "        .otherwise(None)\n",
    "    ).alias(\"normalized_timestamp_decreases\"),\n",
    "    # Only keep the first 5 seconds\n",
    ").filter(\n",
    "    (col(\"normalized_timestamp_increases\") < 5000)\n",
    "    | (col(\"normalized_timestamp_decreases\") < 5000)\n",
    ")"
   ]
  },
  {
   "cell_type": "code",
   "execution_count": 28,
   "metadata": {},
   "outputs": [],
   "source": [
    "# Split data into decreasing and increasing intervals to add labels and sample ids\n",
    "decreases = labels.filter(\n",
    "    col(\"normalized_timestamp_decreases\").is_not_null()\n",
    ").with_columns(\n",
    "    pl.lit(1).alias(\"label\").cast(pl.UInt8),\n",
    "    col(\"decreasing_intervals\").alias(\"sample_id\"),\n",
    ")\n",
    "increases = labels.filter(\n",
    "    col(\"normalized_timestamp_increases\").is_not_null()\n",
    ").with_columns(\n",
    "    pl.lit(0).alias(\"label\").cast(pl.UInt8),\n",
    "    (\n",
    "        col(\"strictly_increasing_intervals\")\n",
    "        + (decreases.select(pl.last(\"decreasing_intervals\")))  # continue from decreases\n",
    "    ).alias(\"sample_id\"),\n",
    ")\n",
    "# Join the two tables back together\n",
    "labels = decreases.vstack(increases).sort(\"sample_id\", \"timestamp\")"
   ]
  },
  {
   "cell_type": "code",
   "execution_count": 29,
   "metadata": {},
   "outputs": [
    {
     "data": {
      "text/plain": [
       "np.float64(823.7058189655172)"
      ]
     },
     "execution_count": 29,
     "metadata": {},
     "output_type": "execute_result"
    }
   ],
   "source": [
    "heights = []\n",
    "for sample_id, group in labels.group_by(\"sample_id\", maintain_order=True):\n",
    "    heights.append(group.height)\n",
    "\n",
    "np.array(heights).mean()"
   ]
  },
  {
   "cell_type": "code",
   "execution_count": 30,
   "metadata": {},
   "outputs": [
    {
     "name": "stdout",
     "output_type": "stream",
     "text": [
      "19:29:16 | \u001b[36mDEBUG   \u001b[0m| root | Normalizing to equal 500 rows per sample was not successful for the following samples: [1496, 1497, 1498, 1499, 1500, 1501, 1502, 1503, 1504, 1505, 1506, 1507, 1508, 1509, 1510, 1511, 1512, 1513, 1514, 1515, 1516, 1517, 1518, 1519, 1520, 1521, 1522, 1523, 1524, 1525, 1526, 1527, 1528, 1529, 1530, 1531, 1532, 1533, 1534, 1535, 1536, 1537, 1538, 1539, 1540, 2337, 2371, 2381, 2387, 2441, 2462, 2481, 2507, 2576, 2597, 2652, 2656, 2676, 2712, 2732, 2776, 2792, 2821, 2842, 2846, 2931, 2957, 2986, 3007, 3042, 3066, 3092, 3126, 3156, 3182, 3206, 3217, 3276, 3292, 3332, 3341, 3407, 3411, 3452, 3496, 3507, 3516, 3572, 3586, 3636, 3647, 3712, 3721, 3742, 3751, 3811, 3816, 3817, 3818, 3819, 3820, 3821, 3822, 3823, 3824, 3825, 3826, 3827, 3828, 3829, 3830, 3831, 3832, 3833, 3834, 3835, 3836, 3837, 3838, 3839, 3840, 3841, 3842, 3843, 3844, 3845, 3846, 3847, 3848, 3849, 3850, 3851, 3852, 3853, 3854, 3855, 3856, 3857, 3858, 3859, 3860, 3897, 3911, 3937, 3951, 4031, 4037, 4076, 4087, 4136, 4147, 4206, 4217, 4236, 4242, 4302, 4316, 4367, 4396, 4412, 4421, 4472, 4501, 4567, 4576, 4632, 4636]\n"
     ]
    }
   ],
   "source": [
    "# Normalize the data\n",
    "ROWS_PER_SAMPLE = 500\n",
    "\n",
    "labels = (\n",
    "    labels.group_by(\"sample_id\", maintain_order=True)\n",
    "    .agg(pl.all().head(ROWS_PER_SAMPLE))\n",
    "    .explode(pl.all().exclude(\"sample_id\"))  # Explode the result back into rows\n",
    ")\n",
    "\n",
    "# Sanity check\n",
    "affected_samples = []\n",
    "if not labels.height == labels.select(pl.last(\"sample_id\")).item() * ROWS_PER_SAMPLE:\n",
    "    for sample_id, group in labels.group_by(\"sample_id\", maintain_order=True):\n",
    "        if group.height < ROWS_PER_SAMPLE or group.height > ROWS_PER_SAMPLE:\n",
    "            affected_samples.append(sample_id[0])  # sample_id is a tuple\n",
    "if affected_samples:\n",
    "    logging.debug(\n",
    "        f\"Normalizing to equal {ROWS_PER_SAMPLE} rows per sample was not successful for the following samples: {affected_samples}\"\n",
    "    )\n",
    "    labels = labels.filter(~col(\"sample_id\").is_in(affected_samples))"
   ]
  },
  {
   "cell_type": "code",
   "execution_count": 31,
   "metadata": {},
   "outputs": [
    {
     "data": {
      "text/html": [
       "<div><style>\n",
       ".dataframe > thead > tr,\n",
       ".dataframe > tbody > tr {\n",
       "  text-align: right;\n",
       "  white-space: pre-wrap;\n",
       "}\n",
       "</style>\n",
       "<small>shape: (2_236_500, 30)</small><table border=\"1\" class=\"dataframe\"><thead><tr><th>sample_id</th><th>trial_id</th><th>trial_number</th><th>participant_id</th><th>rownumber</th><th>timestamp</th><th>temperature</th><th>rating</th><th>samplenumber</th><th>eda_raw</th><th>eda_tonic</th><th>eda_phasic</th><th>pupil_l_raw</th><th>pupil_r_raw</th><th>pupil_r</th><th>pupil_l</th><th>pupil_mean</th><th>stimulus_seed</th><th>skin_area</th><th>normalized_timestamp</th><th>decreasing_intervals</th><th>major_decreasing_intervals</th><th>increasing_intervals</th><th>strictly_increasing_intervals</th><th>strictly_increasing_intervals_without_plateaus</th><th>plateau_intervals</th><th>prolonged_minima_intervals</th><th>normalized_timestamp_increases</th><th>normalized_timestamp_decreases</th><th>label</th></tr><tr><td>u16</td><td>u16</td><td>u8</td><td>u8</td><td>u32</td><td>f64</td><td>f64</td><td>f64</td><td>i64</td><td>f64</td><td>f64</td><td>f64</td><td>f64</td><td>f64</td><td>f64</td><td>f64</td><td>f64</td><td>u16</td><td>u8</td><td>f64</td><td>u16</td><td>u16</td><td>u16</td><td>u16</td><td>u16</td><td>u16</td><td>u16</td><td>f64</td><td>f64</td><td>u8</td></tr></thead><tbody><tr><td>1</td><td>25</td><td>1</td><td>3</td><td>null</td><td>197810.5496</td><td>1.0</td><td>1.0</td><td>206529</td><td>0.626279</td><td>0.617913</td><td>0.410743</td><td>0.841187</td><td>0.918645</td><td>0.922339</td><td>0.90365</td><td>0.913794</td><td>658</td><td>1</td><td>13001.1809</td><td>1</td><td>1</td><td>0</td><td>0</td><td>0</td><td>0</td><td>0</td><td>null</td><td>0.0</td><td>1</td></tr><tr><td>1</td><td>25</td><td>1</td><td>3</td><td>null</td><td>197824.6915</td><td>1.0</td><td>1.0</td><td>null</td><td>0.626279</td><td>0.618112</td><td>0.410173</td><td>0.843226</td><td>0.918026</td><td>0.922073</td><td>0.90367</td><td>0.913659</td><td>658</td><td>1</td><td>13015.3228</td><td>1</td><td>1</td><td>0</td><td>0</td><td>0</td><td>0</td><td>0</td><td>null</td><td>14.1419</td><td>1</td></tr><tr><td>1</td><td>25</td><td>1</td><td>3</td><td>null</td><td>197834.4855</td><td>1.0</td><td>1.0</td><td>206530</td><td>0.626279</td><td>0.618249</td><td>0.409778</td><td>0.843068</td><td>0.917983</td><td>0.9219</td><td>0.903693</td><td>0.913576</td><td>658</td><td>1</td><td>13025.1168</td><td>1</td><td>1</td><td>0</td><td>0</td><td>0</td><td>0</td><td>0</td><td>null</td><td>23.9359</td><td>1</td></tr><tr><td>1</td><td>25</td><td>1</td><td>3</td><td>null</td><td>197835.4829</td><td>1.0</td><td>1.0</td><td>206531</td><td>0.62853</td><td>0.618585</td><td>0.41666</td><td>0.843052</td><td>0.917979</td><td>0.921882</td><td>0.903696</td><td>0.913567</td><td>658</td><td>1</td><td>13026.1142</td><td>1</td><td>1</td><td>0</td><td>0</td><td>0</td><td>0</td><td>0</td><td>null</td><td>24.9333</td><td>1</td></tr><tr><td>1</td><td>25</td><td>1</td><td>3</td><td>null</td><td>197841.3123</td><td>1.0</td><td>1.0</td><td>null</td><td>0.62759</td><td>0.618865</td><td>0.412579</td><td>0.842959</td><td>0.917953</td><td>0.921779</td><td>0.90371</td><td>0.913518</td><td>658</td><td>1</td><td>13031.9436</td><td>1</td><td>1</td><td>0</td><td>0</td><td>0</td><td>0</td><td>0</td><td>null</td><td>30.7627</td><td>1</td></tr><tr><td>1</td><td>25</td><td>1</td><td>3</td><td>null</td><td>197842.4641</td><td>1.0</td><td>1.0</td><td>206533</td><td>0.627404</td><td>0.61892</td><td>0.411773</td><td>0.842898</td><td>0.917931</td><td>0.92176</td><td>0.903714</td><td>0.913509</td><td>658</td><td>1</td><td>13033.0954</td><td>1</td><td>1</td><td>0</td><td>0</td><td>0</td><td>0</td><td>0</td><td>null</td><td>31.9145</td><td>1</td></tr><tr><td>&hellip;</td><td>&hellip;</td><td>&hellip;</td><td>&hellip;</td><td>&hellip;</td><td>&hellip;</td><td>&hellip;</td><td>&hellip;</td><td>&hellip;</td><td>&hellip;</td><td>&hellip;</td><td>&hellip;</td><td>&hellip;</td><td>&hellip;</td><td>&hellip;</td><td>&hellip;</td><td>&hellip;</td><td>&hellip;</td><td>&hellip;</td><td>&hellip;</td><td>&hellip;</td><td>&hellip;</td><td>&hellip;</td><td>&hellip;</td><td>&hellip;</td><td>&hellip;</td><td>&hellip;</td><td>&hellip;</td><td>&hellip;</td><td>&hellip;</td></tr><tr><td>4640</td><td>524</td><td>12</td><td>45</td><td>null</td><td>2.9888e6</td><td>0.105022</td><td>0.00896</td><td>null</td><td>0.055399</td><td>0.021496</td><td>0.444604</td><td>0.797988</td><td>0.788182</td><td>0.063529</td><td>0.059706</td><td>0.061487</td><td>243</td><td>6</td><td>153962.1456</td><td>0</td><td>0</td><td>2320</td><td>2320</td><td>1392</td><td>0</td><td>0</td><td>2960.3996</td><td>null</td><td>0</td></tr><tr><td>4640</td><td>524</td><td>12</td><td>45</td><td>null</td><td>2.9888e6</td><td>0.105152</td><td>0.009098</td><td>498880</td><td>0.056738</td><td>0.021483</td><td>0.448105</td><td>0.797995</td><td>0.787858</td><td>0.063514</td><td>0.059651</td><td>0.061451</td><td>243</td><td>6</td><td>153967.414</td><td>0</td><td>0</td><td>2320</td><td>2320</td><td>1392</td><td>0</td><td>0</td><td>2965.668</td><td>null</td><td>0</td></tr><tr><td>4640</td><td>524</td><td>12</td><td>45</td><td>null</td><td>2.9888e6</td><td>0.105177</td><td>0.009124</td><td>498881</td><td>0.053191</td><td>0.021449</td><td>0.438971</td><td>0.797997</td><td>0.787796</td><td>0.063511</td><td>0.059641</td><td>0.061445</td><td>243</td><td>6</td><td>153968.4124</td><td>0</td><td>0</td><td>2320</td><td>2320</td><td>1392</td><td>0</td><td>0</td><td>2966.6664</td><td>null</td><td>0</td></tr><tr><td>4640</td><td>524</td><td>12</td><td>45</td><td>null</td><td>2.9888e6</td><td>0.105434</td><td>0.009396</td><td>null</td><td>0.05582</td><td>0.021425</td><td>0.445849</td><td>0.798012</td><td>0.787158</td><td>0.063482</td><td>0.059533</td><td>0.061375</td><td>243</td><td>6</td><td>153978.7632</td><td>0</td><td>0</td><td>2320</td><td>2320</td><td>1392</td><td>0</td><td>0</td><td>2977.0172</td><td>null</td><td>0</td></tr><tr><td>4640</td><td>524</td><td>12</td><td>45</td><td>null</td><td>2.9888e6</td><td>0.105524</td><td>0.00949</td><td>498882</td><td>0.056738</td><td>0.021416</td><td>0.448248</td><td>0.79767</td><td>0.787153</td><td>0.063471</td><td>0.059497</td><td>0.061352</td><td>243</td><td>6</td><td>153982.374</td><td>0</td><td>0</td><td>2320</td><td>2320</td><td>1392</td><td>0</td><td>0</td><td>2980.628</td><td>null</td><td>0</td></tr><tr><td>4640</td><td>524</td><td>12</td><td>45</td><td>null</td><td>2.9888e6</td><td>0.105845</td><td>0.00983</td><td>498883</td><td>0.053191</td><td>0.021383</td><td>0.439112</td><td>0.796441</td><td>0.787133</td><td>0.063433</td><td>0.059367</td><td>0.061267</td><td>243</td><td>6</td><td>153995.3405</td><td>0</td><td>0</td><td>2320</td><td>2320</td><td>1392</td><td>0</td><td>0</td><td>2993.5945</td><td>null</td><td>0</td></tr></tbody></table></div>"
      ],
      "text/plain": [
       "shape: (2_236_500, 30)\n",
       "┌───────────┬──────────┬────────────┬────────────┬───┬────────────┬────────────┬───────────┬───────┐\n",
       "│ sample_id ┆ trial_id ┆ trial_numb ┆ participan ┆ … ┆ prolonged_ ┆ normalized ┆ normalize ┆ label │\n",
       "│ ---       ┆ ---      ┆ er         ┆ t_id       ┆   ┆ minima_int ┆ _timestamp ┆ d_timesta ┆ ---   │\n",
       "│ u16       ┆ u16      ┆ ---        ┆ ---        ┆   ┆ ervals     ┆ _increases ┆ mp_decrea ┆ u8    │\n",
       "│           ┆          ┆ u8         ┆ u8         ┆   ┆ ---        ┆ ---        ┆ ses       ┆       │\n",
       "│           ┆          ┆            ┆            ┆   ┆ u16        ┆ f64        ┆ ---       ┆       │\n",
       "│           ┆          ┆            ┆            ┆   ┆            ┆            ┆ f64       ┆       │\n",
       "╞═══════════╪══════════╪════════════╪════════════╪═══╪════════════╪════════════╪═══════════╪═══════╡\n",
       "│ 1         ┆ 25       ┆ 1          ┆ 3          ┆ … ┆ 0          ┆ null       ┆ 0.0       ┆ 1     │\n",
       "│ 1         ┆ 25       ┆ 1          ┆ 3          ┆ … ┆ 0          ┆ null       ┆ 14.1419   ┆ 1     │\n",
       "│ 1         ┆ 25       ┆ 1          ┆ 3          ┆ … ┆ 0          ┆ null       ┆ 23.9359   ┆ 1     │\n",
       "│ 1         ┆ 25       ┆ 1          ┆ 3          ┆ … ┆ 0          ┆ null       ┆ 24.9333   ┆ 1     │\n",
       "│ 1         ┆ 25       ┆ 1          ┆ 3          ┆ … ┆ 0          ┆ null       ┆ 30.7627   ┆ 1     │\n",
       "│ 1         ┆ 25       ┆ 1          ┆ 3          ┆ … ┆ 0          ┆ null       ┆ 31.9145   ┆ 1     │\n",
       "│ …         ┆ …        ┆ …          ┆ …          ┆ … ┆ …          ┆ …          ┆ …         ┆ …     │\n",
       "│ 4640      ┆ 524      ┆ 12         ┆ 45         ┆ … ┆ 0          ┆ 2960.3996  ┆ null      ┆ 0     │\n",
       "│ 4640      ┆ 524      ┆ 12         ┆ 45         ┆ … ┆ 0          ┆ 2965.668   ┆ null      ┆ 0     │\n",
       "│ 4640      ┆ 524      ┆ 12         ┆ 45         ┆ … ┆ 0          ┆ 2966.6664  ┆ null      ┆ 0     │\n",
       "│ 4640      ┆ 524      ┆ 12         ┆ 45         ┆ … ┆ 0          ┆ 2977.0172  ┆ null      ┆ 0     │\n",
       "│ 4640      ┆ 524      ┆ 12         ┆ 45         ┆ … ┆ 0          ┆ 2980.628   ┆ null      ┆ 0     │\n",
       "│ 4640      ┆ 524      ┆ 12         ┆ 45         ┆ … ┆ 0          ┆ 2993.5945  ┆ null      ┆ 0     │\n",
       "└───────────┴──────────┴────────────┴────────────┴───┴────────────┴────────────┴───────────┴───────┘"
      ]
     },
     "execution_count": 31,
     "metadata": {},
     "output_type": "execute_result"
    }
   ],
   "source": [
    "labels"
   ]
  },
  {
   "cell_type": "code",
   "execution_count": 32,
   "metadata": {},
   "outputs": [
    {
     "data": {
      "text/html": [
       "<div><style>\n",
       ".dataframe > thead > tr,\n",
       ".dataframe > tbody > tr {\n",
       "  text-align: right;\n",
       "  white-space: pre-wrap;\n",
       "}\n",
       "</style>\n",
       "<small>shape: (2_236_500, 9)</small><table border=\"1\" class=\"dataframe\"><thead><tr><th>sample_id</th><th>participant_id</th><th>rating</th><th>temperature</th><th>eda_raw</th><th>eda_tonic</th><th>eda_phasic</th><th>pupil_mean</th><th>label</th></tr><tr><td>u16</td><td>u8</td><td>f64</td><td>f64</td><td>f64</td><td>f64</td><td>f64</td><td>f64</td><td>u8</td></tr></thead><tbody><tr><td>1</td><td>3</td><td>1.0</td><td>1.0</td><td>0.626279</td><td>0.617913</td><td>0.410743</td><td>0.913794</td><td>1</td></tr><tr><td>1</td><td>3</td><td>1.0</td><td>1.0</td><td>0.626279</td><td>0.618112</td><td>0.410173</td><td>0.913659</td><td>1</td></tr><tr><td>1</td><td>3</td><td>1.0</td><td>1.0</td><td>0.626279</td><td>0.618249</td><td>0.409778</td><td>0.913576</td><td>1</td></tr><tr><td>1</td><td>3</td><td>1.0</td><td>1.0</td><td>0.62853</td><td>0.618585</td><td>0.41666</td><td>0.913567</td><td>1</td></tr><tr><td>1</td><td>3</td><td>1.0</td><td>1.0</td><td>0.62759</td><td>0.618865</td><td>0.412579</td><td>0.913518</td><td>1</td></tr><tr><td>1</td><td>3</td><td>1.0</td><td>1.0</td><td>0.627404</td><td>0.61892</td><td>0.411773</td><td>0.913509</td><td>1</td></tr><tr><td>&hellip;</td><td>&hellip;</td><td>&hellip;</td><td>&hellip;</td><td>&hellip;</td><td>&hellip;</td><td>&hellip;</td><td>&hellip;</td><td>&hellip;</td></tr><tr><td>4640</td><td>45</td><td>0.00896</td><td>0.105022</td><td>0.055399</td><td>0.021496</td><td>0.444604</td><td>0.061487</td><td>0</td></tr><tr><td>4640</td><td>45</td><td>0.009098</td><td>0.105152</td><td>0.056738</td><td>0.021483</td><td>0.448105</td><td>0.061451</td><td>0</td></tr><tr><td>4640</td><td>45</td><td>0.009124</td><td>0.105177</td><td>0.053191</td><td>0.021449</td><td>0.438971</td><td>0.061445</td><td>0</td></tr><tr><td>4640</td><td>45</td><td>0.009396</td><td>0.105434</td><td>0.05582</td><td>0.021425</td><td>0.445849</td><td>0.061375</td><td>0</td></tr><tr><td>4640</td><td>45</td><td>0.00949</td><td>0.105524</td><td>0.056738</td><td>0.021416</td><td>0.448248</td><td>0.061352</td><td>0</td></tr><tr><td>4640</td><td>45</td><td>0.00983</td><td>0.105845</td><td>0.053191</td><td>0.021383</td><td>0.439112</td><td>0.061267</td><td>0</td></tr></tbody></table></div>"
      ],
      "text/plain": [
       "shape: (2_236_500, 9)\n",
       "┌───────────┬────────────┬──────────┬────────────┬───┬───────────┬────────────┬────────────┬───────┐\n",
       "│ sample_id ┆ participan ┆ rating   ┆ temperatur ┆ … ┆ eda_tonic ┆ eda_phasic ┆ pupil_mean ┆ label │\n",
       "│ ---       ┆ t_id       ┆ ---      ┆ e          ┆   ┆ ---       ┆ ---        ┆ ---        ┆ ---   │\n",
       "│ u16       ┆ ---        ┆ f64      ┆ ---        ┆   ┆ f64       ┆ f64        ┆ f64        ┆ u8    │\n",
       "│           ┆ u8         ┆          ┆ f64        ┆   ┆           ┆            ┆            ┆       │\n",
       "╞═══════════╪════════════╪══════════╪════════════╪═══╪═══════════╪════════════╪════════════╪═══════╡\n",
       "│ 1         ┆ 3          ┆ 1.0      ┆ 1.0        ┆ … ┆ 0.617913  ┆ 0.410743   ┆ 0.913794   ┆ 1     │\n",
       "│ 1         ┆ 3          ┆ 1.0      ┆ 1.0        ┆ … ┆ 0.618112  ┆ 0.410173   ┆ 0.913659   ┆ 1     │\n",
       "│ 1         ┆ 3          ┆ 1.0      ┆ 1.0        ┆ … ┆ 0.618249  ┆ 0.409778   ┆ 0.913576   ┆ 1     │\n",
       "│ 1         ┆ 3          ┆ 1.0      ┆ 1.0        ┆ … ┆ 0.618585  ┆ 0.41666    ┆ 0.913567   ┆ 1     │\n",
       "│ 1         ┆ 3          ┆ 1.0      ┆ 1.0        ┆ … ┆ 0.618865  ┆ 0.412579   ┆ 0.913518   ┆ 1     │\n",
       "│ 1         ┆ 3          ┆ 1.0      ┆ 1.0        ┆ … ┆ 0.61892   ┆ 0.411773   ┆ 0.913509   ┆ 1     │\n",
       "│ …         ┆ …          ┆ …        ┆ …          ┆ … ┆ …         ┆ …          ┆ …          ┆ …     │\n",
       "│ 4640      ┆ 45         ┆ 0.00896  ┆ 0.105022   ┆ … ┆ 0.021496  ┆ 0.444604   ┆ 0.061487   ┆ 0     │\n",
       "│ 4640      ┆ 45         ┆ 0.009098 ┆ 0.105152   ┆ … ┆ 0.021483  ┆ 0.448105   ┆ 0.061451   ┆ 0     │\n",
       "│ 4640      ┆ 45         ┆ 0.009124 ┆ 0.105177   ┆ … ┆ 0.021449  ┆ 0.438971   ┆ 0.061445   ┆ 0     │\n",
       "│ 4640      ┆ 45         ┆ 0.009396 ┆ 0.105434   ┆ … ┆ 0.021425  ┆ 0.445849   ┆ 0.061375   ┆ 0     │\n",
       "│ 4640      ┆ 45         ┆ 0.00949  ┆ 0.105524   ┆ … ┆ 0.021416  ┆ 0.448248   ┆ 0.061352   ┆ 0     │\n",
       "│ 4640      ┆ 45         ┆ 0.00983  ┆ 0.105845   ┆ … ┆ 0.021383  ┆ 0.439112   ┆ 0.061267   ┆ 0     │\n",
       "└───────────┴────────────┴──────────┴────────────┴───┴───────────┴────────────┴────────────┴───────┘"
      ]
     },
     "execution_count": 32,
     "metadata": {},
     "output_type": "execute_result"
    }
   ],
   "source": [
    "labels = labels.select(\n",
    "    \"sample_id\",\n",
    "    \"participant_id\",\n",
    "    \"rating\",\n",
    "    \"temperature\",\n",
    "    \"eda_raw\",\n",
    "    \"eda_tonic\",\n",
    "    \"eda_phasic\",\n",
    "    \"pupil_mean\",\n",
    "    \"label\",\n",
    ")\n",
    "labels"
   ]
  },
  {
   "cell_type": "code",
   "execution_count": 33,
   "metadata": {},
   "outputs": [
    {
     "data": {
      "text/html": [
       "<div><style>\n",
       ".dataframe > thead > tr,\n",
       ".dataframe > tbody > tr {\n",
       "  text-align: right;\n",
       "  white-space: pre-wrap;\n",
       "}\n",
       "</style>\n",
       "<small>shape: (2, 2)</small><table border=\"1\" class=\"dataframe\"><thead><tr><th>label</th><th>count</th></tr><tr><td>u8</td><td>u32</td></tr></thead><tbody><tr><td>1</td><td>1137500</td></tr><tr><td>0</td><td>1099000</td></tr></tbody></table></div>"
      ],
      "text/plain": [
       "shape: (2, 2)\n",
       "┌───────┬─────────┐\n",
       "│ label ┆ count   │\n",
       "│ ---   ┆ ---     │\n",
       "│ u8    ┆ u32     │\n",
       "╞═══════╪═════════╡\n",
       "│ 1     ┆ 1137500 │\n",
       "│ 0     ┆ 1099000 │\n",
       "└───────┴─────────┘"
      ]
     },
     "execution_count": 33,
     "metadata": {},
     "output_type": "execute_result"
    }
   ],
   "source": [
    "labels[\"label\"].value_counts()"
   ]
  },
  {
   "cell_type": "code",
   "execution_count": 34,
   "metadata": {},
   "outputs": [
    {
     "data": {
      "text/plain": [
       "0.5173982260632249"
      ]
     },
     "execution_count": 34,
     "metadata": {},
     "output_type": "execute_result"
    }
   ],
   "source": [
    "1137500 / (1137500 + 1061000)"
   ]
  },
  {
   "cell_type": "code",
   "execution_count": 35,
   "metadata": {},
   "outputs": [
    {
     "data": {
      "text/html": [
       "<div><style>\n",
       ".dataframe > thead > tr,\n",
       ".dataframe > tbody > tr {\n",
       "  text-align: right;\n",
       "  white-space: pre-wrap;\n",
       "}\n",
       "</style>\n",
       "<small>shape: (2_236_500, 9)</small><table border=\"1\" class=\"dataframe\"><thead><tr><th>sample_id</th><th>participant_id</th><th>rating</th><th>temperature</th><th>eda_raw</th><th>eda_tonic</th><th>eda_phasic</th><th>pupil_mean</th><th>label</th></tr><tr><td>u16</td><td>u8</td><td>f64</td><td>f64</td><td>f64</td><td>f64</td><td>f64</td><td>f64</td><td>u8</td></tr></thead><tbody><tr><td>1</td><td>3</td><td>1.0</td><td>1.0</td><td>0.626279</td><td>0.617913</td><td>0.410743</td><td>0.913794</td><td>1</td></tr><tr><td>1</td><td>3</td><td>1.0</td><td>1.0</td><td>0.626279</td><td>0.618112</td><td>0.410173</td><td>0.913659</td><td>1</td></tr><tr><td>1</td><td>3</td><td>1.0</td><td>1.0</td><td>0.626279</td><td>0.618249</td><td>0.409778</td><td>0.913576</td><td>1</td></tr><tr><td>1</td><td>3</td><td>1.0</td><td>1.0</td><td>0.62853</td><td>0.618585</td><td>0.41666</td><td>0.913567</td><td>1</td></tr><tr><td>1</td><td>3</td><td>1.0</td><td>1.0</td><td>0.62759</td><td>0.618865</td><td>0.412579</td><td>0.913518</td><td>1</td></tr><tr><td>1</td><td>3</td><td>1.0</td><td>1.0</td><td>0.627404</td><td>0.61892</td><td>0.411773</td><td>0.913509</td><td>1</td></tr><tr><td>&hellip;</td><td>&hellip;</td><td>&hellip;</td><td>&hellip;</td><td>&hellip;</td><td>&hellip;</td><td>&hellip;</td><td>&hellip;</td><td>&hellip;</td></tr><tr><td>4640</td><td>45</td><td>0.00896</td><td>0.105022</td><td>0.055399</td><td>0.021496</td><td>0.444604</td><td>0.061487</td><td>0</td></tr><tr><td>4640</td><td>45</td><td>0.009098</td><td>0.105152</td><td>0.056738</td><td>0.021483</td><td>0.448105</td><td>0.061451</td><td>0</td></tr><tr><td>4640</td><td>45</td><td>0.009124</td><td>0.105177</td><td>0.053191</td><td>0.021449</td><td>0.438971</td><td>0.061445</td><td>0</td></tr><tr><td>4640</td><td>45</td><td>0.009396</td><td>0.105434</td><td>0.05582</td><td>0.021425</td><td>0.445849</td><td>0.061375</td><td>0</td></tr><tr><td>4640</td><td>45</td><td>0.00949</td><td>0.105524</td><td>0.056738</td><td>0.021416</td><td>0.448248</td><td>0.061352</td><td>0</td></tr><tr><td>4640</td><td>45</td><td>0.00983</td><td>0.105845</td><td>0.053191</td><td>0.021383</td><td>0.439112</td><td>0.061267</td><td>0</td></tr></tbody></table></div>"
      ],
      "text/plain": [
       "shape: (2_236_500, 9)\n",
       "┌───────────┬────────────┬──────────┬────────────┬───┬───────────┬────────────┬────────────┬───────┐\n",
       "│ sample_id ┆ participan ┆ rating   ┆ temperatur ┆ … ┆ eda_tonic ┆ eda_phasic ┆ pupil_mean ┆ label │\n",
       "│ ---       ┆ t_id       ┆ ---      ┆ e          ┆   ┆ ---       ┆ ---        ┆ ---        ┆ ---   │\n",
       "│ u16       ┆ ---        ┆ f64      ┆ ---        ┆   ┆ f64       ┆ f64        ┆ f64        ┆ u8    │\n",
       "│           ┆ u8         ┆          ┆ f64        ┆   ┆           ┆            ┆            ┆       │\n",
       "╞═══════════╪════════════╪══════════╪════════════╪═══╪═══════════╪════════════╪════════════╪═══════╡\n",
       "│ 1         ┆ 3          ┆ 1.0      ┆ 1.0        ┆ … ┆ 0.617913  ┆ 0.410743   ┆ 0.913794   ┆ 1     │\n",
       "│ 1         ┆ 3          ┆ 1.0      ┆ 1.0        ┆ … ┆ 0.618112  ┆ 0.410173   ┆ 0.913659   ┆ 1     │\n",
       "│ 1         ┆ 3          ┆ 1.0      ┆ 1.0        ┆ … ┆ 0.618249  ┆ 0.409778   ┆ 0.913576   ┆ 1     │\n",
       "│ 1         ┆ 3          ┆ 1.0      ┆ 1.0        ┆ … ┆ 0.618585  ┆ 0.41666    ┆ 0.913567   ┆ 1     │\n",
       "│ 1         ┆ 3          ┆ 1.0      ┆ 1.0        ┆ … ┆ 0.618865  ┆ 0.412579   ┆ 0.913518   ┆ 1     │\n",
       "│ 1         ┆ 3          ┆ 1.0      ┆ 1.0        ┆ … ┆ 0.61892   ┆ 0.411773   ┆ 0.913509   ┆ 1     │\n",
       "│ …         ┆ …          ┆ …        ┆ …          ┆ … ┆ …         ┆ …          ┆ …          ┆ …     │\n",
       "│ 4640      ┆ 45         ┆ 0.00896  ┆ 0.105022   ┆ … ┆ 0.021496  ┆ 0.444604   ┆ 0.061487   ┆ 0     │\n",
       "│ 4640      ┆ 45         ┆ 0.009098 ┆ 0.105152   ┆ … ┆ 0.021483  ┆ 0.448105   ┆ 0.061451   ┆ 0     │\n",
       "│ 4640      ┆ 45         ┆ 0.009124 ┆ 0.105177   ┆ … ┆ 0.021449  ┆ 0.438971   ┆ 0.061445   ┆ 0     │\n",
       "│ 4640      ┆ 45         ┆ 0.009396 ┆ 0.105434   ┆ … ┆ 0.021425  ┆ 0.445849   ┆ 0.061375   ┆ 0     │\n",
       "│ 4640      ┆ 45         ┆ 0.00949  ┆ 0.105524   ┆ … ┆ 0.021416  ┆ 0.448248   ┆ 0.061352   ┆ 0     │\n",
       "│ 4640      ┆ 45         ┆ 0.00983  ┆ 0.105845   ┆ … ┆ 0.021383  ┆ 0.439112   ┆ 0.061267   ┆ 0     │\n",
       "└───────────┴────────────┴──────────┴────────────┴───┴───────────┴────────────┴────────────┴───────┘"
      ]
     },
     "execution_count": 35,
     "metadata": {},
     "output_type": "execute_result"
    }
   ],
   "source": [
    "labels"
   ]
  },
  {
   "cell_type": "code",
   "execution_count": null,
   "metadata": {},
   "outputs": [
    {
     "data": {
      "application/vnd.jupyter.widget-view+json": {
       "model_id": "5c2e2bb6a416477fa7864bbb8a5d4c91",
       "version_major": 2,
       "version_minor": 0
      },
      "text/plain": [
       "interactive(children=(IntSlider(value=2236, description='trial', max=4472), Output()), _dom_classes=('widget-i…"
      ]
     },
     "metadata": {},
     "output_type": "display_data"
    }
   ],
   "source": [
    "X, y, groups = transform_df_to_arrays(\n",
    "    labels,\n",
    "    [\n",
    "        # \"temperature\",  # only for visualization\n",
    "        \"rating\"\n",
    "        # \"eda_raw\",\n",
    "        # \"eda_tonic\",\n",
    "        # \"pupil_mean\",\n",
    "    ],\n",
    ")\n",
    "\n",
    "\n",
    "@ipywidgets.interact(trial=(0, X.shape[0] - 1))\n",
    "def plot_trial(trial):\n",
    "    for i in range(X.shape[2]):\n",
    "        plt.plot(X[trial, :, i])\n",
    "    plt.ylim(0, 1)"
   ]
  },
  {
   "cell_type": "code",
   "execution_count": null,
   "metadata": {},
   "outputs": [],
   "source": []
  },
  {
   "cell_type": "code",
   "execution_count": 37,
   "metadata": {},
   "outputs": [
    {
     "data": {
      "text/plain": [
       "(4473, 500, 1)"
      ]
     },
     "execution_count": 37,
     "metadata": {},
     "output_type": "execute_result"
    }
   ],
   "source": [
    "X.shape"
   ]
  },
  {
   "cell_type": "code",
   "execution_count": 38,
   "metadata": {},
   "outputs": [],
   "source": [
    "# np.save(\"data/x.npy\", x)\n",
    "# np.save(\"data/y.npy\", y)\n",
    "# np.save(\"data/groups.npy\", groups)"
   ]
  },
  {
   "cell_type": "code",
   "execution_count": 39,
   "metadata": {},
   "outputs": [],
   "source": [
    "# Create a single train-test split while respecting group structure in the data\n",
    "splitter = GroupShuffleSplit(n_splits=1, test_size=0.5, random_state=42)\n",
    "train_idx, test_idx = next(splitter.split(X, y, groups=groups))\n",
    "assert set(groups[train_idx]).isdisjoint(set(groups[test_idx])), \"Overlap in groups\"\n",
    "X_train, y_train = X[train_idx], y[train_idx]\n",
    "X_test, y_test = X[test_idx], y[test_idx]\n"
   ]
  },
  {
   "cell_type": "code",
   "execution_count": 44,
   "metadata": {},
   "outputs": [
    {
     "data": {
      "text/plain": [
       "np.True_"
      ]
     },
     "execution_count": 44,
     "metadata": {},
     "output_type": "execute_result"
    }
   ],
   "source": [
    "np.isnan(X_train).any()"
   ]
  },
  {
   "cell_type": "code",
   "execution_count": null,
   "metadata": {},
   "outputs": [
    {
     "name": "stdout",
     "output_type": "stream",
     "text": [
      "NaN values found at indices: (array([1110, 1110, 1110, ..., 2197, 2197, 2197]), array([  0,   1,   2, ..., 497, 498, 499]), array([0, 0, 0, ..., 0, 0, 0]))\n",
      "NaN values:\n",
      "[nan nan nan ... nan nan nan]\n"
     ]
    },
    {
     "data": {
      "text/plain": [
       "np.True_"
      ]
     },
     "execution_count": 46,
     "metadata": {},
     "output_type": "execute_result"
    }
   ],
   "source": [
    "import numpy as np\n",
    "\n",
    "\n",
    "def check_nans(arr):\n",
    "    \"\"\"\n",
    "    Check if a NumPy array contains any NaN values.\n",
    "    Returns True if NaN values are found, False otherwise.\n",
    "    Also prints the indices where NaN values are located.\n",
    "\n",
    "    Parameters:\n",
    "        arr: numpy.ndarray - Input array to check\n",
    "\n",
    "    Returns:\n",
    "        bool - True if NaN values exist, False otherwise\n",
    "    \"\"\"\n",
    "    # Check if array contains any NaN\n",
    "    has_nans = np.isnan(arr).any()\n",
    "\n",
    "    if has_nans:\n",
    "        # Get the indices where NaN values are located\n",
    "        nan_indices = np.where(np.isnan(arr))\n",
    "        print(f\"NaN values found at indices: {nan_indices}\")\n",
    "\n",
    "        # If array is multi-dimensional, print the actual NaN values\n",
    "        if arr.ndim > 1:\n",
    "            print(\"NaN values:\")\n",
    "            print(arr[nan_indices])\n",
    "    else:\n",
    "        print(\"No NaN values found in array\")\n",
    "\n",
    "    return has_nans\n",
    "\n",
    "\n",
    "# Example usage:\n",
    "# arr = np.array([[1, 2, np.nan], [4, np.nan, 6]])\n",
    "check_nans(X_train)"
   ]
  },
  {
   "cell_type": "code",
   "execution_count": 40,
   "metadata": {},
   "outputs": [
    {
     "ename": "ValueError",
     "evalue": "Input contains NaN.",
     "output_type": "error",
     "traceback": [
      "\u001b[0;31m---------------------------------------------------------------------------\u001b[0m",
      "\u001b[0;31mValueError\u001b[0m                                Traceback (most recent call last)",
      "Cell \u001b[0;32mIn[40], line 9\u001b[0m\n\u001b[1;32m      6\u001b[0m clf \u001b[38;5;241m=\u001b[39m KNeighborsTimeSeriesClassifier(n_neighbors\u001b[38;5;241m=\u001b[39m\u001b[38;5;241m3\u001b[39m, distance\u001b[38;5;241m=\u001b[39meucl_dist)\n\u001b[1;32m      7\u001b[0m clf\u001b[38;5;241m.\u001b[39mfit(X_train, y_train)\n\u001b[0;32m----> 9\u001b[0m y_pred \u001b[38;5;241m=\u001b[39m \u001b[43mclf\u001b[49m\u001b[38;5;241;43m.\u001b[39;49m\u001b[43mpredict\u001b[49m\u001b[43m(\u001b[49m\u001b[43mX_test\u001b[49m\u001b[43m)\u001b[49m\n\u001b[1;32m     10\u001b[0m accuracy_score(y_test, y_pred)\n",
      "File \u001b[0;32m~/miniforge3/envs/pain/lib/python3.12/site-packages/sktime/classification/base.py:331\u001b[0m, in \u001b[0;36mBaseClassifier.predict\u001b[0;34m(self, X)\u001b[0m\n\u001b[1;32m    328\u001b[0m     \u001b[38;5;28;01mreturn\u001b[39;00m \u001b[38;5;28mself\u001b[39m\u001b[38;5;241m.\u001b[39m_single_class_y_pred(X, method\u001b[38;5;241m=\u001b[39m\u001b[38;5;124m\"\u001b[39m\u001b[38;5;124mpredict\u001b[39m\u001b[38;5;124m\"\u001b[39m)\n\u001b[1;32m    330\u001b[0m \u001b[38;5;66;03m# call internal _predict, convert output\u001b[39;00m\n\u001b[0;32m--> 331\u001b[0m y_pred_inner \u001b[38;5;241m=\u001b[39m \u001b[38;5;28;43mself\u001b[39;49m\u001b[38;5;241;43m.\u001b[39;49m\u001b[43m_predict\u001b[49m\u001b[43m(\u001b[49m\u001b[43mX\u001b[49m\u001b[43m)\u001b[49m\n\u001b[1;32m    332\u001b[0m y_pred \u001b[38;5;241m=\u001b[39m \u001b[38;5;28mself\u001b[39m\u001b[38;5;241m.\u001b[39m_convert_output_y(y_pred_inner)\n\u001b[1;32m    333\u001b[0m \u001b[38;5;28;01mreturn\u001b[39;00m y_pred\n",
      "File \u001b[0;32m~/miniforge3/envs/pain/lib/python3.12/site-packages/sktime/base/_panel/knn.py:203\u001b[0m, in \u001b[0;36m_BaseKnnTimeSeriesEstimator._predict\u001b[0;34m(self, X)\u001b[0m\n\u001b[1;32m    190\u001b[0m \u001b[38;5;250m\u001b[39m\u001b[38;5;124;03m\"\"\"Predict the class labels for the provided data.\u001b[39;00m\n\u001b[1;32m    191\u001b[0m \n\u001b[1;32m    192\u001b[0m \u001b[38;5;124;03mParameters\u001b[39;00m\n\u001b[0;32m   (...)\u001b[0m\n\u001b[1;32m    200\u001b[0m \u001b[38;5;124;03m    Class labels for each data sample.\u001b[39;00m\n\u001b[1;32m    201\u001b[0m \u001b[38;5;124;03m\"\"\"\u001b[39;00m\n\u001b[1;32m    202\u001b[0m \u001b[38;5;28;01mif\u001b[39;00m \u001b[38;5;28mself\u001b[39m\u001b[38;5;241m.\u001b[39malgorithm \u001b[38;5;241m==\u001b[39m \u001b[38;5;124m\"\u001b[39m\u001b[38;5;124mbrute\u001b[39m\u001b[38;5;124m\"\u001b[39m:\n\u001b[0;32m--> 203\u001b[0m     \u001b[38;5;28;01mreturn\u001b[39;00m \u001b[38;5;28;43mself\u001b[39;49m\u001b[38;5;241;43m.\u001b[39;49m\u001b[43m_predict_precomp\u001b[49m\u001b[43m(\u001b[49m\u001b[43mX\u001b[49m\u001b[43m)\u001b[49m\n\u001b[1;32m    204\u001b[0m \u001b[38;5;28;01melse\u001b[39;00m:\n\u001b[1;32m    205\u001b[0m     \u001b[38;5;28;01mreturn\u001b[39;00m \u001b[38;5;28mself\u001b[39m\u001b[38;5;241m.\u001b[39m_predict_dist(X)\n",
      "File \u001b[0;32m~/miniforge3/envs/pain/lib/python3.12/site-packages/sktime/base/_panel/knn.py:217\u001b[0m, in \u001b[0;36m_BaseKnnTimeSeriesEstimator._predict_precomp\u001b[0;34m(self, X)\u001b[0m\n\u001b[1;32m    215\u001b[0m \u001b[38;5;66;03m# self._X should be the stored _X\u001b[39;00m\n\u001b[1;32m    216\u001b[0m dist_mat \u001b[38;5;241m=\u001b[39m \u001b[38;5;28mself\u001b[39m\u001b[38;5;241m.\u001b[39m_dist_adapt\u001b[38;5;241m.\u001b[39m_distance(X, \u001b[38;5;28mself\u001b[39m\u001b[38;5;241m.\u001b[39m_X)\n\u001b[0;32m--> 217\u001b[0m y_pred \u001b[38;5;241m=\u001b[39m \u001b[38;5;28;43mself\u001b[39;49m\u001b[38;5;241;43m.\u001b[39;49m\u001b[43mknn_estimator_\u001b[49m\u001b[38;5;241;43m.\u001b[39;49m\u001b[43mpredict\u001b[49m\u001b[43m(\u001b[49m\u001b[43mdist_mat\u001b[49m\u001b[43m)\u001b[49m\n\u001b[1;32m    218\u001b[0m \u001b[38;5;28;01mreturn\u001b[39;00m y_pred\n",
      "File \u001b[0;32m~/miniforge3/envs/pain/lib/python3.12/site-packages/sklearn/neighbors/_classification.py:271\u001b[0m, in \u001b[0;36mKNeighborsClassifier.predict\u001b[0;34m(self, X)\u001b[0m\n\u001b[1;32m    268\u001b[0m         \u001b[38;5;28;01mreturn\u001b[39;00m \u001b[38;5;28mself\u001b[39m\u001b[38;5;241m.\u001b[39mclasses_[np\u001b[38;5;241m.\u001b[39margmax(probabilities, axis\u001b[38;5;241m=\u001b[39m\u001b[38;5;241m1\u001b[39m)]\n\u001b[1;32m    269\u001b[0m     \u001b[38;5;66;03m# In that case, we do not need the distances to perform\u001b[39;00m\n\u001b[1;32m    270\u001b[0m     \u001b[38;5;66;03m# the weighting so we do not compute them.\u001b[39;00m\n\u001b[0;32m--> 271\u001b[0m     neigh_ind \u001b[38;5;241m=\u001b[39m \u001b[38;5;28;43mself\u001b[39;49m\u001b[38;5;241;43m.\u001b[39;49m\u001b[43mkneighbors\u001b[49m\u001b[43m(\u001b[49m\u001b[43mX\u001b[49m\u001b[43m,\u001b[49m\u001b[43m \u001b[49m\u001b[43mreturn_distance\u001b[49m\u001b[38;5;241;43m=\u001b[39;49m\u001b[38;5;28;43;01mFalse\u001b[39;49;00m\u001b[43m)\u001b[49m\n\u001b[1;32m    272\u001b[0m     neigh_dist \u001b[38;5;241m=\u001b[39m \u001b[38;5;28;01mNone\u001b[39;00m\n\u001b[1;32m    273\u001b[0m \u001b[38;5;28;01melse\u001b[39;00m:\n",
      "File \u001b[0;32m~/miniforge3/envs/pain/lib/python3.12/site-packages/sklearn/neighbors/_base.py:823\u001b[0m, in \u001b[0;36mKNeighborsMixin.kneighbors\u001b[0;34m(self, X, n_neighbors, return_distance)\u001b[0m\n\u001b[1;32m    821\u001b[0m \u001b[38;5;28;01melse\u001b[39;00m:\n\u001b[1;32m    822\u001b[0m     \u001b[38;5;28;01mif\u001b[39;00m \u001b[38;5;28mself\u001b[39m\u001b[38;5;241m.\u001b[39mmetric \u001b[38;5;241m==\u001b[39m \u001b[38;5;124m\"\u001b[39m\u001b[38;5;124mprecomputed\u001b[39m\u001b[38;5;124m\"\u001b[39m:\n\u001b[0;32m--> 823\u001b[0m         X \u001b[38;5;241m=\u001b[39m \u001b[43m_check_precomputed\u001b[49m\u001b[43m(\u001b[49m\u001b[43mX\u001b[49m\u001b[43m)\u001b[49m\n\u001b[1;32m    824\u001b[0m     \u001b[38;5;28;01melse\u001b[39;00m:\n\u001b[1;32m    825\u001b[0m         X \u001b[38;5;241m=\u001b[39m \u001b[38;5;28mself\u001b[39m\u001b[38;5;241m.\u001b[39m_validate_data(X, accept_sparse\u001b[38;5;241m=\u001b[39m\u001b[38;5;124m\"\u001b[39m\u001b[38;5;124mcsr\u001b[39m\u001b[38;5;124m\"\u001b[39m, reset\u001b[38;5;241m=\u001b[39m\u001b[38;5;28;01mFalse\u001b[39;00m, order\u001b[38;5;241m=\u001b[39m\u001b[38;5;124m\"\u001b[39m\u001b[38;5;124mC\u001b[39m\u001b[38;5;124m\"\u001b[39m)\n",
      "File \u001b[0;32m~/miniforge3/envs/pain/lib/python3.12/site-packages/sklearn/neighbors/_base.py:174\u001b[0m, in \u001b[0;36m_check_precomputed\u001b[0;34m(X)\u001b[0m\n\u001b[1;32m    156\u001b[0m \u001b[38;5;250m\u001b[39m\u001b[38;5;124;03m\"\"\"Check precomputed distance matrix.\u001b[39;00m\n\u001b[1;32m    157\u001b[0m \n\u001b[1;32m    158\u001b[0m \u001b[38;5;124;03mIf the precomputed distance matrix is sparse, it checks that the non-zero\u001b[39;00m\n\u001b[0;32m   (...)\u001b[0m\n\u001b[1;32m    171\u001b[0m \u001b[38;5;124;03m    case only non-zero elements may be considered neighbors.\u001b[39;00m\n\u001b[1;32m    172\u001b[0m \u001b[38;5;124;03m\"\"\"\u001b[39;00m\n\u001b[1;32m    173\u001b[0m \u001b[38;5;28;01mif\u001b[39;00m \u001b[38;5;129;01mnot\u001b[39;00m issparse(X):\n\u001b[0;32m--> 174\u001b[0m     X \u001b[38;5;241m=\u001b[39m \u001b[43mcheck_array\u001b[49m\u001b[43m(\u001b[49m\u001b[43mX\u001b[49m\u001b[43m)\u001b[49m\n\u001b[1;32m    175\u001b[0m     check_non_negative(X, whom\u001b[38;5;241m=\u001b[39m\u001b[38;5;124m\"\u001b[39m\u001b[38;5;124mprecomputed distance matrix.\u001b[39m\u001b[38;5;124m\"\u001b[39m)\n\u001b[1;32m    176\u001b[0m     \u001b[38;5;28;01mreturn\u001b[39;00m X\n",
      "File \u001b[0;32m~/miniforge3/envs/pain/lib/python3.12/site-packages/sklearn/utils/validation.py:1064\u001b[0m, in \u001b[0;36mcheck_array\u001b[0;34m(array, accept_sparse, accept_large_sparse, dtype, order, copy, force_writeable, force_all_finite, ensure_2d, allow_nd, ensure_min_samples, ensure_min_features, estimator, input_name)\u001b[0m\n\u001b[1;32m   1058\u001b[0m     \u001b[38;5;28;01mraise\u001b[39;00m \u001b[38;5;167;01mValueError\u001b[39;00m(\n\u001b[1;32m   1059\u001b[0m         \u001b[38;5;124m\"\u001b[39m\u001b[38;5;124mFound array with dim \u001b[39m\u001b[38;5;132;01m%d\u001b[39;00m\u001b[38;5;124m. \u001b[39m\u001b[38;5;132;01m%s\u001b[39;00m\u001b[38;5;124m expected <= 2.\u001b[39m\u001b[38;5;124m\"\u001b[39m\n\u001b[1;32m   1060\u001b[0m         \u001b[38;5;241m%\u001b[39m (array\u001b[38;5;241m.\u001b[39mndim, estimator_name)\n\u001b[1;32m   1061\u001b[0m     )\n\u001b[1;32m   1063\u001b[0m \u001b[38;5;28;01mif\u001b[39;00m force_all_finite:\n\u001b[0;32m-> 1064\u001b[0m     \u001b[43m_assert_all_finite\u001b[49m\u001b[43m(\u001b[49m\n\u001b[1;32m   1065\u001b[0m \u001b[43m        \u001b[49m\u001b[43marray\u001b[49m\u001b[43m,\u001b[49m\n\u001b[1;32m   1066\u001b[0m \u001b[43m        \u001b[49m\u001b[43minput_name\u001b[49m\u001b[38;5;241;43m=\u001b[39;49m\u001b[43minput_name\u001b[49m\u001b[43m,\u001b[49m\n\u001b[1;32m   1067\u001b[0m \u001b[43m        \u001b[49m\u001b[43mestimator_name\u001b[49m\u001b[38;5;241;43m=\u001b[39;49m\u001b[43mestimator_name\u001b[49m\u001b[43m,\u001b[49m\n\u001b[1;32m   1068\u001b[0m \u001b[43m        \u001b[49m\u001b[43mallow_nan\u001b[49m\u001b[38;5;241;43m=\u001b[39;49m\u001b[43mforce_all_finite\u001b[49m\u001b[43m \u001b[49m\u001b[38;5;241;43m==\u001b[39;49m\u001b[43m \u001b[49m\u001b[38;5;124;43m\"\u001b[39;49m\u001b[38;5;124;43mallow-nan\u001b[39;49m\u001b[38;5;124;43m\"\u001b[39;49m\u001b[43m,\u001b[49m\n\u001b[1;32m   1069\u001b[0m \u001b[43m    \u001b[49m\u001b[43m)\u001b[49m\n\u001b[1;32m   1071\u001b[0m \u001b[38;5;28;01mif\u001b[39;00m copy:\n\u001b[1;32m   1072\u001b[0m     \u001b[38;5;28;01mif\u001b[39;00m _is_numpy_namespace(xp):\n\u001b[1;32m   1073\u001b[0m         \u001b[38;5;66;03m# only make a copy if `array` and `array_orig` may share memory`\u001b[39;00m\n",
      "File \u001b[0;32m~/miniforge3/envs/pain/lib/python3.12/site-packages/sklearn/utils/validation.py:123\u001b[0m, in \u001b[0;36m_assert_all_finite\u001b[0;34m(X, allow_nan, msg_dtype, estimator_name, input_name)\u001b[0m\n\u001b[1;32m    120\u001b[0m \u001b[38;5;28;01mif\u001b[39;00m first_pass_isfinite:\n\u001b[1;32m    121\u001b[0m     \u001b[38;5;28;01mreturn\u001b[39;00m\n\u001b[0;32m--> 123\u001b[0m \u001b[43m_assert_all_finite_element_wise\u001b[49m\u001b[43m(\u001b[49m\n\u001b[1;32m    124\u001b[0m \u001b[43m    \u001b[49m\u001b[43mX\u001b[49m\u001b[43m,\u001b[49m\n\u001b[1;32m    125\u001b[0m \u001b[43m    \u001b[49m\u001b[43mxp\u001b[49m\u001b[38;5;241;43m=\u001b[39;49m\u001b[43mxp\u001b[49m\u001b[43m,\u001b[49m\n\u001b[1;32m    126\u001b[0m \u001b[43m    \u001b[49m\u001b[43mallow_nan\u001b[49m\u001b[38;5;241;43m=\u001b[39;49m\u001b[43mallow_nan\u001b[49m\u001b[43m,\u001b[49m\n\u001b[1;32m    127\u001b[0m \u001b[43m    \u001b[49m\u001b[43mmsg_dtype\u001b[49m\u001b[38;5;241;43m=\u001b[39;49m\u001b[43mmsg_dtype\u001b[49m\u001b[43m,\u001b[49m\n\u001b[1;32m    128\u001b[0m \u001b[43m    \u001b[49m\u001b[43mestimator_name\u001b[49m\u001b[38;5;241;43m=\u001b[39;49m\u001b[43mestimator_name\u001b[49m\u001b[43m,\u001b[49m\n\u001b[1;32m    129\u001b[0m \u001b[43m    \u001b[49m\u001b[43minput_name\u001b[49m\u001b[38;5;241;43m=\u001b[39;49m\u001b[43minput_name\u001b[49m\u001b[43m,\u001b[49m\n\u001b[1;32m    130\u001b[0m \u001b[43m\u001b[49m\u001b[43m)\u001b[49m\n",
      "File \u001b[0;32m~/miniforge3/envs/pain/lib/python3.12/site-packages/sklearn/utils/validation.py:172\u001b[0m, in \u001b[0;36m_assert_all_finite_element_wise\u001b[0;34m(X, xp, allow_nan, msg_dtype, estimator_name, input_name)\u001b[0m\n\u001b[1;32m    155\u001b[0m \u001b[38;5;28;01mif\u001b[39;00m estimator_name \u001b[38;5;129;01mand\u001b[39;00m input_name \u001b[38;5;241m==\u001b[39m \u001b[38;5;124m\"\u001b[39m\u001b[38;5;124mX\u001b[39m\u001b[38;5;124m\"\u001b[39m \u001b[38;5;129;01mand\u001b[39;00m has_nan_error:\n\u001b[1;32m    156\u001b[0m     \u001b[38;5;66;03m# Improve the error message on how to handle missing values in\u001b[39;00m\n\u001b[1;32m    157\u001b[0m     \u001b[38;5;66;03m# scikit-learn.\u001b[39;00m\n\u001b[1;32m    158\u001b[0m     msg_err \u001b[38;5;241m+\u001b[39m\u001b[38;5;241m=\u001b[39m (\n\u001b[1;32m    159\u001b[0m         \u001b[38;5;124mf\u001b[39m\u001b[38;5;124m\"\u001b[39m\u001b[38;5;130;01m\\n\u001b[39;00m\u001b[38;5;132;01m{\u001b[39;00mestimator_name\u001b[38;5;132;01m}\u001b[39;00m\u001b[38;5;124m does not accept missing values\u001b[39m\u001b[38;5;124m\"\u001b[39m\n\u001b[1;32m    160\u001b[0m         \u001b[38;5;124m\"\u001b[39m\u001b[38;5;124m encoded as NaN natively. For supervised learning, you might want\u001b[39m\u001b[38;5;124m\"\u001b[39m\n\u001b[0;32m   (...)\u001b[0m\n\u001b[1;32m    170\u001b[0m         \u001b[38;5;124m\"\u001b[39m\u001b[38;5;124m#estimators-that-handle-nan-values\u001b[39m\u001b[38;5;124m\"\u001b[39m\n\u001b[1;32m    171\u001b[0m     )\n\u001b[0;32m--> 172\u001b[0m \u001b[38;5;28;01mraise\u001b[39;00m \u001b[38;5;167;01mValueError\u001b[39;00m(msg_err)\n",
      "\u001b[0;31mValueError\u001b[0m: Input contains NaN."
     ]
    }
   ],
   "source": [
    "from sklearn.metrics import accuracy_score\n",
    "from sktime.classification.distance_based import KNeighborsTimeSeriesClassifier\n",
    "from sktime.dists_kernels import FlatDist, ScipyDist\n",
    "\n",
    "eucl_dist = FlatDist(ScipyDist())\n",
    "clf = KNeighborsTimeSeriesClassifier(n_neighbors=3, distance=eucl_dist)\n",
    "clf.fit(X_train, y_train)\n",
    "\n",
    "y_pred = clf.predict(X_test)\n",
    "accuracy_score(y_test, y_pred)"
   ]
  },
  {
   "cell_type": "code",
   "execution_count": null,
   "metadata": {},
   "outputs": [
    {
     "name": "stdout",
     "output_type": "stream",
     "text": [
      "19:11:35 | \u001b[92mINFO    \u001b[0m| root | Using device: mps\n"
     ]
    }
   ],
   "source": [
    "batch_size = 64\n",
    "device = get_device()"
   ]
  },
  {
   "cell_type": "code",
   "execution_count": null,
   "metadata": {},
   "outputs": [
    {
     "name": "stdout",
     "output_type": "stream",
     "text": [
      "19:11:35 | \u001b[36mDEBUG   \u001b[0m| root | Train Data: 2202 samples, Test Data: 2271 samples\n"
     ]
    }
   ],
   "source": [
    "def create_dataloaders(\n",
    "    X_train: np.ndarray,\n",
    "    y_train: np.ndarray,\n",
    "    X_test: np.ndarray,\n",
    "    y_test: np.ndarray,\n",
    "    batch_size: int,\n",
    "    is_test: bool = True,\n",
    ") -> tuple[DataLoader, DataLoader]:\n",
    "    # Sanity check\n",
    "    assert (\n",
    "        len(X_train.shape) == len(X_test.shape) == 3\n",
    "    ), \"X_train and X_test must have 3 dimensions: (samples, timesteps, features)\"\n",
    "\n",
    "    # scaler = StandardScaler3D()\n",
    "    # X_train = scaler.fit_transform(X_train)\n",
    "    # X_test = scaler.transform(X_test)\n",
    "\n",
    "    train_data = TensorDataset(\n",
    "        torch.FloatTensor(X_train),\n",
    "        torch.FloatTensor(y_train).view(-1, 1),\n",
    "    )\n",
    "    test_data = TensorDataset(\n",
    "        torch.FloatTensor(X_test),\n",
    "        torch.FloatTensor(y_test).view(-1, 1),\n",
    "    )\n",
    "    train_loader = DataLoader(dataset=train_data, batch_size=batch_size, shuffle=True)\n",
    "    test_loader = DataLoader(dataset=test_data, batch_size=batch_size, shuffle=False)\n",
    "\n",
    "    dataset = \"Test\" if is_test else \"Validation\"\n",
    "    logging.debug(\n",
    "        f\"Train Data: {len(train_data)} samples, \"\n",
    "        f\"{dataset} Data: {len(test_data)} samples\"\n",
    "    )\n",
    "\n",
    "    return train_loader, test_loader\n",
    "\n",
    "\n",
    "train_loader, test_loader = create_dataloaders(\n",
    "    X_train,\n",
    "    y_train,\n",
    "    X_test,\n",
    "    y_test,\n",
    "    batch_size=batch_size,\n",
    ")"
   ]
  },
  {
   "cell_type": "code",
   "execution_count": null,
   "metadata": {},
   "outputs": [],
   "source": [
    "def train_model(\n",
    "    model: nn.Module,\n",
    "    train_loader: DataLoader,\n",
    "    test_loader: DataLoader,\n",
    "    criterion: nn.modules.loss._Loss,\n",
    "    optimizer: optim.Optimizer,\n",
    "    epochs: int,\n",
    "    is_test: bool = True,\n",
    ") -> dict[str, list[float]]:\n",
    "    dataset = \"test\" if is_test else \"validation\"\n",
    "    history = {\n",
    "        \"train_accuracy\": [],\n",
    "        \"train_loss\": [],\n",
    "        f\"{dataset}_accuracy\": [],\n",
    "        f\"{dataset}_loss\": [],\n",
    "    }\n",
    "\n",
    "    for epoch in range(epochs):\n",
    "        model.train()\n",
    "        running_loss = 0.0\n",
    "        # for acc metric only\n",
    "        correct = 0\n",
    "        total = 0\n",
    "        for X_batch, y_batch in train_loader:\n",
    "            X_batch, y_batch = X_batch.to(device), y_batch.to(device)\n",
    "            optimizer.zero_grad()\n",
    "            outputs = model(X_batch)\n",
    "            loss = criterion(outputs, y_batch)\n",
    "            loss.backward()\n",
    "            optimizer.step()\n",
    "            running_loss += loss.item() * X_batch.size(0)\n",
    "\n",
    "            # Calculate training accuracy\n",
    "            y_pred_classes = (torch.sigmoid(outputs) >= 0.5).float()\n",
    "            total += y_batch.size(0)\n",
    "            correct += (y_pred_classes == y_batch).sum().item()\n",
    "\n",
    "        epoch_loss = running_loss / len(train_loader.dataset)\n",
    "        epoch_acc = correct / total if total > 0 else 0\n",
    "        test_loss, test_accuracy = evaluate_model(model, test_loader, criterion)\n",
    "\n",
    "        # Store the metrics in the history dictionary\n",
    "        history[\"train_loss\"].append(epoch_loss)\n",
    "        history[\"train_accuracy\"].append(epoch_acc)\n",
    "        history[f\"{dataset}_loss\"].append(test_loss)\n",
    "        history[f\"{dataset}_accuracy\"].append(test_accuracy)\n",
    "\n",
    "        # Log progress\n",
    "        max_digits = len(str(epochs))\n",
    "        logging.debug(\n",
    "            f\"E[{+epoch+1:>{max_digits}d}/{epochs}] \"\n",
    "            f\"| train {epoch_loss:.4f} ({epoch_acc:.1%}) \"\n",
    "            f\"· {dataset} {test_loss:.4f} ({test_accuracy:.1%})\"\n",
    "        )\n",
    "\n",
    "    return history\n",
    "\n",
    "\n",
    "def evaluate_model(\n",
    "    model: nn.Module,\n",
    "    test_loader: DataLoader,\n",
    "    criterion: nn.modules.loss._Loss,\n",
    ") -> tuple[float, float]:\n",
    "    model.eval()\n",
    "    total_loss = 0.0\n",
    "    correct = 0\n",
    "    total = 0\n",
    "    with torch.inference_mode():\n",
    "        for X_batch, y_batch in test_loader:\n",
    "            X_batch, y_batch = X_batch.to(device), y_batch.to(device)\n",
    "            y_pred_logits = model(X_batch)\n",
    "            loss = criterion(y_pred_logits, y_batch)\n",
    "            total_loss += loss.item() * X_batch.size(0)\n",
    "            # Metric here is acc\n",
    "            y_pred_classes = (torch.sigmoid(y_pred_logits) >= 0.5).float()\n",
    "            total += y_batch.size(0)\n",
    "            correct += (y_pred_classes == y_batch).sum().item()\n",
    "\n",
    "    average_loss = total_loss / total if total > 0 else 0\n",
    "    accuracy = correct / total if total > 0 else 0\n",
    "    return average_loss, accuracy\n"
   ]
  },
  {
   "cell_type": "code",
   "execution_count": null,
   "metadata": {},
   "outputs": [],
   "source": [
    "class LSTM(nn.Module):\n",
    "    def __init__(\n",
    "        self,\n",
    "        input_size,\n",
    "        hidden_size,\n",
    "        num_layers,\n",
    "    ):\n",
    "        super(LSTM, self).__init__()\n",
    "        self.lstm = nn.LSTM(input_size, hidden_size, num_layers, batch_first=True)\n",
    "        self.fc = nn.Linear(hidden_size, 1)\n",
    "\n",
    "    def forward(self, x):\n",
    "        out, (hn, cn) = self.lstm(x)\n",
    "        out = self.fc(out[:, -1, :])\n",
    "        return out\n",
    "\n",
    "\n",
    "model = LSTM(input_size=X_train.shape[2], hidden_size=256, num_layers=1).to(device)"
   ]
  },
  {
   "cell_type": "code",
   "execution_count": null,
   "metadata": {},
   "outputs": [
    {
     "name": "stdout",
     "output_type": "stream",
     "text": [
      "19:11:35 | \u001b[36mDEBUG   \u001b[0m| root | E[ 1/20] | train 0.7104 (56.3%) · test 0.6932 (55.5%)\n",
      "19:11:36 | \u001b[36mDEBUG   \u001b[0m| root | E[ 2/20] | train 0.6793 (56.5%) · test 0.6795 (55.5%)\n",
      "19:11:36 | \u001b[36mDEBUG   \u001b[0m| root | E[ 3/20] | train 0.6758 (56.9%) · test 0.6746 (55.7%)\n",
      "19:11:37 | \u001b[36mDEBUG   \u001b[0m| root | E[ 4/20] | train 0.6679 (58.3%) · test 0.6713 (55.8%)\n",
      "19:11:37 | \u001b[36mDEBUG   \u001b[0m| root | E[ 5/20] | train 0.6659 (57.5%) · test 0.6750 (57.7%)\n",
      "19:11:38 | \u001b[36mDEBUG   \u001b[0m| root | E[ 6/20] | train 0.6645 (57.9%) · test 0.6698 (57.2%)\n",
      "19:11:38 | \u001b[36mDEBUG   \u001b[0m| root | E[ 7/20] | train 0.6624 (57.9%) · test 0.6703 (57.2%)\n",
      "19:11:38 | \u001b[36mDEBUG   \u001b[0m| root | E[ 8/20] | train 0.6627 (58.9%) · test 0.6696 (57.5%)\n",
      "19:11:39 | \u001b[36mDEBUG   \u001b[0m| root | E[ 9/20] | train 0.6600 (57.8%) · test 0.6735 (56.5%)\n",
      "19:11:39 | \u001b[36mDEBUG   \u001b[0m| root | E[10/20] | train 0.6614 (58.3%) · test 0.6667 (57.6%)\n",
      "19:11:39 | \u001b[36mDEBUG   \u001b[0m| root | E[11/20] | train 0.6581 (59.7%) · test 0.6672 (57.3%)\n",
      "19:11:40 | \u001b[36mDEBUG   \u001b[0m| root | E[12/20] | train 0.6581 (59.5%) · test 0.6700 (57.1%)\n",
      "19:11:40 | \u001b[36mDEBUG   \u001b[0m| root | E[13/20] | train 0.6584 (59.1%) · test 0.6675 (57.4%)\n",
      "19:11:41 | \u001b[36mDEBUG   \u001b[0m| root | E[14/20] | train 0.6608 (58.7%) · test 0.6630 (57.7%)\n",
      "19:11:41 | \u001b[36mDEBUG   \u001b[0m| root | E[15/20] | train 0.6676 (58.9%) · test 0.6718 (56.8%)\n",
      "19:11:41 | \u001b[36mDEBUG   \u001b[0m| root | E[16/20] | train 0.6604 (58.6%) · test 0.6693 (57.5%)\n",
      "19:11:42 | \u001b[36mDEBUG   \u001b[0m| root | E[17/20] | train 0.6569 (59.1%) · test 0.6687 (57.5%)\n",
      "19:11:42 | \u001b[36mDEBUG   \u001b[0m| root | E[18/20] | train 0.6547 (59.4%) · test 0.6688 (57.9%)\n",
      "19:11:43 | \u001b[36mDEBUG   \u001b[0m| root | E[19/20] | train 0.6648 (59.0%) · test 0.6671 (57.7%)\n",
      "19:11:43 | \u001b[36mDEBUG   \u001b[0m| root | E[20/20] | train 0.6535 (59.6%) · test 0.6645 (58.3%)\n"
     ]
    }
   ],
   "source": [
    "lr = 1e-3\n",
    "epochs = 20\n",
    "model = MultiLayerPerceptron(\n",
    "    input_size=X.shape[2] * X.shape[1],  # 2D input length\n",
    "    hidden_size=2048,\n",
    ").to(device)\n",
    "criterion = nn.BCEWithLogitsLoss()\n",
    "optimizer = optim.Adam(model.parameters(), lr=lr)\n",
    "\n",
    "history = train_model(\n",
    "    model,\n",
    "    train_loader,\n",
    "    test_loader,\n",
    "    criterion,\n",
    "    optimizer,\n",
    "    epochs=epochs,\n",
    ")"
   ]
  },
  {
   "cell_type": "markdown",
   "metadata": {},
   "source": [
    "18:23:45 | DEBUG   | root | E[20/20] | train 0.6073 (68.1%) · test 0.6094 (67.7%)\n"
   ]
  },
  {
   "cell_type": "code",
   "execution_count": null,
   "metadata": {},
   "outputs": [
    {
     "data": {
      "image/png": "[encoded data removed]",
      "text/plain": [
       "<Figure size 1500x300 with 2 Axes>"
      ]
     },
     "metadata": {},
     "output_type": "display_data"
    }
   ],
   "source": [
    "def plot_single_model_history(history):\n",
    "    plt.figure(figsize=(15, 3))\n",
    "\n",
    "    plt.subplot(1, 3, 1)\n",
    "    plt.plot(history[\"train_loss\"], label=\"Training Loss\")\n",
    "    plt.plot(history[\"test_loss\"], label=\"Test Loss\")\n",
    "    plt.xlabel(\"Epoch\")\n",
    "    plt.ylabel(\"Loss\")\n",
    "    plt.legend()\n",
    "\n",
    "    plt.subplot(1, 3, 2)\n",
    "    plt.plot(history[\"train_accuracy\"], label=\"Training Accuracy\")\n",
    "    plt.plot(history[\"test_accuracy\"], label=\"Test Accuracy\")\n",
    "    plt.xlabel(\"Epoch\")\n",
    "    plt.ylabel(\"Accuracy\")\n",
    "    plt.legend()\n",
    "\n",
    "    plt.tight_layout()\n",
    "    plt.show()\n",
    "\n",
    "\n",
    "plot_single_model_history(history)"
   ]
  },
  {
   "cell_type": "code",
   "execution_count": null,
   "metadata": {},
   "outputs": [
    {
     "data": {
      "image/png": "[encoded data removed]",
      "text/plain": [
       "<Figure size 800x600 with 2 Axes>"
      ]
     },
     "metadata": {},
     "output_type": "display_data"
    },
    {
     "data": {
      "image/png": "[encoded data removed]",
      "text/plain": [
       "<Figure size 800x600 with 1 Axes>"
      ]
     },
     "metadata": {},
     "output_type": "display_data"
    }
   ],
   "source": [
    "# NOTE: the dataset is imbalanced, so accuracy is not a good metric\n",
    "\n",
    "\n",
    "def get_confusion_matrix(\n",
    "    model: nn.Module,\n",
    "    test_loader: DataLoader,\n",
    "    threshold: float = 0.5,\n",
    ") -> np.ndarray:\n",
    "    \"\"\"\n",
    "    Calculate confusion matrix for binary classification.\n",
    "    Returns a 2x2 numpy array where:\n",
    "    [0,0] = TN, [0,1] = FP\n",
    "    [1,0] = FN, [1,1] = TP\n",
    "    \"\"\"\n",
    "    model.eval()\n",
    "    y_true = []\n",
    "    y_pred = []\n",
    "\n",
    "    with torch.inference_mode():\n",
    "        for X_batch, y_batch in test_loader:\n",
    "            X_batch = X_batch.to(device)\n",
    "            outputs = model(X_batch)\n",
    "            y_pred_batch = (torch.sigmoid(outputs) >= threshold).cpu().numpy()\n",
    "            y_true.extend(y_batch.numpy())\n",
    "            y_pred.extend(y_pred_batch)\n",
    "\n",
    "    return confusion_matrix(y_true, y_pred)\n",
    "\n",
    "\n",
    "def plot_confusion_matrix(conf_matrix: np.ndarray) -> None:\n",
    "    plt.figure(figsize=(8, 6))\n",
    "    sns.heatmap(\n",
    "        conf_matrix,\n",
    "        annot=True,\n",
    "        fmt=\"d\",\n",
    "        cmap=\"Blues\",\n",
    "        xticklabels=[\"Negative\", \"Positive\"],\n",
    "        yticklabels=[\"Negative\", \"Positive\"],\n",
    "    )\n",
    "    plt.title(\"Confusion Matrix\")\n",
    "    plt.ylabel(\"True Label\")\n",
    "    plt.xlabel(\"Predicted Label\")\n",
    "    plt.show()\n",
    "\n",
    "\n",
    "def plot_roc_curve(\n",
    "    model: nn.Module,\n",
    "    test_loader: DataLoader,\n",
    ") -> None:\n",
    "    \"\"\"\n",
    "    Plot ROC curve and calculate AUC score for binary classification.\n",
    "    \"\"\"\n",
    "    model.eval()\n",
    "    y_true = []\n",
    "    y_scores = []\n",
    "\n",
    "    with torch.inference_mode():\n",
    "        for X_batch, y_batch in test_loader:\n",
    "            X_batch = X_batch.to(device)\n",
    "            outputs = model(X_batch)\n",
    "            y_scores_batch = torch.sigmoid(outputs).cpu().numpy()\n",
    "            y_true.extend(y_batch.numpy())\n",
    "            y_scores.extend(y_scores_batch)\n",
    "\n",
    "    fpr, tpr, thresholds = roc_curve(y_true, y_scores)\n",
    "    auc_score = auc(fpr, tpr)\n",
    "\n",
    "    # Find optimal threshold\n",
    "    optimal_idx = np.argmax(tpr - fpr)\n",
    "    optimal_threshold = thresholds[optimal_idx]\n",
    "\n",
    "    plt.figure(figsize=(8, 6))\n",
    "    plt.plot(fpr, tpr, label=f\"ROC curve (AUC = {auc_score:.3f})\")\n",
    "    plt.plot([0, 1], [0, 1], \"k--\")  # diagonal line\n",
    "\n",
    "    # Add marker for optimal threshold\n",
    "    plt.plot(\n",
    "        fpr[optimal_idx],\n",
    "        tpr[optimal_idx],\n",
    "        \"ro\",\n",
    "        label=f\"Optimal (threshold={optimal_threshold:.2f})\",\n",
    "    )\n",
    "\n",
    "    plt.xlim([0.0, 1.0])\n",
    "    plt.ylim([0.0, 1.05])\n",
    "    plt.xlabel(\"False Positive Rate\")\n",
    "    plt.ylabel(\"True Positive Rate\")\n",
    "    plt.title(\"Receiver Operating Characteristic (ROC) Curve\")\n",
    "    plt.legend(loc=\"lower right\")\n",
    "    plt.grid(True)\n",
    "    plt.show()\n",
    "\n",
    "\n",
    "conf_matrix = get_confusion_matrix(model, test_loader, threshold=0.5)\n",
    "plot_confusion_matrix(conf_matrix)\n",
    "plot_roc_curve(model, test_loader)"
   ]
  },
  {
   "cell_type": "code",
   "execution_count": null,
   "metadata": {},
   "outputs": [],
   "source": []
  },
  {
   "cell_type": "code",
   "execution_count": null,
   "metadata": {},
   "outputs": [],
   "source": [
    "# from dataclasses import dataclass\n",
    "\n",
    "\n",
    "# @dataclass\n",
    "# class TimesNetConfig:\n",
    "#     task_name: str = \"classification\"\n",
    "#     is_training: int = 1\n",
    "#     model_id: str = \"Heartbeat\"\n",
    "#     model: str = \"TimesNet\"\n",
    "#     data: str = \"UEA\"\n",
    "#     e_layers: int = 3\n",
    "#     batch_size: int = 16\n",
    "#     d_model: int = 16\n",
    "#     d_ff: int = 32\n",
    "#     top_k: int = 1\n",
    "#     des: str = \"Exp\"\n",
    "#     itr: int = 1\n",
    "#     learning_rate: float = 0.001\n",
    "#     train_epochs: int = 30\n",
    "#     patience: int = 10\n",
    "#     seq_len: int = 50\n",
    "#     label_len: int = 1\n",
    "#     pred_len: int = 1\n",
    "#     num_kernels: int = 32\n",
    "#     enc_in: int = 1\n",
    "#     embed: int = 8\n",
    "#     freq: str = \"H\"\n",
    "#     dropout: float = 0.1\n",
    "#     num_class: int = 2\n",
    "\n",
    "#     def to_args_list(self) -> list:\n",
    "#         \"\"\"Convert config to command line arguments list\"\"\"\n",
    "#         args = []\n",
    "#         for key, value in self.__dict__.items():\n",
    "#             args.extend([f\"--{key}\", str(value)])\n",
    "#         return args\n",
    "\n",
    "\n",
    "# # Example usage:\n",
    "# configs = TimesNetConfig()\n",
    "# configs\n",
    "\n",
    "# from time_series_library.models import TimesNet\n",
    "\n",
    "# model = TimesNet.Model(configs)\n"
   ]
  },
  {
   "cell_type": "code",
   "execution_count": null,
   "metadata": {},
   "outputs": [],
   "source": []
  },
  {
   "cell_type": "code",
   "execution_count": null,
   "metadata": {},
   "outputs": [
    {
     "data": {
      "text/plain": [
       "0.6125055041831792"
      ]
     },
     "execution_count": 131,
     "metadata": {},
     "output_type": "execute_result"
    }
   ],
   "source": [
    "from sklearn.metrics import accuracy_score\n",
    "from sktime.classification.distance_based import KNeighborsTimeSeriesClassifier\n",
    "from sktime.dists_kernels import FlatDist, ScipyDist\n",
    "\n",
    "eucl_dist = FlatDist(ScipyDist())\n",
    "clf = KNeighborsTimeSeriesClassifier(n_neighbors=3, distance=eucl_dist)\n",
    "clf.fit(X_train, y_train)\n",
    "\n",
    "y_pred = clf.predict(X_test)\n",
    "accuracy_score(y_test, y_pred)"
   ]
  },
  {
   "cell_type": "code",
   "execution_count": null,
   "metadata": {},
   "outputs": [
    {
     "data": {
      "text/plain": [
       "sktime.classification.distance_based._time_series_neighbors.KNeighborsTimeSeriesClassifier"
      ]
     },
     "execution_count": 85,
     "metadata": {},
     "output_type": "execute_result"
    }
   ],
   "source": [
    "type(clf)"
   ]
  },
  {
   "cell_type": "code",
   "execution_count": null,
   "metadata": {},
   "outputs": [
    {
     "data": {
      "text/plain": [
       "True"
      ]
     },
     "execution_count": 86,
     "metadata": {},
     "output_type": "execute_result"
    }
   ],
   "source": [
    "isinstance(model, torch.nn.Module)"
   ]
  },
  {
   "cell_type": "code",
   "execution_count": null,
   "metadata": {},
   "outputs": [
    {
     "data": {
      "text/plain": [
       "(sktime.classification.distance_based._time_series_neighbors.KNeighborsTimeSeriesClassifier,\n",
       " sktime.base._panel.knn._BaseKnnTimeSeriesEstimator,\n",
       " sktime.classification.base.BaseClassifier,\n",
       " sktime.base._base_panel.BasePanelMixin,\n",
       " sktime.base._base.BaseEstimator,\n",
       " sktime.base._base.BaseObject,\n",
       " sktime.utils._estimator_html_repr._HTMLDocumentationLinkMixin,\n",
       " skbase.base._base.BaseObject,\n",
       " skbase.base._tagmanager._FlagManager,\n",
       " object)"
      ]
     },
     "execution_count": 87,
     "metadata": {},
     "output_type": "execute_result"
    }
   ],
   "source": [
    "import sktime\n",
    "\n",
    "sktime.classification.distance_based._time_series_neighbors.KNeighborsTimeSeriesClassifier.__mro__"
   ]
  },
  {
   "cell_type": "code",
   "execution_count": null,
   "metadata": {},
   "outputs": [],
   "source": [
    "from sktime.transformations.panel.rocket import MiniRocketMultivariate\n",
    "\n",
    "minirocket_multi = MiniRocketMultivariate()\n",
    "# minirocket_multi.fit(X_train)\n"
   ]
  },
  {
   "cell_type": "code",
   "execution_count": null,
   "metadata": {},
   "outputs": [
    {
     "data": {
      "text/plain": [
       "(2202, 500, 1)"
      ]
     },
     "execution_count": 89,
     "metadata": {},
     "output_type": "execute_result"
    }
   ],
   "source": [
    "X_train.shape"
   ]
  }
 ],
 "metadata": {
  "kernelspec": {
   "display_name": "pain",
   "language": "python",
   "name": "python3"
  },
  "language_info": {
   "codemirror_mode": {
    "name": "ipython",
    "version": 3
   },
   "file_extension": ".py",
   "mimetype": "text/x-python",
   "name": "python",
   "nbconvert_exporter": "python",
   "pygments_lexer": "ipython3",
   "version": "3.12.4"
  }
 },
 "nbformat": 4,
 "nbformat_minor": 2
}
