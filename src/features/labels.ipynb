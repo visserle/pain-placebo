{
 "cells": [
  {
   "cell_type": "code",
   "execution_count": 17,
   "metadata": {},
   "outputs": [],
   "source": [
    "# TODO: refine labels using ratings\n",
    "# also add to data pipeline"
   ]
  },
  {
   "cell_type": "code",
   "execution_count": 18,
   "metadata": {},
   "outputs": [],
   "source": [
    "%%capture\n",
    "from pathlib import Path\n",
    "\n",
    "if Path.cwd().stem == \"features\":\n",
    "    %cd ../..\n",
    "    %load_ext autoreload\n",
    "    %autoreload 2"
   ]
  },
  {
   "cell_type": "code",
   "execution_count": 19,
   "metadata": {},
   "outputs": [],
   "source": [
    "import logging\n",
    "import operator\n",
    "from functools import reduce\n",
    "\n",
    "import holoviews as hv\n",
    "import hvplot.polars  # noqa\n",
    "import numpy as np\n",
    "import polars as pl\n",
    "from icecream import ic\n",
    "from polars import col\n",
    "\n",
    "from src.data.database_manager import DatabaseManager\n",
    "from src.data.quality_checks import check_sample_rate\n",
    "from src.experiments.measurement.stimulus_generator import StimulusGenerator\n",
    "from src.features.labels import process_labels\n",
    "from src.features.resampling import add_time_column, downsample\n",
    "from src.features.scaling import scale_min_max\n",
    "from src.features.transforming import map_trials, merge_dfs\n",
    "from src.log_config import configure_logging\n",
    "from src.plots.plot_stimulus import plot_stimulus_with_shapes\n",
    "\n",
    "configure_logging(\n",
    "    stream_level=logging.DEBUG,\n",
    "    ignore_libs=[\"matplotlib\", \"Comm\", \"bokeh\", \"tornado\"],\n",
    ")\n",
    "\n",
    "pl.Config.set_tbl_rows(12)  # for the 12 trials\n",
    "hv.output(widget_location=\"bottom\", size=130)"
   ]
  },
  {
   "cell_type": "code",
   "execution_count": 20,
   "metadata": {},
   "outputs": [],
   "source": [
    "db = DatabaseManager()"
   ]
  },
  {
   "cell_type": "code",
   "execution_count": 21,
   "metadata": {},
   "outputs": [],
   "source": [
    "with db:\n",
    "    stimulus = db.get_table(\"Feature_Stimulus\")\n",
    "    eda = db.get_table(\"Feature_EDA\")\n",
    "    trials = db.get_table(\"Trials\")\n",
    "\n",
    "df = merge_dfs([stimulus, trials], on=[\"trial_id\", \"participant_id\", \"trial_number\"])\n"
   ]
  },
  {
   "cell_type": "code",
   "execution_count": 22,
   "metadata": {},
   "outputs": [
    {
     "data": {
      "text/html": [
       "<div><style>\n",
       ".dataframe > thead > tr,\n",
       ".dataframe > tbody > tr {\n",
       "  text-align: right;\n",
       "  white-space: pre-wrap;\n",
       "}\n",
       "</style>\n",
       "<small>shape: (593_753, 18)</small><table border=\"1\" class=\"dataframe\"><thead><tr><th>trial_id</th><th>trial_number</th><th>participant_id</th><th>rownumber</th><th>timestamp</th><th>samplenumber</th><th>eda_raw</th><th>eda_tonic</th><th>eda_phasic</th><th>stimulus_seed</th><th>skin_area</th><th>normalized_timestamp</th><th>decreasing_intervals</th><th>major_decreasing_intervals</th><th>increasing_intervals</th><th>strictly_increasing_intervals</th><th>plateau_intervals</th><th>prolonged_minima_intervals</th></tr><tr><td>u16</td><td>u8</td><td>u8</td><td>u32</td><td>f64</td><td>i64</td><td>f64</td><td>f64</td><td>f64</td><td>u16</td><td>u8</td><td>f64</td><td>u16</td><td>u16</td><td>u16</td><td>u16</td><td>u16</td><td>u16</td></tr></thead><tbody><tr><td>1</td><td>1</td><td>1</td><td>37660</td><td>294210.3603</td><td>57892</td><td>0.743774</td><td>0.743503</td><td>0.000271</td><td>396</td><td>1</td><td>0.0</td><td>0</td><td>0</td><td>1</td><td>0</td><td>0</td><td>0</td></tr><tr><td>1</td><td>1</td><td>1</td><td>37673</td><td>294340.0132</td><td>57905</td><td>0.745042</td><td>0.743523</td><td>0.001519</td><td>396</td><td>1</td><td>129.6529</td><td>0</td><td>0</td><td>1</td><td>0</td><td>0</td><td>0</td></tr><tr><td>1</td><td>1</td><td>1</td><td>37687</td><td>294421.1276</td><td>57919</td><td>0.744819</td><td>0.743543</td><td>0.001276</td><td>396</td><td>1</td><td>210.7673</td><td>0</td><td>0</td><td>1</td><td>0</td><td>0</td><td>0</td></tr><tr><td>1</td><td>1</td><td>1</td><td>37701</td><td>294528.84</td><td>57933</td><td>0.744804</td><td>0.743562</td><td>0.001242</td><td>396</td><td>1</td><td>318.4797</td><td>0</td><td>0</td><td>1</td><td>0</td><td>0</td><td>0</td></tr><tr><td>1</td><td>1</td><td>1</td><td>37713</td><td>294616.4458</td><td>57945</td><td>0.744887</td><td>0.743581</td><td>0.001305</td><td>396</td><td>1</td><td>406.0855</td><td>0</td><td>0</td><td>1</td><td>0</td><td>0</td><td>0</td></tr><tr><td>1</td><td>1</td><td>1</td><td>37726</td><td>294737.124</td><td>57958</td><td>0.744989</td><td>0.7436</td><td>0.001389</td><td>396</td><td>1</td><td>526.7637</td><td>0</td><td>0</td><td>1</td><td>0</td><td>0</td><td>0</td></tr><tr><td>&hellip;</td><td>&hellip;</td><td>&hellip;</td><td>&hellip;</td><td>&hellip;</td><td>&hellip;</td><td>&hellip;</td><td>&hellip;</td><td>&hellip;</td><td>&hellip;</td><td>&hellip;</td><td>&hellip;</td><td>&hellip;</td><td>&hellip;</td><td>&hellip;</td><td>&hellip;</td><td>&hellip;</td><td>&hellip;</td></tr><tr><td>332</td><td>12</td><td>28</td><td>355419</td><td>2.7766e6</td><td>467016</td><td>13.441099</td><td>13.423482</td><td>-0.069582</td><td>133</td><td>1</td><td>179521.2445</td><td>1660</td><td>0</td><td>0</td><td>0</td><td>0</td><td>0</td></tr><tr><td>332</td><td>12</td><td>28</td><td>355431</td><td>2.7767e6</td><td>467028</td><td>13.464384</td><td>13.423471</td><td>-0.051391</td><td>133</td><td>1</td><td>179609.0093</td><td>1660</td><td>0</td><td>0</td><td>0</td><td>0</td><td>0</td></tr><tr><td>332</td><td>12</td><td>28</td><td>355444</td><td>2.7768e6</td><td>467041</td><td>13.486086</td><td>13.423464</td><td>-0.035214</td><td>133</td><td>1</td><td>179717.7187</td><td>1660</td><td>0</td><td>0</td><td>0</td><td>0</td><td>0</td></tr><tr><td>332</td><td>12</td><td>28</td><td>355456</td><td>2.7769e6</td><td>467053</td><td>13.50079</td><td>13.42346</td><td>-0.025488</td><td>133</td><td>1</td><td>179833.4094</td><td>1660</td><td>0</td><td>0</td><td>0</td><td>0</td><td>0</td></tr><tr><td>332</td><td>12</td><td>28</td><td>355470</td><td>2.7770e6</td><td>467067</td><td>13.514941</td><td>13.423458</td><td>-0.017623</td><td>133</td><td>1</td><td>179908.2096</td><td>1660</td><td>0</td><td>0</td><td>0</td><td>0</td><td>0</td></tr><tr><td>332</td><td>12</td><td>28</td><td>355482</td><td>2.7771e6</td><td>467079</td><td>13.527566</td><td>13.423457</td><td>-0.010244</td><td>133</td><td>1</td><td>180015.1532</td><td>0</td><td>0</td><td>0</td><td>0</td><td>0</td><td>0</td></tr></tbody></table></div>"
      ],
      "text/plain": [
       "shape: (593_753, 18)\n",
       "┌──────────┬───────────┬───────────┬───────────┬───┬───────────┬───────────┬───────────┬───────────┐\n",
       "│ trial_id ┆ trial_num ┆ participa ┆ rownumber ┆ … ┆ increasin ┆ strictly_ ┆ plateau_i ┆ prolonged │\n",
       "│ ---      ┆ ber       ┆ nt_id     ┆ ---       ┆   ┆ g_interva ┆ increasin ┆ ntervals  ┆ _minima_i │\n",
       "│ u16      ┆ ---       ┆ ---       ┆ u32       ┆   ┆ ls        ┆ g_interva ┆ ---       ┆ ntervals  │\n",
       "│          ┆ u8        ┆ u8        ┆           ┆   ┆ ---       ┆ ls        ┆ u16       ┆ ---       │\n",
       "│          ┆           ┆           ┆           ┆   ┆ u16       ┆ ---       ┆           ┆ u16       │\n",
       "│          ┆           ┆           ┆           ┆   ┆           ┆ u16       ┆           ┆           │\n",
       "╞══════════╪═══════════╪═══════════╪═══════════╪═══╪═══════════╪═══════════╪═══════════╪═══════════╡\n",
       "│ 1        ┆ 1         ┆ 1         ┆ 37660     ┆ … ┆ 1         ┆ 0         ┆ 0         ┆ 0         │\n",
       "│ 1        ┆ 1         ┆ 1         ┆ 37673     ┆ … ┆ 1         ┆ 0         ┆ 0         ┆ 0         │\n",
       "│ 1        ┆ 1         ┆ 1         ┆ 37687     ┆ … ┆ 1         ┆ 0         ┆ 0         ┆ 0         │\n",
       "│ 1        ┆ 1         ┆ 1         ┆ 37701     ┆ … ┆ 1         ┆ 0         ┆ 0         ┆ 0         │\n",
       "│ 1        ┆ 1         ┆ 1         ┆ 37713     ┆ … ┆ 1         ┆ 0         ┆ 0         ┆ 0         │\n",
       "│ 1        ┆ 1         ┆ 1         ┆ 37726     ┆ … ┆ 1         ┆ 0         ┆ 0         ┆ 0         │\n",
       "│ …        ┆ …         ┆ …         ┆ …         ┆ … ┆ …         ┆ …         ┆ …         ┆ …         │\n",
       "│ 332      ┆ 12        ┆ 28        ┆ 355419    ┆ … ┆ 0         ┆ 0         ┆ 0         ┆ 0         │\n",
       "│ 332      ┆ 12        ┆ 28        ┆ 355431    ┆ … ┆ 0         ┆ 0         ┆ 0         ┆ 0         │\n",
       "│ 332      ┆ 12        ┆ 28        ┆ 355444    ┆ … ┆ 0         ┆ 0         ┆ 0         ┆ 0         │\n",
       "│ 332      ┆ 12        ┆ 28        ┆ 355456    ┆ … ┆ 0         ┆ 0         ┆ 0         ┆ 0         │\n",
       "│ 332      ┆ 12        ┆ 28        ┆ 355470    ┆ … ┆ 0         ┆ 0         ┆ 0         ┆ 0         │\n",
       "│ 332      ┆ 12        ┆ 28        ┆ 355482    ┆ … ┆ 0         ┆ 0         ┆ 0         ┆ 0         │\n",
       "└──────────┴───────────┴───────────┴───────────┴───┴───────────┴───────────┴───────────┴───────────┘"
      ]
     },
     "execution_count": 22,
     "metadata": {},
     "output_type": "execute_result"
    }
   ],
   "source": [
    "from src.features.labels import add_labels\n",
    "\n",
    "df = add_labels(eda, trials)\n",
    "df"
   ]
  }
 ],
 "metadata": {
  "kernelspec": {
   "display_name": "pain",
   "language": "python",
   "name": "python3"
  },
  "language_info": {
   "codemirror_mode": {
    "name": "ipython",
    "version": 3
   },
   "file_extension": ".py",
   "mimetype": "text/x-python",
   "name": "python",
   "nbconvert_exporter": "python",
   "pygments_lexer": "ipython3",
   "version": "3.12.4"
  }
 },
 "nbformat": 4,
 "nbformat_minor": 2
}
