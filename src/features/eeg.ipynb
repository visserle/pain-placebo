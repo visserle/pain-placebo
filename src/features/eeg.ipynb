{
 "cells": [
  {
   "cell_type": "code",
   "execution_count": 1,
   "metadata": {},
   "outputs": [],
   "source": [
    "%%capture\n",
    "from pathlib import Path\n",
    "\n",
    "if Path.cwd().stem == \"features\":\n",
    "    %cd ../..\n",
    "    %load_ext autoreload\n",
    "    %autoreload 2"
   ]
  },
  {
   "cell_type": "code",
   "execution_count": 2,
   "metadata": {},
   "outputs": [
    {
     "data": {
      "application/javascript": "(function(root) {\n  function now() {\n    return new Date();\n  }\n\n  var force = true;\n  var py_version = '3.4.2'.replace('rc', '-rc.').replace('.dev', '-dev.');\n  var reloading = false;\n  var Bokeh = root.Bokeh;\n\n  if (typeof (root._bokeh_timeout) === \"undefined\" || force) {\n    root._bokeh_timeout = Date.now() + 5000;\n    root._bokeh_failed_load = false;\n  }\n\n  function run_callbacks() {\n    try {\n      root._bokeh_onload_callbacks.forEach(function(callback) {\n        if (callback != null)\n          callback();\n      });\n    } finally {\n      delete root._bokeh_onload_callbacks;\n    }\n    console.debug(\"Bokeh: all callbacks have finished\");\n  }\n\n  function load_libs(css_urls, js_urls, js_modules, js_exports, callback) {\n    if (css_urls == null) css_urls = [];\n    if (js_urls == null) js_urls = [];\n    if (js_modules == null) js_modules = [];\n    if (js_exports == null) js_exports = {};\n\n    root._bokeh_onload_callbacks.push(callback);\n\n    if (root._bokeh_is_loading > 0) {\n      console.debug(\"Bokeh: BokehJS is being loaded, scheduling callback at\", now());\n      return null;\n    }\n    if (js_urls.length === 0 && js_modules.length === 0 && Object.keys(js_exports).length === 0) {\n      run_callbacks();\n      return null;\n    }\n    if (!reloading) {\n      console.debug(\"Bokeh: BokehJS not loaded, scheduling load and callback at\", now());\n    }\n\n    function on_load() {\n      root._bokeh_is_loading--;\n      if (root._bokeh_is_loading === 0) {\n        console.debug(\"Bokeh: all BokehJS libraries/stylesheets loaded\");\n        run_callbacks()\n      }\n    }\n    window._bokeh_on_load = on_load\n\n    function on_error() {\n      console.error(\"failed to load \" + url);\n    }\n\n    var skip = [];\n    if (window.requirejs) {\n      window.requirejs.config({'packages': {}, 'paths': {}, 'shim': {}});\n      root._bokeh_is_loading = css_urls.length + 0;\n    } else {\n      root._bokeh_is_loading = css_urls.length + js_urls.length + js_modules.length + Object.keys(js_exports).length;\n    }\n\n    var existing_stylesheets = []\n    var links = document.getElementsByTagName('link')\n    for (var i = 0; i < links.length; i++) {\n      var link = links[i]\n      if (link.href != null) {\n\texisting_stylesheets.push(link.href)\n      }\n    }\n    for (var i = 0; i < css_urls.length; i++) {\n      var url = css_urls[i];\n      if (existing_stylesheets.indexOf(url) !== -1) {\n\ton_load()\n\tcontinue;\n      }\n      const element = document.createElement(\"link\");\n      element.onload = on_load;\n      element.onerror = on_error;\n      element.rel = \"stylesheet\";\n      element.type = \"text/css\";\n      element.href = url;\n      console.debug(\"Bokeh: injecting link tag for BokehJS stylesheet: \", url);\n      document.body.appendChild(element);\n    }    var existing_scripts = []\n    var scripts = document.getElementsByTagName('script')\n    for (var i = 0; i < scripts.length; i++) {\n      var script = scripts[i]\n      if (script.src != null) {\n\texisting_scripts.push(script.src)\n      }\n    }\n    for (var i = 0; i < js_urls.length; i++) {\n      var url = js_urls[i];\n      if (skip.indexOf(url) !== -1 || existing_scripts.indexOf(url) !== -1) {\n\tif (!window.requirejs) {\n\t  on_load();\n\t}\n\tcontinue;\n      }\n      var element = document.createElement('script');\n      element.onload = on_load;\n      element.onerror = on_error;\n      element.async = false;\n      element.src = url;\n      console.debug(\"Bokeh: injecting script tag for BokehJS library: \", url);\n      document.head.appendChild(element);\n    }\n    for (var i = 0; i < js_modules.length; i++) {\n      var url = js_modules[i];\n      if (skip.indexOf(url) !== -1 || existing_scripts.indexOf(url) !== -1) {\n\tif (!window.requirejs) {\n\t  on_load();\n\t}\n\tcontinue;\n      }\n      var element = document.createElement('script');\n      element.onload = on_load;\n      element.onerror = on_error;\n      element.async = false;\n      element.src = url;\n      element.type = \"module\";\n      console.debug(\"Bokeh: injecting script tag for BokehJS library: \", url);\n      document.head.appendChild(element);\n    }\n    for (const name in js_exports) {\n      var url = js_exports[name];\n      if (skip.indexOf(url) >= 0 || root[name] != null) {\n\tif (!window.requirejs) {\n\t  on_load();\n\t}\n\tcontinue;\n      }\n      var element = document.createElement('script');\n      element.onerror = on_error;\n      element.async = false;\n      element.type = \"module\";\n      console.debug(\"Bokeh: injecting script tag for BokehJS library: \", url);\n      element.textContent = `\n      import ${name} from \"${url}\"\n      window.${name} = ${name}\n      window._bokeh_on_load()\n      `\n      document.head.appendChild(element);\n    }\n    if (!js_urls.length && !js_modules.length) {\n      on_load()\n    }\n  };\n\n  function inject_raw_css(css) {\n    const element = document.createElement(\"style\");\n    element.appendChild(document.createTextNode(css));\n    document.body.appendChild(element);\n  }\n\n  var js_urls = [\"https://cdn.bokeh.org/bokeh/release/bokeh-3.4.2.min.js\", \"https://cdn.bokeh.org/bokeh/release/bokeh-gl-3.4.2.min.js\", \"https://cdn.bokeh.org/bokeh/release/bokeh-widgets-3.4.2.min.js\", \"https://cdn.bokeh.org/bokeh/release/bokeh-tables-3.4.2.min.js\", \"https://cdn.holoviz.org/panel/1.4.4/dist/panel.min.js\"];\n  var js_modules = [];\n  var js_exports = {};\n  var css_urls = [];\n  var inline_js = [    function(Bokeh) {\n      Bokeh.set_log_level(\"info\");\n    },\nfunction(Bokeh) {} // ensure no trailing comma for IE\n  ];\n\n  function run_inline_js() {\n    if ((root.Bokeh !== undefined) || (force === true)) {\n      for (var i = 0; i < inline_js.length; i++) {\n\ttry {\n          inline_js[i].call(root, root.Bokeh);\n\t} catch(e) {\n\t  if (!reloading) {\n\t    throw e;\n\t  }\n\t}\n      }\n      // Cache old bokeh versions\n      if (Bokeh != undefined && !reloading) {\n\tvar NewBokeh = root.Bokeh;\n\tif (Bokeh.versions === undefined) {\n\t  Bokeh.versions = new Map();\n\t}\n\tif (NewBokeh.version !== Bokeh.version) {\n\t  Bokeh.versions.set(NewBokeh.version, NewBokeh)\n\t}\n\troot.Bokeh = Bokeh;\n      }} else if (Date.now() < root._bokeh_timeout) {\n      setTimeout(run_inline_js, 100);\n    } else if (!root._bokeh_failed_load) {\n      console.log(\"Bokeh: BokehJS failed to load within specified timeout.\");\n      root._bokeh_failed_load = true;\n    }\n    root._bokeh_is_initializing = false\n  }\n\n  function load_or_wait() {\n    // Implement a backoff loop that tries to ensure we do not load multiple\n    // versions of Bokeh and its dependencies at the same time.\n    // In recent versions we use the root._bokeh_is_initializing flag\n    // to determine whether there is an ongoing attempt to initialize\n    // bokeh, however for backward compatibility we also try to ensure\n    // that we do not start loading a newer (Panel>=1.0 and Bokeh>3) version\n    // before older versions are fully initialized.\n    if (root._bokeh_is_initializing && Date.now() > root._bokeh_timeout) {\n      root._bokeh_is_initializing = false;\n      root._bokeh_onload_callbacks = undefined;\n      console.log(\"Bokeh: BokehJS was loaded multiple times but one version failed to initialize.\");\n      load_or_wait();\n    } else if (root._bokeh_is_initializing || (typeof root._bokeh_is_initializing === \"undefined\" && root._bokeh_onload_callbacks !== undefined)) {\n      setTimeout(load_or_wait, 100);\n    } else {\n      root._bokeh_is_initializing = true\n      root._bokeh_onload_callbacks = []\n      var bokeh_loaded = Bokeh != null && (Bokeh.version === py_version || (Bokeh.versions !== undefined && Bokeh.versions.has(py_version)));\n      if (!reloading && !bokeh_loaded) {\n\troot.Bokeh = undefined;\n      }\n      load_libs(css_urls, js_urls, js_modules, js_exports, function() {\n\tconsole.debug(\"Bokeh: BokehJS plotting callback run at\", now());\n\trun_inline_js();\n      });\n    }\n  }\n  // Give older versions of the autoload script a head-start to ensure\n  // they initialize before we start loading newer version.\n  setTimeout(load_or_wait, 100)\n}(window));",
      "application/vnd.holoviews_load.v0+json": ""
     },
     "metadata": {},
     "output_type": "display_data"
    },
    {
     "data": {
      "application/javascript": "\nif ((window.PyViz === undefined) || (window.PyViz instanceof HTMLElement)) {\n  window.PyViz = {comms: {}, comm_status:{}, kernels:{}, receivers: {}, plot_index: []}\n}\n\n\n    function JupyterCommManager() {\n    }\n\n    JupyterCommManager.prototype.register_target = function(plot_id, comm_id, msg_handler) {\n      if (window.comm_manager || ((window.Jupyter !== undefined) && (Jupyter.notebook.kernel != null))) {\n        var comm_manager = window.comm_manager || Jupyter.notebook.kernel.comm_manager;\n        comm_manager.register_target(comm_id, function(comm) {\n          comm.on_msg(msg_handler);\n        });\n      } else if ((plot_id in window.PyViz.kernels) && (window.PyViz.kernels[plot_id])) {\n        window.PyViz.kernels[plot_id].registerCommTarget(comm_id, function(comm) {\n          comm.onMsg = msg_handler;\n        });\n      } else if (typeof google != 'undefined' && google.colab.kernel != null) {\n        google.colab.kernel.comms.registerTarget(comm_id, (comm) => {\n          var messages = comm.messages[Symbol.asyncIterator]();\n          function processIteratorResult(result) {\n            var message = result.value;\n            console.log(message)\n            var content = {data: message.data, comm_id};\n            var buffers = []\n            for (var buffer of message.buffers || []) {\n              buffers.push(new DataView(buffer))\n            }\n            var metadata = message.metadata || {};\n            var msg = {content, buffers, metadata}\n            msg_handler(msg);\n            return messages.next().then(processIteratorResult);\n          }\n          return messages.next().then(processIteratorResult);\n        })\n      }\n    }\n\n    JupyterCommManager.prototype.get_client_comm = function(plot_id, comm_id, msg_handler) {\n      if (comm_id in window.PyViz.comms) {\n        return window.PyViz.comms[comm_id];\n      } else if (window.comm_manager || ((window.Jupyter !== undefined) && (Jupyter.notebook.kernel != null))) {\n        var comm_manager = window.comm_manager || Jupyter.notebook.kernel.comm_manager;\n        var comm = comm_manager.new_comm(comm_id, {}, {}, {}, comm_id);\n        if (msg_handler) {\n          comm.on_msg(msg_handler);\n        }\n      } else if ((plot_id in window.PyViz.kernels) && (window.PyViz.kernels[plot_id])) {\n        var comm = window.PyViz.kernels[plot_id].connectToComm(comm_id);\n        comm.open();\n        if (msg_handler) {\n          comm.onMsg = msg_handler;\n        }\n      } else if (typeof google != 'undefined' && google.colab.kernel != null) {\n        var comm_promise = google.colab.kernel.comms.open(comm_id)\n        comm_promise.then((comm) => {\n          window.PyViz.comms[comm_id] = comm;\n          if (msg_handler) {\n            var messages = comm.messages[Symbol.asyncIterator]();\n            function processIteratorResult(result) {\n              var message = result.value;\n              var content = {data: message.data};\n              var metadata = message.metadata || {comm_id};\n              var msg = {content, metadata}\n              msg_handler(msg);\n              return messages.next().then(processIteratorResult);\n            }\n            return messages.next().then(processIteratorResult);\n          }\n        }) \n        var sendClosure = (data, metadata, buffers, disposeOnDone) => {\n          return comm_promise.then((comm) => {\n            comm.send(data, metadata, buffers, disposeOnDone);\n          });\n        };\n        var comm = {\n          send: sendClosure\n        };\n      }\n      window.PyViz.comms[comm_id] = comm;\n      return comm;\n    }\n    window.PyViz.comm_manager = new JupyterCommManager();\n    \n\n\nvar JS_MIME_TYPE = 'application/javascript';\nvar HTML_MIME_TYPE = 'text/html';\nvar EXEC_MIME_TYPE = 'application/vnd.holoviews_exec.v0+json';\nvar CLASS_NAME = 'output';\n\n/**\n * Render data to the DOM node\n */\nfunction render(props, node) {\n  var div = document.createElement(\"div\");\n  var script = document.createElement(\"script\");\n  node.appendChild(div);\n  node.appendChild(script);\n}\n\n/**\n * Handle when a new output is added\n */\nfunction handle_add_output(event, handle) {\n  var output_area = handle.output_area;\n  var output = handle.output;\n  if ((output.data == undefined) || (!output.data.hasOwnProperty(EXEC_MIME_TYPE))) {\n    return\n  }\n  var id = output.metadata[EXEC_MIME_TYPE][\"id\"];\n  var toinsert = output_area.element.find(\".\" + CLASS_NAME.split(' ')[0]);\n  if (id !== undefined) {\n    var nchildren = toinsert.length;\n    var html_node = toinsert[nchildren-1].children[0];\n    html_node.innerHTML = output.data[HTML_MIME_TYPE];\n    var scripts = [];\n    var nodelist = html_node.querySelectorAll(\"script\");\n    for (var i in nodelist) {\n      if (nodelist.hasOwnProperty(i)) {\n        scripts.push(nodelist[i])\n      }\n    }\n\n    scripts.forEach( function (oldScript) {\n      var newScript = document.createElement(\"script\");\n      var attrs = [];\n      var nodemap = oldScript.attributes;\n      for (var j in nodemap) {\n        if (nodemap.hasOwnProperty(j)) {\n          attrs.push(nodemap[j])\n        }\n      }\n      attrs.forEach(function(attr) { newScript.setAttribute(attr.name, attr.value) });\n      newScript.appendChild(document.createTextNode(oldScript.innerHTML));\n      oldScript.parentNode.replaceChild(newScript, oldScript);\n    });\n    if (JS_MIME_TYPE in output.data) {\n      toinsert[nchildren-1].children[1].textContent = output.data[JS_MIME_TYPE];\n    }\n    output_area._hv_plot_id = id;\n    if ((window.Bokeh !== undefined) && (id in Bokeh.index)) {\n      window.PyViz.plot_index[id] = Bokeh.index[id];\n    } else {\n      window.PyViz.plot_index[id] = null;\n    }\n  } else if (output.metadata[EXEC_MIME_TYPE][\"server_id\"] !== undefined) {\n    var bk_div = document.createElement(\"div\");\n    bk_div.innerHTML = output.data[HTML_MIME_TYPE];\n    var script_attrs = bk_div.children[0].attributes;\n    for (var i = 0; i < script_attrs.length; i++) {\n      toinsert[toinsert.length - 1].childNodes[1].setAttribute(script_attrs[i].name, script_attrs[i].value);\n    }\n    // store reference to server id on output_area\n    output_area._bokeh_server_id = output.metadata[EXEC_MIME_TYPE][\"server_id\"];\n  }\n}\n\n/**\n * Handle when an output is cleared or removed\n */\nfunction handle_clear_output(event, handle) {\n  var id = handle.cell.output_area._hv_plot_id;\n  var server_id = handle.cell.output_area._bokeh_server_id;\n  if (((id === undefined) || !(id in PyViz.plot_index)) && (server_id !== undefined)) { return; }\n  var comm = window.PyViz.comm_manager.get_client_comm(\"hv-extension-comm\", \"hv-extension-comm\", function () {});\n  if (server_id !== null) {\n    comm.send({event_type: 'server_delete', 'id': server_id});\n    return;\n  } else if (comm !== null) {\n    comm.send({event_type: 'delete', 'id': id});\n  }\n  delete PyViz.plot_index[id];\n  if ((window.Bokeh !== undefined) & (id in window.Bokeh.index)) {\n    var doc = window.Bokeh.index[id].model.document\n    doc.clear();\n    const i = window.Bokeh.documents.indexOf(doc);\n    if (i > -1) {\n      window.Bokeh.documents.splice(i, 1);\n    }\n  }\n}\n\n/**\n * Handle kernel restart event\n */\nfunction handle_kernel_cleanup(event, handle) {\n  delete PyViz.comms[\"hv-extension-comm\"];\n  window.PyViz.plot_index = {}\n}\n\n/**\n * Handle update_display_data messages\n */\nfunction handle_update_output(event, handle) {\n  handle_clear_output(event, {cell: {output_area: handle.output_area}})\n  handle_add_output(event, handle)\n}\n\nfunction register_renderer(events, OutputArea) {\n  function append_mime(data, metadata, element) {\n    // create a DOM node to render to\n    var toinsert = this.create_output_subarea(\n    metadata,\n    CLASS_NAME,\n    EXEC_MIME_TYPE\n    );\n    this.keyboard_manager.register_events(toinsert);\n    // Render to node\n    var props = {data: data, metadata: metadata[EXEC_MIME_TYPE]};\n    render(props, toinsert[0]);\n    element.append(toinsert);\n    return toinsert\n  }\n\n  events.on('output_added.OutputArea', handle_add_output);\n  events.on('output_updated.OutputArea', handle_update_output);\n  events.on('clear_output.CodeCell', handle_clear_output);\n  events.on('delete.Cell', handle_clear_output);\n  events.on('kernel_ready.Kernel', handle_kernel_cleanup);\n\n  OutputArea.prototype.register_mime_type(EXEC_MIME_TYPE, append_mime, {\n    safe: true,\n    index: 0\n  });\n}\n\nif (window.Jupyter !== undefined) {\n  try {\n    var events = require('base/js/events');\n    var OutputArea = require('notebook/js/outputarea').OutputArea;\n    if (OutputArea.prototype.mime_types().indexOf(EXEC_MIME_TYPE) == -1) {\n      register_renderer(events, OutputArea);\n    }\n  } catch(err) {\n  }\n}\n",
      "application/vnd.holoviews_load.v0+json": ""
     },
     "metadata": {},
     "output_type": "display_data"
    },
    {
     "data": {
      "text/html": [
       "<style>*[data-root-id],\n",
       "*[data-root-id] > * {\n",
       "  box-sizing: border-box;\n",
       "  font-family: var(--jp-ui-font-family);\n",
       "  font-size: var(--jp-ui-font-size1);\n",
       "  color: var(--vscode-editor-foreground, var(--jp-ui-font-color1));\n",
       "}\n",
       "\n",
       "/* Override VSCode background color */\n",
       ".cell-output-ipywidget-background:has(\n",
       "    > .cell-output-ipywidget-background > .lm-Widget > *[data-root-id]\n",
       "  ),\n",
       ".cell-output-ipywidget-background:has(> .lm-Widget > *[data-root-id]) {\n",
       "  background-color: transparent !important;\n",
       "}\n",
       "</style>"
      ]
     },
     "metadata": {},
     "output_type": "display_data"
    },
    {
     "data": {
      "application/vnd.holoviews_exec.v0+json": "",
      "text/html": [
       "<div id='p1002'>\n",
       "  <div id=\"d6e75839-53a7-4a50-889c-e32ae95c6b29\" data-root-id=\"p1002\" style=\"display: contents;\"></div>\n",
       "</div>\n",
       "<script type=\"application/javascript\">(function(root) {\n",
       "  var docs_json = {\"99a334f2-9a23-4970-b117-c29ea4115760\":{\"version\":\"3.4.2\",\"title\":\"Bokeh Application\",\"roots\":[{\"type\":\"object\",\"name\":\"panel.models.browser.BrowserInfo\",\"id\":\"p1002\"},{\"type\":\"object\",\"name\":\"panel.models.comm_manager.CommManager\",\"id\":\"p1003\",\"attributes\":{\"plot_id\":\"p1002\",\"comm_id\":\"6ce5f9c1645b4df48ee3179543ee112c\",\"client_comm_id\":\"9d1f007718ff4f62844ad822d1b2b563\"}}],\"defs\":[{\"type\":\"model\",\"name\":\"ReactiveHTML1\"},{\"type\":\"model\",\"name\":\"FlexBox1\",\"properties\":[{\"name\":\"align_content\",\"kind\":\"Any\",\"default\":\"flex-start\"},{\"name\":\"align_items\",\"kind\":\"Any\",\"default\":\"flex-start\"},{\"name\":\"flex_direction\",\"kind\":\"Any\",\"default\":\"row\"},{\"name\":\"flex_wrap\",\"kind\":\"Any\",\"default\":\"wrap\"},{\"name\":\"gap\",\"kind\":\"Any\",\"default\":\"\"},{\"name\":\"justify_content\",\"kind\":\"Any\",\"default\":\"flex-start\"}]},{\"type\":\"model\",\"name\":\"FloatPanel1\",\"properties\":[{\"name\":\"config\",\"kind\":\"Any\",\"default\":{\"type\":\"map\"}},{\"name\":\"contained\",\"kind\":\"Any\",\"default\":true},{\"name\":\"position\",\"kind\":\"Any\",\"default\":\"right-top\"},{\"name\":\"offsetx\",\"kind\":\"Any\",\"default\":null},{\"name\":\"offsety\",\"kind\":\"Any\",\"default\":null},{\"name\":\"theme\",\"kind\":\"Any\",\"default\":\"primary\"},{\"name\":\"status\",\"kind\":\"Any\",\"default\":\"normalized\"}]},{\"type\":\"model\",\"name\":\"GridStack1\",\"properties\":[{\"name\":\"mode\",\"kind\":\"Any\",\"default\":\"warn\"},{\"name\":\"ncols\",\"kind\":\"Any\",\"default\":null},{\"name\":\"nrows\",\"kind\":\"Any\",\"default\":null},{\"name\":\"allow_resize\",\"kind\":\"Any\",\"default\":true},{\"name\":\"allow_drag\",\"kind\":\"Any\",\"default\":true},{\"name\":\"state\",\"kind\":\"Any\",\"default\":[]}]},{\"type\":\"model\",\"name\":\"drag1\",\"properties\":[{\"name\":\"slider_width\",\"kind\":\"Any\",\"default\":5},{\"name\":\"slider_color\",\"kind\":\"Any\",\"default\":\"black\"},{\"name\":\"value\",\"kind\":\"Any\",\"default\":50}]},{\"type\":\"model\",\"name\":\"click1\",\"properties\":[{\"name\":\"terminal_output\",\"kind\":\"Any\",\"default\":\"\"},{\"name\":\"debug_name\",\"kind\":\"Any\",\"default\":\"\"},{\"name\":\"clears\",\"kind\":\"Any\",\"default\":0}]},{\"type\":\"model\",\"name\":\"FastWrapper1\",\"properties\":[{\"name\":\"object\",\"kind\":\"Any\",\"default\":null},{\"name\":\"style\",\"kind\":\"Any\",\"default\":null}]},{\"type\":\"model\",\"name\":\"NotificationAreaBase1\",\"properties\":[{\"name\":\"js_events\",\"kind\":\"Any\",\"default\":{\"type\":\"map\"}},{\"name\":\"position\",\"kind\":\"Any\",\"default\":\"bottom-right\"},{\"name\":\"_clear\",\"kind\":\"Any\",\"default\":0}]},{\"type\":\"model\",\"name\":\"NotificationArea1\",\"properties\":[{\"name\":\"js_events\",\"kind\":\"Any\",\"default\":{\"type\":\"map\"}},{\"name\":\"notifications\",\"kind\":\"Any\",\"default\":[]},{\"name\":\"position\",\"kind\":\"Any\",\"default\":\"bottom-right\"},{\"name\":\"_clear\",\"kind\":\"Any\",\"default\":0},{\"name\":\"types\",\"kind\":\"Any\",\"default\":[{\"type\":\"map\",\"entries\":[[\"type\",\"warning\"],[\"background\",\"#ffc107\"],[\"icon\",{\"type\":\"map\",\"entries\":[[\"className\",\"fas fa-exclamation-triangle\"],[\"tagName\",\"i\"],[\"color\",\"white\"]]}]]},{\"type\":\"map\",\"entries\":[[\"type\",\"info\"],[\"background\",\"#007bff\"],[\"icon\",{\"type\":\"map\",\"entries\":[[\"className\",\"fas fa-info-circle\"],[\"tagName\",\"i\"],[\"color\",\"white\"]]}]]}]}]},{\"type\":\"model\",\"name\":\"Notification\",\"properties\":[{\"name\":\"background\",\"kind\":\"Any\",\"default\":null},{\"name\":\"duration\",\"kind\":\"Any\",\"default\":3000},{\"name\":\"icon\",\"kind\":\"Any\",\"default\":null},{\"name\":\"message\",\"kind\":\"Any\",\"default\":\"\"},{\"name\":\"notification_type\",\"kind\":\"Any\",\"default\":null},{\"name\":\"_destroyed\",\"kind\":\"Any\",\"default\":false}]},{\"type\":\"model\",\"name\":\"TemplateActions1\",\"properties\":[{\"name\":\"open_modal\",\"kind\":\"Any\",\"default\":0},{\"name\":\"close_modal\",\"kind\":\"Any\",\"default\":0}]},{\"type\":\"model\",\"name\":\"BootstrapTemplateActions1\",\"properties\":[{\"name\":\"open_modal\",\"kind\":\"Any\",\"default\":0},{\"name\":\"close_modal\",\"kind\":\"Any\",\"default\":0}]},{\"type\":\"model\",\"name\":\"TemplateEditor1\",\"properties\":[{\"name\":\"layout\",\"kind\":\"Any\",\"default\":[]}]},{\"type\":\"model\",\"name\":\"MaterialTemplateActions1\",\"properties\":[{\"name\":\"open_modal\",\"kind\":\"Any\",\"default\":0},{\"name\":\"close_modal\",\"kind\":\"Any\",\"default\":0}]},{\"type\":\"model\",\"name\":\"copy_to_clipboard1\",\"properties\":[{\"name\":\"fill\",\"kind\":\"Any\",\"default\":\"none\"},{\"name\":\"value\",\"kind\":\"Any\",\"default\":null}]}]}};\n",
       "  var render_items = [{\"docid\":\"99a334f2-9a23-4970-b117-c29ea4115760\",\"roots\":{\"p1002\":\"d6e75839-53a7-4a50-889c-e32ae95c6b29\"},\"root_ids\":[\"p1002\"]}];\n",
       "  var docs = Object.values(docs_json)\n",
       "  if (!docs) {\n",
       "    return\n",
       "  }\n",
       "  const py_version = docs[0].version.replace('rc', '-rc.').replace('.dev', '-dev.')\n",
       "  async function embed_document(root) {\n",
       "    var Bokeh = get_bokeh(root)\n",
       "    await Bokeh.embed.embed_items_notebook(docs_json, render_items);\n",
       "    for (const render_item of render_items) {\n",
       "      for (const root_id of render_item.root_ids) {\n",
       "\tconst id_el = document.getElementById(root_id)\n",
       "\tif (id_el.children.length && id_el.children[0].hasAttribute('data-root-id')) {\n",
       "\t  const root_el = id_el.children[0]\n",
       "\t  root_el.id = root_el.id + '-rendered'\n",
       "\t  for (const child of root_el.children) {\n",
       "            // Ensure JupyterLab does not capture keyboard shortcuts\n",
       "            // see: https://jupyterlab.readthedocs.io/en/4.1.x/extension/notebook.html#keyboard-interaction-model\n",
       "\t    child.setAttribute('data-lm-suppress-shortcuts', 'true')\n",
       "\t  }\n",
       "\t}\n",
       "      }\n",
       "    }\n",
       "  }\n",
       "  function get_bokeh(root) {\n",
       "    if (root.Bokeh === undefined) {\n",
       "      return null\n",
       "    } else if (root.Bokeh.version !== py_version) {\n",
       "      if (root.Bokeh.versions === undefined || !root.Bokeh.versions.has(py_version)) {\n",
       "\treturn null\n",
       "      }\n",
       "      return root.Bokeh.versions.get(py_version);\n",
       "    } else if (root.Bokeh.version === py_version) {\n",
       "      return root.Bokeh\n",
       "    }\n",
       "    return null\n",
       "  }\n",
       "  function is_loaded(root) {\n",
       "    var Bokeh = get_bokeh(root)\n",
       "    return (Bokeh != null && Bokeh.Panel !== undefined)\n",
       "  }\n",
       "  if (is_loaded(root)) {\n",
       "    embed_document(root);\n",
       "  } else {\n",
       "    var attempts = 0;\n",
       "    var timer = setInterval(function(root) {\n",
       "      if (is_loaded(root)) {\n",
       "        clearInterval(timer);\n",
       "        embed_document(root);\n",
       "      } else if (document.readyState == \"complete\") {\n",
       "        attempts++;\n",
       "        if (attempts > 200) {\n",
       "          clearInterval(timer);\n",
       "\t  var Bokeh = get_bokeh(root)\n",
       "\t  if (Bokeh == null || Bokeh.Panel == null) {\n",
       "            console.warn(\"Panel: ERROR: Unable to run Panel code because Bokeh or Panel library is missing\");\n",
       "\t  } else {\n",
       "\t    console.warn(\"Panel: WARNING: Attempting to render but not all required libraries could be resolved.\")\n",
       "\t    embed_document(root)\n",
       "\t  }\n",
       "        }\n",
       "      }\n",
       "    }, 25, root)\n",
       "  }\n",
       "})(window);</script>"
      ]
     },
     "metadata": {
      "application/vnd.holoviews_exec.v0+json": {
       "id": "p1002"
      }
     },
     "output_type": "display_data"
    }
   ],
   "source": [
    "import logging\n",
    "from pathlib import Path\n",
    "\n",
    "import holoviews as hv\n",
    "import hvplot.polars  # noqa\n",
    "import matplotlib.pyplot as plt\n",
    "import mne\n",
    "import numpy as np\n",
    "import pandas as pd\n",
    "import plotly.io as pio\n",
    "import polars as pl\n",
    "from icecream import ic\n",
    "from ipywidgets import interact\n",
    "from polars import col\n",
    "from scipy import signal\n",
    "\n",
    "from src.data.database_manager import DatabaseManager\n",
    "from src.data.quality_checks import check_sample_rate\n",
    "from src.experiments.measurement.stimulus_generator import StimulusGenerator\n",
    "from src.features.eeg import (\n",
    "    decimate_eeg,\n",
    "    highpass_filter_eeg,\n",
    "    preprocess_eeg,\n",
    "    remove_line_noise,\n",
    ")\n",
    "from src.features.labels import add_labels, process_labels\n",
    "from src.features.resampling import decimate, interpolate_and_fill_nulls\n",
    "from src.features.scaling import scale_min_max\n",
    "from src.features.transforming import map_trials, merge_dfs\n",
    "from src.features.utils import add_time_column\n",
    "from src.log_config import configure_logging\n",
    "from src.plots.plot_modality import plot_modality_over_trials\n",
    "from src.plots.utils import prepare_multiline_hvplot\n",
    "\n",
    "logger = logging.getLogger(__name__.rsplit(\".\", 1)[-1])\n",
    "\n",
    "configure_logging(\n",
    "    stream_level=logging.DEBUG,\n",
    "    ignore_libs=[\"matplotlib\", \"Comm\", \"bokeh\", \"tornado\"],\n",
    ")\n",
    "\n",
    "pl.Config.set_tbl_rows(12)  # for the 12 trials\n",
    "hv.output(widget_location=\"bottom\", size=130)\n",
    "mne.set_log_level(verbose=False, return_old_level=False, add_frames=None)"
   ]
  },
  {
   "cell_type": "code",
   "execution_count": 3,
   "metadata": {},
   "outputs": [],
   "source": [
    "# Goal: aggregated EEG time frequency data across Trials x Channels (12 * 8)"
   ]
  },
  {
   "cell_type": "code",
   "execution_count": 4,
   "metadata": {},
   "outputs": [],
   "source": [
    "def plot_psd_df(\n",
    "    df: pl.DataFrame,\n",
    "    channel: str = \"c4\",\n",
    "    fs: int = 500,\n",
    "):\n",
    "    data = df.get_column(channel).to_numpy()\n",
    "    plt.psd(data, Fs=fs)\n",
    "    plt.title(f\"Power Spectral Density of {channel}\")\n"
   ]
  },
  {
   "cell_type": "code",
   "execution_count": 5,
   "metadata": {},
   "outputs": [],
   "source": [
    "def add_normalized_timestamp(\n",
    "    df: pl.DataFrame,\n",
    "    time_column: str = \"timestamp\",\n",
    "    trial_column: str = \"trial_id\",\n",
    "):\n",
    "    return df.with_columns(\n",
    "        [\n",
    "            (col(time_column) - col(time_column).min().over(trial_column)).alias(\n",
    "                \"normalized_timestamp\"\n",
    "            )\n",
    "        ]\n",
    "    ).sort(\"trial_id\", \"timestamp\")\n"
   ]
  },
  {
   "cell_type": "code",
   "execution_count": 6,
   "metadata": {},
   "outputs": [],
   "source": [
    "db = DatabaseManager()"
   ]
  },
  {
   "cell_type": "code",
   "execution_count": 7,
   "metadata": {},
   "outputs": [
    {
     "data": {
      "application/vnd.jupyter.widget-view+json": {
       "model_id": "7cdfab88698b42baac2129e91b3d8727",
       "version_major": 2,
       "version_minor": 0
      },
      "text/plain": [
       "FloatProgress(value=0.0, layout=Layout(width='auto'), style=ProgressStyle(bar_color='black'))"
      ]
     },
     "metadata": {},
     "output_type": "display_data"
    },
    {
     "data": {
      "text/html": [
       "<div><style>\n",
       ".dataframe > thead > tr,\n",
       ".dataframe > tbody > tr {\n",
       "  text-align: right;\n",
       "  white-space: pre-wrap;\n",
       "}\n",
       "</style>\n",
       "<small>shape: (29_882_180, 15)</small><table border=\"1\" class=\"dataframe\"><thead><tr><th>trial_id</th><th>trial_number</th><th>participant_id</th><th>stimulus_seed</th><th>timestamp</th><th>temperature</th><th>rating</th><th>f3</th><th>f4</th><th>c3</th><th>cz</th><th>c4</th><th>p3</th><th>p4</th><th>oz</th></tr><tr><td>u16</td><td>u8</td><td>u8</td><td>u16</td><td>f64</td><td>f64</td><td>f64</td><td>f64</td><td>f64</td><td>f64</td><td>f64</td><td>f64</td><td>f64</td><td>f64</td><td>f64</td></tr></thead><tbody><tr><td>1</td><td>1</td><td>1</td><td>396</td><td>294198.4628</td><td>0.0</td><td>0.425</td><td>9948.540039</td><td>12283.850586</td><td>5801.344238</td><td>18263.294922</td><td>12240.93457</td><td>17119.123047</td><td>13553.095703</td><td>5451.536133</td></tr><tr><td>1</td><td>1</td><td>1</td><td>396</td><td>294200.3867</td><td>0.0</td><td>0.425</td><td>9941.483398</td><td>12282.277344</td><td>5801.916016</td><td>18267.203125</td><td>12242.74707</td><td>17122.318359</td><td>13557.387695</td><td>5453.300781</td></tr><tr><td>1</td><td>1</td><td>1</td><td>396</td><td>294202.5715</td><td>0.0</td><td>0.425</td><td>9942.960938</td><td>12290.860352</td><td>5800.676758</td><td>18270.494141</td><td>12251.998047</td><td>17126.800781</td><td>13561.726562</td><td>5462.074219</td></tr><tr><td>1</td><td>1</td><td>1</td><td>396</td><td>294204.4057</td><td>0.0</td><td>0.425</td><td>9963.942383</td><td>12311.935547</td><td>5811.35791</td><td>18279.601562</td><td>12267.97168</td><td>17134.095703</td><td>13567.115234</td><td>5467.701172</td></tr><tr><td>1</td><td>1</td><td>1</td><td>396</td><td>294206.6215</td><td>0.0</td><td>0.425</td><td>9981.442383</td><td>12317.563477</td><td>5804.109863</td><td>18269.015625</td><td>12266.636719</td><td>17120.648438</td><td>13552.333008</td><td>5452.824219</td></tr><tr><td>1</td><td>1</td><td>1</td><td>396</td><td>294208.5568</td><td>0.0</td><td>0.425</td><td>9996.795898</td><td>12321.043945</td><td>5787.086914</td><td>18254.662109</td><td>12260.152344</td><td>17105.152344</td><td>13534.927734</td><td>5438.041992</td></tr><tr><td>&hellip;</td><td>&hellip;</td><td>&hellip;</td><td>&hellip;</td><td>&hellip;</td><td>&hellip;</td><td>&hellip;</td><td>&hellip;</td><td>&hellip;</td><td>&hellip;</td><td>&hellip;</td><td>&hellip;</td><td>&hellip;</td><td>&hellip;</td><td>&hellip;</td></tr><tr><td>332</td><td>12</td><td>28</td><td>133</td><td>2.7771e6</td><td>0.155438</td><td>0.85</td><td>-25060.083984</td><td>-25377.228516</td><td>-23833.611328</td><td>-20785.285156</td><td>-23060.753906</td><td>-26660.158203</td><td>-26556.542969</td><td>-24024.822266</td></tr><tr><td>332</td><td>12</td><td>28</td><td>133</td><td>2.7771e6</td><td>0.155438</td><td>0.85</td><td>-25062.753906</td><td>-25377.275391</td><td>-23837.044922</td><td>-20784.761719</td><td>-23065.902344</td><td>-26662.78125</td><td>-26562.980469</td><td>-24024.154297</td></tr><tr><td>332</td><td>12</td><td>28</td><td>133</td><td>2.7771e6</td><td>0.155438</td><td>0.85</td><td>-25066.140625</td><td>-25378.324219</td><td>-23841.574219</td><td>-20787.050781</td><td>-23072.435547</td><td>-26670.267578</td><td>-26570.65625</td><td>-24037.744141</td></tr><tr><td>332</td><td>12</td><td>28</td><td>133</td><td>2.7771e6</td><td>0.155438</td><td>0.85</td><td>-25064.613281</td><td>-25373.986328</td><td>-23837.378906</td><td>-20783.521484</td><td>-23067.810547</td><td>-26665.308594</td><td>-26563.884766</td><td>-24031.068359</td></tr><tr><td>332</td><td>12</td><td>28</td><td>133</td><td>2.7771e6</td><td>0.155438</td><td>0.85</td><td>-25063.851562</td><td>-25373.890625</td><td>-23834.087891</td><td>-20782.472656</td><td>-23064.042969</td><td>-26662.447266</td><td>-26560.261719</td><td>-24023.964844</td></tr><tr><td>332</td><td>12</td><td>28</td><td>133</td><td>2.7771e6</td><td>0.155438</td><td>0.85</td><td>-25066.425781</td><td>-25380.804688</td><td>-23837.283203</td><td>-20789.195312</td><td>-23067.523438</td><td>-26664.689453</td><td>-26564.076172</td><td>-24026.824219</td></tr></tbody></table></div>"
      ],
      "text/plain": [
       "shape: (29_882_180, 15)\n",
       "┌──────────┬───────────┬───────────┬───────────┬───┬───────────┬───────────┬───────────┬───────────┐\n",
       "│ trial_id ┆ trial_num ┆ participa ┆ stimulus_ ┆ … ┆ c4        ┆ p3        ┆ p4        ┆ oz        │\n",
       "│ ---      ┆ ber       ┆ nt_id     ┆ seed      ┆   ┆ ---       ┆ ---       ┆ ---       ┆ ---       │\n",
       "│ u16      ┆ ---       ┆ ---       ┆ ---       ┆   ┆ f64       ┆ f64       ┆ f64       ┆ f64       │\n",
       "│          ┆ u8        ┆ u8        ┆ u16       ┆   ┆           ┆           ┆           ┆           │\n",
       "╞══════════╪═══════════╪═══════════╪═══════════╪═══╪═══════════╪═══════════╪═══════════╪═══════════╡\n",
       "│ 1        ┆ 1         ┆ 1         ┆ 396       ┆ … ┆ 12240.934 ┆ 17119.123 ┆ 13553.095 ┆ 5451.5361 │\n",
       "│          ┆           ┆           ┆           ┆   ┆ 57        ┆ 047       ┆ 703       ┆ 33        │\n",
       "│ 1        ┆ 1         ┆ 1         ┆ 396       ┆ … ┆ 12242.747 ┆ 17122.318 ┆ 13557.387 ┆ 5453.3007 │\n",
       "│          ┆           ┆           ┆           ┆   ┆ 07        ┆ 359       ┆ 695       ┆ 81        │\n",
       "│ 1        ┆ 1         ┆ 1         ┆ 396       ┆ … ┆ 12251.998 ┆ 17126.800 ┆ 13561.726 ┆ 5462.0742 │\n",
       "│          ┆           ┆           ┆           ┆   ┆ 047       ┆ 781       ┆ 562       ┆ 19        │\n",
       "│ 1        ┆ 1         ┆ 1         ┆ 396       ┆ … ┆ 12267.971 ┆ 17134.095 ┆ 13567.115 ┆ 5467.7011 │\n",
       "│          ┆           ┆           ┆           ┆   ┆ 68        ┆ 703       ┆ 234       ┆ 72        │\n",
       "│ 1        ┆ 1         ┆ 1         ┆ 396       ┆ … ┆ 12266.636 ┆ 17120.648 ┆ 13552.333 ┆ 5452.8242 │\n",
       "│          ┆           ┆           ┆           ┆   ┆ 719       ┆ 438       ┆ 008       ┆ 19        │\n",
       "│ 1        ┆ 1         ┆ 1         ┆ 396       ┆ … ┆ 12260.152 ┆ 17105.152 ┆ 13534.927 ┆ 5438.0419 │\n",
       "│          ┆           ┆           ┆           ┆   ┆ 344       ┆ 344       ┆ 734       ┆ 92        │\n",
       "│ …        ┆ …         ┆ …         ┆ …         ┆ … ┆ …         ┆ …         ┆ …         ┆ …         │\n",
       "│ 332      ┆ 12        ┆ 28        ┆ 133       ┆ … ┆ -23060.75 ┆ -26660.15 ┆ -26556.54 ┆ -24024.82 │\n",
       "│          ┆           ┆           ┆           ┆   ┆ 3906      ┆ 8203      ┆ 2969      ┆ 2266      │\n",
       "│ 332      ┆ 12        ┆ 28        ┆ 133       ┆ … ┆ -23065.90 ┆ -26662.78 ┆ -26562.98 ┆ -24024.15 │\n",
       "│          ┆           ┆           ┆           ┆   ┆ 2344      ┆ 125       ┆ 0469      ┆ 4297      │\n",
       "│ 332      ┆ 12        ┆ 28        ┆ 133       ┆ … ┆ -23072.43 ┆ -26670.26 ┆ -26570.65 ┆ -24037.74 │\n",
       "│          ┆           ┆           ┆           ┆   ┆ 5547      ┆ 7578      ┆ 625       ┆ 4141      │\n",
       "│ 332      ┆ 12        ┆ 28        ┆ 133       ┆ … ┆ -23067.81 ┆ -26665.30 ┆ -26563.88 ┆ -24031.06 │\n",
       "│          ┆           ┆           ┆           ┆   ┆ 0547      ┆ 8594      ┆ 4766      ┆ 8359      │\n",
       "│ 332      ┆ 12        ┆ 28        ┆ 133       ┆ … ┆ -23064.04 ┆ -26662.44 ┆ -26560.26 ┆ -24023.96 │\n",
       "│          ┆           ┆           ┆           ┆   ┆ 2969      ┆ 7266      ┆ 1719      ┆ 4844      │\n",
       "│ 332      ┆ 12        ┆ 28        ┆ 133       ┆ … ┆ -23067.52 ┆ -26664.68 ┆ -26564.07 ┆ -24026.82 │\n",
       "│          ┆           ┆           ┆           ┆   ┆ 3438      ┆ 9453      ┆ 6172      ┆ 4219      │\n",
       "└──────────┴───────────┴───────────┴───────────┴───┴───────────┴───────────┴───────────┴───────────┘"
      ]
     },
     "execution_count": 7,
     "metadata": {},
     "output_type": "execute_result"
    }
   ],
   "source": [
    "exclude_ = False\n",
    "eeg_query = \"\"\"\n",
    "SELECT * \n",
    "FROM Raw_EEG\n",
    "WHERE trial_id < 60\n",
    "\"\"\"\n",
    "trial_query = \"\"\"\n",
    "SELECT *\n",
    "FROM Trials\n",
    "WHERE trial_id < 60\n",
    "\"\"\"\n",
    "with db:\n",
    "    eeg = db.get_table(\"Raw_EEG\", exclude_)\n",
    "    trials = db.get_table(\"Trials\", exclude_)\n",
    "    stimulus = db.get_table(\"Feature_Stimulus\", exclude_)\n",
    "\n",
    "df = merge_dfs([stimulus, eeg])\n",
    "df = merge_dfs(\n",
    "    dfs=[trials, df],\n",
    "    on=[\n",
    "        \"trial_id\",\n",
    "        \"participant_id\",\n",
    "        \"trial_number\",\n",
    "    ],\n",
    ").drop(\"timestamp_start\", \"timestamp_end\", \"duration\", \"skin_area\", \"rownumber\")\n",
    "# we only interpolate stimulus columns to keep the sampling rate of the eeg data\n",
    "df = interpolate_and_fill_nulls(df, [\"rating\", \"temperature\"]).drop_nulls()\n",
    "df\n",
    "# add_normalized_timestamp(df).write_parquet(\"raw_eeg.parquet\")"
   ]
  },
  {
   "cell_type": "code",
   "execution_count": 8,
   "metadata": {},
   "outputs": [
    {
     "data": {
      "application/vnd.jupyter.widget-view+json": {
       "model_id": "38548bba92b04c5d994056cdc45cb413",
       "version_major": 2,
       "version_minor": 0
      },
      "text/plain": [
       "interactive(children=(IntSlider(value=30, description='trial_id', max=60), Output()), _dom_classes=('widget-in…"
      ]
     },
     "metadata": {},
     "output_type": "display_data"
    }
   ],
   "source": [
    "def compute_time_frequency(\n",
    "    data: np.ndarray,\n",
    "    fs: float,\n",
    "    nperseg: int = 256,\n",
    "    noverlap: int = 128,\n",
    "    freq_range: tuple = (0.5, 50),\n",
    "    window: str = \"hann\",\n",
    ") -> tuple:\n",
    "    \"\"\"Compute time-frequency representation using better parameters for EEG.\n",
    "\n",
    "    Args:\n",
    "        data: EEG signal\n",
    "        fs: Sampling frequency\n",
    "        nperseg: Length of each segment\n",
    "        noverlap: Number of points to overlap\n",
    "        freq_range: Tuple of (min_freq, max_freq)\n",
    "        window: Window function to use\n",
    "\n",
    "    Returns:\n",
    "        Tuple of (frequencies, times, power)\n",
    "    \"\"\"\n",
    "    # Compute spectrogram\n",
    "    f, t, Sxx = signal.spectrogram(\n",
    "        data,\n",
    "        fs=fs,\n",
    "        nperseg=nperseg,\n",
    "        noverlap=noverlap,\n",
    "        window=window,\n",
    "        scaling=\"density\",\n",
    "        detrend=\"constant\",\n",
    "    )\n",
    "\n",
    "    # Find frequency range indices\n",
    "    freq_mask = (f >= freq_range[0]) & (f <= freq_range[1])\n",
    "    f = f[freq_mask]\n",
    "    Sxx = Sxx[freq_mask]\n",
    "\n",
    "    # Convert to dB scale with proper normalization\n",
    "    Sxx = 10 * np.log10(Sxx + np.finfo(float).eps)\n",
    "\n",
    "    return f, t, Sxx\n",
    "\n",
    "\n",
    "@interact(trial_id=(0, 60))\n",
    "def plot_spectrogram(trial_id):\n",
    "    SAMPLE_RATE = 500\n",
    "    decimation_factor = 2\n",
    "\n",
    "    # Get trial data\n",
    "    eeg = df.filter(col(\"trial_id\") == trial_id)\n",
    "\n",
    "    # Preprocess\n",
    "    decimated = decimate_eeg(eeg, decimation_factor)\n",
    "    fs = SAMPLE_RATE / decimation_factor\n",
    "    filtered = highpass_filter_eeg(decimated, 0.5, fs)\n",
    "    denoised = remove_line_noise(filtered, fs)\n",
    "\n",
    "    # Get EEG data\n",
    "    data = denoised.get_column(\"c4\").to_numpy()\n",
    "\n",
    "    # Compute time-frequency representation\n",
    "    f, t, Sxx = compute_time_frequency(\n",
    "        data,\n",
    "        fs=fs,\n",
    "        nperseg=int(fs),  # 1-second windows\n",
    "        noverlap=int(fs * 0.9),  # 90% overlap\n",
    "        freq_range=(0.5, 50),\n",
    "        window=\"hann\",\n",
    "    )\n",
    "\n",
    "    # Plot\n",
    "    plt.figure(figsize=(12, 6))\n",
    "\n",
    "    # Plot spectrogram with better parameters\n",
    "    plt.pcolormesh(t, f, Sxx, cmap=\"RdBu_r\", shading=\"gouraud\")\n",
    "\n",
    "    # Get and plot stimulus\n",
    "    seed = (\n",
    "        denoised.filter(col(\"trial_id\") == trial_id)\n",
    "        .get_column(\"stimulus_seed\")\n",
    "        .unique()\n",
    "        .item()\n",
    "    )\n",
    "    stimulus = StimulusGenerator(seed=seed)\n",
    "\n",
    "    # Scale stimulus to frequency range\n",
    "    stimulus_scaled = np.interp(\n",
    "        stimulus.y, (stimulus.y.min(), stimulus.y.max()), (f.min(), f.max())\n",
    "    )\n",
    "    stimulus_time = np.linspace(0, t[-1], len(stimulus.y))\n",
    "\n",
    "    # Plot stimulus overlay\n",
    "    plt.plot(stimulus_time, stimulus_scaled, color=\"black\", alpha=0.5, linewidth=1)\n",
    "\n",
    "    # Customize plot\n",
    "    plt.colorbar(label=\"Power (dB)\")\n",
    "    plt.ylabel(\"Frequency (Hz)\")\n",
    "    plt.xlabel(\"Time (s)\")\n",
    "    plt.title(f\"Trial {trial_id} - Channel C4\")\n",
    "\n",
    "    # Set better frequency range for visualization\n",
    "    plt.ylim(0.5, 50)\n",
    "\n",
    "    plt.tight_layout()\n",
    "    plt.show()\n"
   ]
  },
  {
   "cell_type": "markdown",
   "metadata": {},
   "source": [
    "multitaper"
   ]
  },
  {
   "cell_type": "code",
   "execution_count": 9,
   "metadata": {},
   "outputs": [
    {
     "data": {
      "application/vnd.jupyter.widget-view+json": {
       "model_id": "27bec60898e840dbbb81698205a919b4",
       "version_major": 2,
       "version_minor": 0
      },
      "text/plain": [
       "interactive(children=(IntSlider(value=30, description='trial_id', max=60), Output()), _dom_classes=('widget-in…"
      ]
     },
     "metadata": {},
     "output_type": "display_data"
    }
   ],
   "source": [
    "@interact(trial_id=(0, 60))\n",
    "def plot_spectrogram(trial_id):\n",
    "    SAMPLE_RATE = 500\n",
    "    # trial_id = 32\n",
    "    decimation_factor = 2\n",
    "\n",
    "    eeg = df.filter(col(\"trial_id\") == trial_id)\n",
    "\n",
    "    decimated = decimate_eeg(eeg, decimation_factor)\n",
    "    SAMPLE_RATE /= decimation_factor\n",
    "    filtered = highpass_filter_eeg(decimated, 0.5, SAMPLE_RATE)\n",
    "    denoised = remove_line_noise(filtered, SAMPLE_RATE)\n",
    "\n",
    "    data = denoised.get_column(\"c4\").to_numpy().T\n",
    "\n",
    "    # Create the spectrogram\n",
    "    f, t, Sxx = signal.spectrogram(\n",
    "        data, fs=SAMPLE_RATE, nperseg=256, noverlap=128, scaling=\"density\"\n",
    "    )\n",
    "\n",
    "    # Create the plot\n",
    "    plt.figure(figsize=(10, 6))\n",
    "\n",
    "    # Plot spectrogram\n",
    "    plt.pcolormesh(t, f, 10 * np.log10(Sxx), cmap=\"jet\", shading=\"auto\")\n",
    "\n",
    "    # Get stimulus data\n",
    "    seed = (\n",
    "        denoised.filter(col(\"trial_id\") == trial_id)\n",
    "        .get_column(\"stimulus_seed\")\n",
    "        .unique()\n",
    "        .item()\n",
    "    )\n",
    "    print(seed)\n",
    "    stimulus = StimulusGenerator(seed=seed)\n",
    "\n",
    "    # Scale the stimulus data to match the frequency range\n",
    "    stimulus_scaled = np.interp(\n",
    "        stimulus.y, (stimulus.y.min(), stimulus.y.max()), (f.min(), f.max())\n",
    "    )\n",
    "\n",
    "    # Create time points for stimulus that match spectrogram time axis\n",
    "    stimulus_time = np.linspace(0, t[-1], len(stimulus.y))\n",
    "\n",
    "    # Plot the scaled stimulus\n",
    "    plt.plot(stimulus_time, stimulus_scaled, color=\"black\")\n",
    "\n",
    "    plt.colorbar(label=\"Power/Frequency (dB/Hz)\")\n",
    "    plt.ylabel(\"Frequency [Hz]\")\n",
    "    plt.xlabel(\"Time [s]\")\n",
    "    plt.show()\n"
   ]
  },
  {
   "cell_type": "code",
   "execution_count": 10,
   "metadata": {},
   "outputs": [
    {
     "ename": "NameError",
     "evalue": "name 'decimated' is not defined",
     "output_type": "error",
     "traceback": [
      "\u001b[0;31m---------------------------------------------------------------------------\u001b[0m",
      "\u001b[0;31mNameError\u001b[0m                                 Traceback (most recent call last)",
      "Cell \u001b[0;32mIn[10], line 3\u001b[0m\n\u001b[1;32m      1\u001b[0m \u001b[38;5;66;03m# Normalizing the data\u001b[39;00m\n\u001b[1;32m      2\u001b[0m normalized \u001b[38;5;241m=\u001b[39m (\n\u001b[0;32m----> 3\u001b[0m     \u001b[43mdecimated\u001b[49m\u001b[38;5;241m.\u001b[39msort([\u001b[38;5;124m\"\u001b[39m\u001b[38;5;124mtrial_id\u001b[39m\u001b[38;5;124m\"\u001b[39m])  \u001b[38;5;66;03m# Sort within each group if needed\u001b[39;00m\n\u001b[1;32m      4\u001b[0m     \u001b[38;5;241m.\u001b[39mgroup_by(\u001b[38;5;124m\"\u001b[39m\u001b[38;5;124mtrial_id\u001b[39m\u001b[38;5;124m\"\u001b[39m, maintain_order\u001b[38;5;241m=\u001b[39m\u001b[38;5;28;01mTrue\u001b[39;00m)\n\u001b[1;32m      5\u001b[0m     \u001b[38;5;241m.\u001b[39magg(\n\u001b[1;32m      6\u001b[0m         [\n\u001b[1;32m      7\u001b[0m             pl\u001b[38;5;241m.\u001b[39mall()\u001b[38;5;241m.\u001b[39mlimit(\u001b[38;5;241m180\u001b[39m \u001b[38;5;241m*\u001b[39m \u001b[38;5;241m250\u001b[39m)  \u001b[38;5;66;03m# Take the first 9000 rows for each group\u001b[39;00m\n\u001b[1;32m      8\u001b[0m         ]\n\u001b[1;32m      9\u001b[0m     )\n\u001b[1;32m     10\u001b[0m     \u001b[38;5;241m.\u001b[39mexplode(pl\u001b[38;5;241m.\u001b[39mall()\u001b[38;5;241m.\u001b[39mexclude(\u001b[38;5;124m\"\u001b[39m\u001b[38;5;124mtrial_id\u001b[39m\u001b[38;5;124m\"\u001b[39m))  \u001b[38;5;66;03m# Explode the result back into rows\u001b[39;00m\n\u001b[1;32m     11\u001b[0m )\n\u001b[1;32m     12\u001b[0m seed \u001b[38;5;241m=\u001b[39m normalized\u001b[38;5;241m.\u001b[39mget_column(\u001b[38;5;124m\"\u001b[39m\u001b[38;5;124mstimulus_seed\u001b[39m\u001b[38;5;124m\"\u001b[39m)\u001b[38;5;241m.\u001b[39munique()\u001b[38;5;241m.\u001b[39mitem()\n\u001b[1;32m     14\u001b[0m stim \u001b[38;5;241m=\u001b[39m StimulusGenerator(seed\u001b[38;5;241m=\u001b[39mseed, debug\u001b[38;5;241m=\u001b[39m\u001b[38;5;28;01mTrue\u001b[39;00m)\n",
      "\u001b[0;31mNameError\u001b[0m: name 'decimated' is not defined"
     ]
    }
   ],
   "source": [
    "# Normalizing the data\n",
    "normalized = (\n",
    "    decimated.sort([\"trial_id\"])  # Sort within each group if needed\n",
    "    .group_by(\"trial_id\", maintain_order=True)\n",
    "    .agg(\n",
    "        [\n",
    "            pl.all().limit(180 * 250)  # Take the first 9000 rows for each group\n",
    "        ]\n",
    "    )\n",
    "    .explode(pl.all().exclude(\"trial_id\"))  # Explode the result back into rows\n",
    ")\n",
    "seed = normalized.get_column(\"stimulus_seed\").unique().item()\n",
    "\n",
    "stim = StimulusGenerator(seed=seed, debug=True)\n",
    "for _, group in normalized.group_by(\"trial_id\", maintain_order=False):\n",
    "    data = group.get_column(\"c4\").to_numpy().T\n",
    "\n",
    "    fig, ax = plt.subplots(figsize=(10, 6))\n",
    "    ax.specgram(data, Fs=250, NFFT=256, noverlap=128, cmap=\"viridis\")\n",
    "\n",
    "    plt.plot(stim.y[::8] * 12 + 15, color=\"white\", linewidth=0.5)\n",
    "\n",
    "    plt.title(f\"Trial ID: {group['trial_id'][0]}\")\n",
    "    plt.xlabel(\"Time\")\n",
    "    plt.ylabel(\"Frequency\")\n",
    "    plt.ylim(3, 30)\n",
    "\n",
    "    plt.tight_layout()\n",
    "    plt.show()\n"
   ]
  },
  {
   "cell_type": "code",
   "execution_count": null,
   "metadata": {},
   "outputs": [],
   "source": []
  },
  {
   "cell_type": "code",
   "execution_count": null,
   "metadata": {},
   "outputs": [],
   "source": []
  },
  {
   "cell_type": "code",
   "execution_count": null,
   "metadata": {},
   "outputs": [],
   "source": []
  },
  {
   "cell_type": "code",
   "execution_count": null,
   "metadata": {},
   "outputs": [],
   "source": []
  },
  {
   "cell_type": "code",
   "execution_count": null,
   "metadata": {},
   "outputs": [],
   "source": []
  },
  {
   "cell_type": "code",
   "execution_count": null,
   "metadata": {},
   "outputs": [],
   "source": []
  },
  {
   "cell_type": "code",
   "execution_count": null,
   "metadata": {},
   "outputs": [],
   "source": []
  },
  {
   "cell_type": "code",
   "execution_count": null,
   "metadata": {},
   "outputs": [],
   "source": []
  },
  {
   "cell_type": "code",
   "execution_count": null,
   "metadata": {},
   "outputs": [],
   "source": [
    "# Normalizing the data\n",
    "normalized = (\n",
    "    denoised.sort([\"trial_id\"])  # Sort within each group if needed\n",
    "    .group_by(\"trial_id\", maintain_order=True)\n",
    "    .agg(\n",
    "        pl.all().limit(180 * 250)  # Take the first 9000 rows for each group\n",
    "    )\n",
    "    .explode(pl.all().exclude(\"trial_id\"))  # Explode the result back into rows\n",
    ")\n",
    "normalized"
   ]
  }
 ],
 "metadata": {
  "kernelspec": {
   "display_name": "pain",
   "language": "python",
   "name": "python3"
  },
  "language_info": {
   "codemirror_mode": {
    "name": "ipython",
    "version": 3
   },
   "file_extension": ".py",
   "mimetype": "text/x-python",
   "name": "python",
   "nbconvert_exporter": "python",
   "pygments_lexer": "ipython3",
   "version": "3.12.4"
  },
  "orig_nbformat": 4
 },
 "nbformat": 4,
 "nbformat_minor": 2
}
